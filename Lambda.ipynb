{
  "nbformat": 4,
  "nbformat_minor": 0,
  "metadata": {
    "colab": {
      "name": "2_lambda_map.ipynb",
      "provenance": [],
      "include_colab_link": true
    },
    "kernelspec": {
      "name": "python3",
      "display_name": "Python 3"
    }
  },
  "cells": [
    {
      "cell_type": "markdown",
      "metadata": {
        "id": "view-in-github",
        "colab_type": "text"
      },
      "source": [
        "<a href=\"https://colab.research.google.com/github/HyoJInNam/Python/blob/master/Lambda.ipynb\" target=\"_parent\"><img src=\"https://colab.research.google.com/assets/colab-badge.svg\" alt=\"Open In Colab\"/></a>"
      ]
    },
    {
      "cell_type": "markdown",
      "metadata": {
        "id": "-Ecq_a3o7vvD",
        "colab_type": "text"
      },
      "source": [
        "# 람다식(lambda)이란?"
      ]
    },
    {
      "cell_type": "markdown",
      "metadata": {
        "id": "q8IFZEgTUWY6",
        "colab_type": "text"
      },
      "source": [
        "일반 함수\n",
        "```\n",
        "def funcion(arg):\n",
        "    return value\n",
        "```"
      ]
    },
    {
      "cell_type": "markdown",
      "metadata": {
        "id": "81jsc3ciVqPY",
        "colab_type": "text"
      },
      "source": [
        "### 람다\n",
        "```\n",
        "function = lambda arg: value\n",
        "```"
      ]
    },
    {
      "cell_type": "code",
      "metadata": {
        "id": "TQ482G9RnfwQ",
        "colab_type": "code",
        "colab": {
          "base_uri": "https://localhost:8080/",
          "height": 34
        },
        "outputId": "c1d3bce2-de3c-4c25-fd4a-8aebb39af7a3"
      },
      "source": [
        "f = lambda x: x + 2\n",
        "f(2)"
      ],
      "execution_count": 1,
      "outputs": [
        {
          "output_type": "execute_result",
          "data": {
            "text/plain": [
              "4"
            ]
          },
          "metadata": {
            "tags": []
          },
          "execution_count": 1
        }
      ]
    },
    {
      "cell_type": "code",
      "metadata": {
        "id": "5vTGvjoEoFeW",
        "colab_type": "code",
        "colab": {
          "base_uri": "https://localhost:8080/",
          "height": 34
        },
        "outputId": "ef56a683-1e94-438e-a564-546fc5703f1c"
      },
      "source": [
        "f = lambda x,y: x + y\n",
        "f(1,2)"
      ],
      "execution_count": 2,
      "outputs": [
        {
          "output_type": "execute_result",
          "data": {
            "text/plain": [
              "3"
            ]
          },
          "metadata": {
            "tags": []
          },
          "execution_count": 2
        }
      ]
    },
    {
      "cell_type": "code",
      "metadata": {
        "id": "Jkg_b_vMoKuE",
        "colab_type": "code",
        "colab": {
          "base_uri": "https://localhost:8080/",
          "height": 34
        },
        "outputId": "7ab386c8-49a5-49de-d21a-db2d5a00c5f7"
      },
      "source": [
        "(lambda x,y: x + y)(1,2)"
      ],
      "execution_count": 3,
      "outputs": [
        {
          "output_type": "execute_result",
          "data": {
            "text/plain": [
              "3"
            ]
          },
          "metadata": {
            "tags": []
          },
          "execution_count": 3
        }
      ]
    },
    {
      "cell_type": "markdown",
      "metadata": {
        "id": "i8_K9j0AoU9N",
        "colab_type": "text"
      },
      "source": [
        "### 람다를 반환하는 함수\n",
        "- 람다는 필요할 때 바로 정의해서 사용한 후 버리는 일시적인 함수이다."
      ]
    },
    {
      "cell_type": "code",
      "metadata": {
        "id": "wCOmocLkozqY",
        "colab_type": "code",
        "colab": {
          "base_uri": "https://localhost:8080/",
          "height": 52
        },
        "outputId": "b1f8099a-470c-4bfd-fe38-e9f9d64cf405"
      },
      "source": [
        "def sec2other(unit):\n",
        "   return lambda sec: sec/unit\n",
        "\n",
        "sec2min = sec2other(60)\n",
        "sec2hour = sec2other(3600)\n",
        "\n",
        "print(sec2min(180))       # 180초를 분으로 나타내면?\n",
        "print(sec2hour(7200))     # 7200초를 시간으로 나타내면?"
      ],
      "execution_count": 4,
      "outputs": [
        {
          "output_type": "stream",
          "text": [
            "3.0\n",
            "2.0\n"
          ],
          "name": "stdout"
        }
      ]
    },
    {
      "cell_type": "markdown",
      "metadata": {
        "id": "ZEVDxBriUwjg",
        "colab_type": "text"
      },
      "source": [
        "람다를 반환하는 함수\n",
        "```\n",
        "def sec2other(unit):\n",
        "    return lambda sec: sec/unit\n",
        "```\n",
        "\n",
        "반환하는 람다를 받은 변수는 함수이다.\n",
        "```\n",
        "sec2min = sec2other(60)\n",
        "sec2hour = sec2other(3600)\n",
        "```\n",
        "sec2min() 와 sec2hour()을 일반 함수처럼 사용가능하다.\n",
        "```\n",
        "print(sec2min(180))\n",
        "print(sec2hour(7200))\n",
        "```\n",
        "\n",
        "sec2min\n",
        "- unit 60\n",
        "- sec = 180\n",
        "\n",
        "sechour\n",
        "- unit = 3600\n",
        "- sec = 7200\n"
      ]
    },
    {
      "cell_type": "markdown",
      "metadata": {
        "id": "n8VgaYwS4J5_",
        "colab_type": "text"
      },
      "source": [
        "## 예제1. 초(sec)를 일(day)로 나타내보세요."
      ]
    },
    {
      "cell_type": "code",
      "metadata": {
        "id": "23W2d974pWYq",
        "colab_type": "code",
        "colab": {
          "base_uri": "https://localhost:8080/",
          "height": 34
        },
        "outputId": "35d19d4c-6668-459b-e324-50baa4d24186"
      },
      "source": [
        "# 초(sec)를 일(day)로 나타내 보세요.\n",
        "sec2day = sec2other(86400) # 1일 = 60초*60분*24시간 = 86400초\n",
        "print(sec2day(172800))"
      ],
      "execution_count": 5,
      "outputs": [
        {
          "output_type": "stream",
          "text": [
            "2.0\n"
          ],
          "name": "stdout"
        }
      ]
    },
    {
      "cell_type": "markdown",
      "metadata": {
        "id": "Ey5vOJBx7kVC",
        "colab_type": "text"
      },
      "source": [
        "## 예제2. 환율계산기를 만들어 보세요."
      ]
    },
    {
      "cell_type": "code",
      "metadata": {
        "id": "4YFT0lVQijIc",
        "colab_type": "code",
        "colab": {
          "base_uri": "https://localhost:8080/",
          "height": 52
        },
        "outputId": "5b9f1a05-0a66-40e0-96e7-732d55ae65db"
      },
      "source": [
        "def other2won(unit):\n",
        "   return lambda price: price*unit\n",
        "\n",
        "usd2won = other2won(1204.00) #달러환율\n",
        "eur2won = other2won(1395.07) #유로환율\n",
        "\n",
        "print(usd2won(10)) #10달러는 한국돈으로 얼마?\n",
        "print(eur2won(15)) #15유로는 한국돈으로 얼마?"
      ],
      "execution_count": 6,
      "outputs": [
        {
          "output_type": "stream",
          "text": [
            "12040.0\n",
            "20926.05\n"
          ],
          "name": "stdout"
        }
      ]
    },
    {
      "cell_type": "markdown",
      "metadata": {
        "id": "XDkFmigJALmH",
        "colab_type": "text"
      },
      "source": [
        "- 앞의 예제에서 lambda를 이용해 함수 정의를 그때 그때 바꿀 수 있어 편리했고, 확장 가능성을 볼 수 있었습니다.\n",
        "- 함수도 변수와 같이 객체처럼 다루고 있기때문에 일시적으로 사용한다는 것을 알 수 있었습니다. (변수라는 것도 계속 사용한다기 보다는 계산 상 혹은 잠시 값을 저장하는 용도로 일시적으로 사용하고 버리기는 경우가 대부분)"
      ]
    },
    {
      "cell_type": "markdown",
      "metadata": {
        "id": "SMxKXU3-7hQW",
        "colab_type": "text"
      },
      "source": [
        "# lambda와 map의 만남\n",
        "- 입력이 여러개일 때, for문을 돌면서 함수를 여러 번 호출할 수 있지만 map을 이용해 쉽게 구현할 수 있습니다.\n",
        "- 함수를 객체처럼 다뤄서 일시적으로 사용한 예제를 살펴봅시다."
      ]
    },
    {
      "cell_type": "markdown",
      "metadata": {
        "id": "Ge94NPs_kWbi",
        "colab_type": "text"
      },
      "source": [
        "다음은 무엇을 하는 걸까요? 결과는 무엇인가요?\n",
        "![대체 텍스트](http://tykimos.github.io/warehouse/2020-1-1-Python_Lambda_Map_1.png)"
      ]
    },
    {
      "cell_type": "code",
      "metadata": {
        "id": "nVRnxJIbkUMk",
        "colab_type": "code",
        "colab": {}
      },
      "source": [
        "list(map(lambda x:(x//10)*(x%10), range(10,100)))"
      ],
      "execution_count": null,
      "outputs": []
    },
    {
      "cell_type": "code",
      "metadata": {
        "id": "mukV2KESh_2x",
        "colab_type": "code",
        "colab": {}
      },
      "source": [
        "# 1부터 5까지의 제곱 구하기\n",
        "def calc(x):\n",
        "  return x*x\n",
        "\n",
        "for i in range(1,6):\n",
        "  print(calc(i))"
      ],
      "execution_count": null,
      "outputs": []
    },
    {
      "cell_type": "code",
      "metadata": {
        "id": "WxdlQXSai7sk",
        "colab_type": "code",
        "colab": {}
      },
      "source": [
        "# map 함수를 이용해서 구하기\n",
        "def calc(x):\n",
        "  return x*x\n",
        "\n",
        "list(map(calc, range(1,6)))"
      ],
      "execution_count": null,
      "outputs": []
    },
    {
      "cell_type": "code",
      "metadata": {
        "id": "hsskdUacjFha",
        "colab_type": "code",
        "colab": {}
      },
      "source": [
        "# map함수의 첫 번째 인자에서 기능 지정하기\n",
        "list(map(lambda x:x*x, range(1,6)))"
      ],
      "execution_count": null,
      "outputs": []
    },
    {
      "cell_type": "code",
      "metadata": {
        "id": "vBr3v0GRja99",
        "colab_type": "code",
        "colab": {}
      },
      "source": [
        "# 하나의 입력에 두 개의 인자 넘기기\n",
        "input1 = [1,3,5,7,9]\n",
        "input2 = [2,4,6,8,10]\n",
        "\n",
        "list(map(lambda x,y:x+y, input1, input2))"
      ],
      "execution_count": null,
      "outputs": []
    },
    {
      "cell_type": "markdown",
      "metadata": {
        "id": "QzvgGIxUj_Jb",
        "colab_type": "text"
      },
      "source": [
        "## 예제1. 구구단 만들기"
      ]
    },
    {
      "cell_type": "code",
      "metadata": {
        "id": "Jtk5QCgPjrkp",
        "colab_type": "code",
        "colab": {}
      },
      "source": [
        "list(map(lambda x:(x//10)*(x%10), range(10,100)))"
      ],
      "execution_count": null,
      "outputs": []
    },
    {
      "cell_type": "code",
      "metadata": {
        "id": "vosj8lO6kIv2",
        "colab_type": "code",
        "colab": {}
      },
      "source": [
        "alist = list(map(lambda x:str(x//10)+'x'+str(x%10)+'='+str((x//10)*(x%10)), range(10,100)))"
      ],
      "execution_count": null,
      "outputs": []
    },
    {
      "cell_type": "code",
      "metadata": {
        "id": "ILCsE4MhkwSx",
        "colab_type": "code",
        "colab": {}
      },
      "source": [
        "import numpy as np\n",
        "arr = np.array(alist)\n",
        "arr.reshape(9,10)"
      ],
      "execution_count": null,
      "outputs": []
    },
    {
      "cell_type": "markdown",
      "metadata": {
        "id": "ylMAGXShmDa8",
        "colab_type": "text"
      },
      "source": [
        "## 예제2. 369게임"
      ]
    },
    {
      "cell_type": "code",
      "metadata": {
        "id": "G2-7j5halNbo",
        "colab_type": "code",
        "colab": {}
      },
      "source": [
        "# 1단계. 3의 배수이면 박수치기\n",
        "\n",
        "list(map(lambda x: '짝' if x % 3 == 0 else x, range(1, 10)))"
      ],
      "execution_count": null,
      "outputs": []
    },
    {
      "cell_type": "code",
      "metadata": {
        "id": "YybxLufJmLJn",
        "colab_type": "code",
        "colab": {}
      },
      "source": [
        "# 2단계. 3,6,9 중 하나가 들어가면 박수치기\n",
        "\n",
        "list(map(lambda x: '짝' if str(x).find('3') >= 0 or str(x).find('6') >= 0 or str(x).find('9') >= 0 else x, range(1, 20)))"
      ],
      "execution_count": null,
      "outputs": []
    },
    {
      "cell_type": "code",
      "metadata": {
        "id": "N8K-ASIMmixP",
        "colab_type": "code",
        "colab": {}
      },
      "source": [
        "# 3단계. 3의 배수이거나, 3,6,9 중 하나가 들어가면 박수치기\n",
        "\n",
        "list(map(lambda x: '짝' if x%3 == 0 or str(x).find('3') >= 0 or str(x).find('6') >= 0 or str(x).find('9') >= 0 else x, range(1, 20)))"
      ],
      "execution_count": null,
      "outputs": []
    },
    {
      "cell_type": "code",
      "metadata": {
        "id": "GV3oLGVsmuV6",
        "colab_type": "code",
        "colab": {}
      },
      "source": [
        "# 실제 369게임은 3의 배수이거나, 3이 들어가면 박수를 칩니다.\n",
        "\n",
        "list(map(lambda x: '짝' if x%3 == 0 or str(x).find('3') >= 0 else x, range(1, 20)))"
      ],
      "execution_count": null,
      "outputs": []
    },
    {
      "cell_type": "code",
      "metadata": {
        "id": "POpEGod6nCfR",
        "colab_type": "code",
        "colab": {}
      },
      "source": [
        ""
      ],
      "execution_count": null,
      "outputs": []
    }
  ]
}