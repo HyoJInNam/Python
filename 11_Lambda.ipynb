{
  "nbformat": 4,
  "nbformat_minor": 0,
  "metadata": {
    "colab": {
      "name": "11_Lambda.ipynb",
      "provenance": [],
      "include_colab_link": true
    },
    "kernelspec": {
      "name": "python3",
      "display_name": "Python 3"
    }
  },
  "cells": [
    {
      "cell_type": "markdown",
      "metadata": {
        "id": "view-in-github",
        "colab_type": "text"
      },
      "source": [
        "<a href=\"https://colab.research.google.com/github/HyoJInNam/Python/blob/master/11_Lambda.ipynb\" target=\"_parent\"><img src=\"https://colab.research.google.com/assets/colab-badge.svg\" alt=\"Open In Colab\"/></a>"
      ]
    },
    {
      "cell_type": "markdown",
      "metadata": {
        "id": "-Ecq_a3o7vvD",
        "colab_type": "text"
      },
      "source": [
        "# 람다식(lambda)이란?"
      ]
    },
    {
      "cell_type": "markdown",
      "metadata": {
        "id": "q8IFZEgTUWY6",
        "colab_type": "text"
      },
      "source": [
        "일반 함수\n",
        "```\n",
        "def funcion(arg):\n",
        "    return value\n",
        "```"
      ]
    },
    {
      "cell_type": "markdown",
      "metadata": {
        "id": "81jsc3ciVqPY",
        "colab_type": "text"
      },
      "source": [
        "### 람다\n",
        "```\n",
        "function = lambda arg: value\n",
        "```"
      ]
    },
    {
      "cell_type": "code",
      "metadata": {
        "id": "TQ482G9RnfwQ",
        "colab_type": "code",
        "colab": {
          "base_uri": "https://localhost:8080/",
          "height": 34
        },
        "outputId": "c1d3bce2-de3c-4c25-fd4a-8aebb39af7a3"
      },
      "source": [
        "f = lambda x: x + 2\n",
        "f(2)"
      ],
      "execution_count": 1,
      "outputs": [
        {
          "output_type": "execute_result",
          "data": {
            "text/plain": [
              "4"
            ]
          },
          "metadata": {
            "tags": []
          },
          "execution_count": 1
        }
      ]
    },
    {
      "cell_type": "code",
      "metadata": {
        "id": "5vTGvjoEoFeW",
        "colab_type": "code",
        "colab": {
          "base_uri": "https://localhost:8080/",
          "height": 34
        },
        "outputId": "ef56a683-1e94-438e-a564-546fc5703f1c"
      },
      "source": [
        "f = lambda x,y: x + y\n",
        "f(1,2)"
      ],
      "execution_count": 2,
      "outputs": [
        {
          "output_type": "execute_result",
          "data": {
            "text/plain": [
              "3"
            ]
          },
          "metadata": {
            "tags": []
          },
          "execution_count": 2
        }
      ]
    },
    {
      "cell_type": "code",
      "metadata": {
        "id": "Jkg_b_vMoKuE",
        "colab_type": "code",
        "colab": {
          "base_uri": "https://localhost:8080/",
          "height": 34
        },
        "outputId": "7ab386c8-49a5-49de-d21a-db2d5a00c5f7"
      },
      "source": [
        "(lambda x,y: x + y)(1,2)"
      ],
      "execution_count": 3,
      "outputs": [
        {
          "output_type": "execute_result",
          "data": {
            "text/plain": [
              "3"
            ]
          },
          "metadata": {
            "tags": []
          },
          "execution_count": 3
        }
      ]
    },
    {
      "cell_type": "markdown",
      "metadata": {
        "id": "i8_K9j0AoU9N",
        "colab_type": "text"
      },
      "source": [
        "### 람다를 반환하는 함수\n",
        "- 람다는 필요할 때 바로 정의해서 사용한 후 버리는 일시적인 함수이다."
      ]
    },
    {
      "cell_type": "code",
      "metadata": {
        "id": "wCOmocLkozqY",
        "colab_type": "code",
        "colab": {
          "base_uri": "https://localhost:8080/",
          "height": 52
        },
        "outputId": "b1f8099a-470c-4bfd-fe38-e9f9d64cf405"
      },
      "source": [
        "def sec2other(unit):\n",
        "   return lambda sec: sec/unit\n",
        "\n",
        "sec2min = sec2other(60)\n",
        "sec2hour = sec2other(3600)\n",
        "\n",
        "print(sec2min(180))       # 180초를 분으로 나타내면?\n",
        "print(sec2hour(7200))     # 7200초를 시간으로 나타내면?"
      ],
      "execution_count": 4,
      "outputs": [
        {
          "output_type": "stream",
          "text": [
            "3.0\n",
            "2.0\n"
          ],
          "name": "stdout"
        }
      ]
    },
    {
      "cell_type": "markdown",
      "metadata": {
        "id": "ZEVDxBriUwjg",
        "colab_type": "text"
      },
      "source": [
        "람다를 반환하는 함수\n",
        "```\n",
        "def sec2other(unit):\n",
        "    return lambda sec: sec/unit\n",
        "```\n",
        "\n",
        "반환하는 람다를 받은 변수는 함수이다.\n",
        "```\n",
        "sec2min = sec2other(60)\n",
        "sec2hour = sec2other(3600)\n",
        "```\n",
        "sec2min() 와 sec2hour()을 일반 함수처럼 사용가능하다.\n",
        "```\n",
        "print(sec2min(180))\n",
        "print(sec2hour(7200))\n",
        "```\n",
        "\n",
        "sec2min\n",
        "- unit 60\n",
        "- sec = 180\n",
        "\n",
        "sechour\n",
        "- unit = 3600\n",
        "- sec = 7200\n"
      ]
    },
    {
      "cell_type": "markdown",
      "metadata": {
        "id": "n8VgaYwS4J5_",
        "colab_type": "text"
      },
      "source": [
        "## 예제1. 초(sec)를 일(day)로 나타내보세요."
      ]
    },
    {
      "cell_type": "code",
      "metadata": {
        "id": "23W2d974pWYq",
        "colab_type": "code",
        "colab": {
          "base_uri": "https://localhost:8080/",
          "height": 34
        },
        "outputId": "35d19d4c-6668-459b-e324-50baa4d24186"
      },
      "source": [
        "# 초(sec)를 일(day)로 나타내 보세요.\n",
        "sec2day = sec2other(86400) # 1일 = 60초*60분*24시간 = 86400초\n",
        "print(sec2day(172800))"
      ],
      "execution_count": 5,
      "outputs": [
        {
          "output_type": "stream",
          "text": [
            "2.0\n"
          ],
          "name": "stdout"
        }
      ]
    },
    {
      "cell_type": "code",
      "metadata": {
        "id": "8j8gxCcPaDUv",
        "colab_type": "code",
        "colab": {
          "base_uri": "https://localhost:8080/",
          "height": 70
        },
        "outputId": "5f0bd3bc-51e3-4a21-f5b1-199a18f1d78f"
      },
      "source": [
        "unit = {'min': 60, 'hour':3600, 'day':86400}\n",
        "\n",
        "def sec2other(key, sec):\n",
        "    return (sec/unit[key])\n",
        "    #return lambda sec / unit[key]\n",
        "\n",
        "print(sec2other('min', 180))\n",
        "print(sec2other('hour', 7200))\n",
        "print(sec2other('day', 172800))"
      ],
      "execution_count": 22,
      "outputs": [
        {
          "output_type": "stream",
          "text": [
            "3.0\n",
            "2.0\n",
            "2.0\n"
          ],
          "name": "stdout"
        }
      ]
    },
    {
      "cell_type": "markdown",
      "metadata": {
        "id": "Ey5vOJBx7kVC",
        "colab_type": "text"
      },
      "source": [
        "## 예제2. 환율계산기를 만들어 보세요."
      ]
    },
    {
      "cell_type": "code",
      "metadata": {
        "id": "4YFT0lVQijIc",
        "colab_type": "code",
        "colab": {
          "base_uri": "https://localhost:8080/",
          "height": 52
        },
        "outputId": "5b9f1a05-0a66-40e0-96e7-732d55ae65db"
      },
      "source": [
        "def other2won(unit):\n",
        "   return lambda price: price*unit\n",
        "\n",
        "usd2won = other2won(1204.00) #달러환율\n",
        "eur2won = other2won(1395.07) #유로환율\n",
        "\n",
        "print(usd2won(10)) #10달러는 한국돈으로 얼마?\n",
        "print(eur2won(15)) #15유로는 한국돈으로 얼마?"
      ],
      "execution_count": 6,
      "outputs": [
        {
          "output_type": "stream",
          "text": [
            "12040.0\n",
            "20926.05\n"
          ],
          "name": "stdout"
        }
      ]
    },
    {
      "cell_type": "markdown",
      "metadata": {
        "id": "XDkFmigJALmH",
        "colab_type": "text"
      },
      "source": [
        "- 앞의 예제에서 lambda를 이용해 함수 정의를 그때 그때 바꿀 수 있어 편리했고, 확장 가능성을 볼 수 있었습니다.\n",
        "- 함수도 변수와 같이 객체처럼 다루고 있기때문에 일시적으로 사용한다는 것을 알 수 있었습니다. (변수라는 것도 계속 사용한다기 보다는 계산 상 혹은 잠시 값을 저장하는 용도로 일시적으로 사용하고 버리기는 경우가 대부분)"
      ]
    }
  ]
}