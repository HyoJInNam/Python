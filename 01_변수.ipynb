{
  "nbformat": 4,
  "nbformat_minor": 0,
  "metadata": {
    "colab": {
      "name": "python_01_변수.ipynb",
      "provenance": [],
      "collapsed_sections": [],
      "authorship_tag": "ABX9TyNNKzHoB1JEMLvD8Oh+joA4",
      "include_colab_link": true
    },
    "kernelspec": {
      "name": "python3",
      "display_name": "Python 3"
    }
  },
  "cells": [
    {
      "cell_type": "markdown",
      "metadata": {
        "id": "view-in-github",
        "colab_type": "text"
      },
      "source": [
        "<a href=\"https://colab.research.google.com/github/HyoJInNam/Python/blob/master/01_%EB%B3%80%EC%88%98.ipynb\" target=\"_parent\"><img src=\"https://colab.research.google.com/assets/colab-badge.svg\" alt=\"Open In Colab\"/></a>"
      ]
    },
    {
      "cell_type": "markdown",
      "metadata": {
        "id": "K4Wnx16p-gex",
        "colab_type": "text"
      },
      "source": [
        "# 변수"
      ]
    },
    {
      "cell_type": "code",
      "metadata": {
        "id": "5q9vKXftzy1A",
        "colab_type": "code",
        "colab": {
          "base_uri": "https://localhost:8080/",
          "height": 34
        },
        "outputId": "90c5df47-1984-4536-fb2b-66a9e3b3d7bc"
      },
      "source": [
        "professor = \"Sungchul Choi\"\n",
        "print(professor)"
      ],
      "execution_count": 1,
      "outputs": [
        {
          "output_type": "stream",
          "text": [
            "Sungchul Choi\n"
          ],
          "name": "stdout"
        }
      ]
    },
    {
      "cell_type": "code",
      "metadata": {
        "id": "hh_ZETp10KYe",
        "colab_type": "code",
        "colab": {
          "base_uri": "https://localhost:8080/",
          "height": 52
        },
        "outputId": "74031546-9ba7-4ed4-ba07-06b79d2db027"
      },
      "source": [
        "a = 7\n",
        "b = 5\n",
        "print(a+b)\n",
        "print(\"a + b\")"
      ],
      "execution_count": 2,
      "outputs": [
        {
          "output_type": "stream",
          "text": [
            "12\n",
            "a + b\n"
          ],
          "name": "stdout"
        }
      ]
    },
    {
      "cell_type": "code",
      "metadata": {
        "id": "caXIz6J60Nxu",
        "colab_type": "code",
        "colab": {
          "base_uri": "https://localhost:8080/",
          "height": 34
        },
        "outputId": "2b074c30-2f93-4721-91a0-890f31cd0668"
      },
      "source": [
        "a = 7\n",
        "b = 3.5\n",
        "c = 'ABC'\n",
        "d = \"101010\"\n",
        "e = True\n",
        "print(a, b, c, d, e)"
      ],
      "execution_count": 3,
      "outputs": [
        {
          "output_type": "stream",
          "text": [
            "7 3.5 ABC 101010 True\n"
          ],
          "name": "stdout"
        }
      ]
    },
    {
      "cell_type": "markdown",
      "metadata": {
        "id": "lSfTW48H-OaN",
        "colab_type": "text"
      },
      "source": [
        "# 연산자"
      ]
    },
    {
      "cell_type": "code",
      "metadata": {
        "id": "nSNbp0VP0Pt1",
        "colab_type": "code",
        "colab": {
          "base_uri": "https://localhost:8080/",
          "height": 158
        },
        "outputId": "4ca79277-a8f9-4011-fb52-f38d03298fe1"
      },
      "source": [
        "print(25 + 30)\n",
        "print(30 -12)\n",
        "print(50 * 3)\n",
        "print(30 / 5) # 나누기 float 형\n",
        "print(3 ** 5)\n",
        "print(3*3*3*3*3)\n",
        "print(7//2)   # 나누기: 몫\n",
        "print(7%2)    # 나누기: 나머지"
      ],
      "execution_count": 4,
      "outputs": [
        {
          "output_type": "stream",
          "text": [
            "55\n",
            "18\n",
            "150\n",
            "6.0\n",
            "243\n",
            "243\n",
            "3\n",
            "1\n"
          ],
          "name": "stdout"
        }
      ]
    },
    {
      "cell_type": "markdown",
      "metadata": {
        "id": "y3d_-9Wp0UeZ",
        "colab_type": "text"
      },
      "source": [
        "# 증감 연산자\n",
        "*error*: ++a, a++, --a, a--"
      ]
    },
    {
      "cell_type": "code",
      "metadata": {
        "id": "F1s2vEn80T1c",
        "colab_type": "code",
        "colab": {
          "base_uri": "https://localhost:8080/",
          "height": 70
        },
        "outputId": "f67de932-d237-4ce4-fc44-9398b292c93a"
      },
      "source": [
        "a = 1\n",
        "a = a + 1\n",
        "print(a)\n",
        "a += 1\n",
        "print(a)\n",
        "a = a - 1\n",
        "a -= 1\n",
        "print(a)"
      ],
      "execution_count": 5,
      "outputs": [
        {
          "output_type": "stream",
          "text": [
            "2\n",
            "3\n",
            "1\n"
          ],
          "name": "stdout"
        }
      ]
    },
    {
      "cell_type": "markdown",
      "metadata": {
        "id": "gRhjXXnR0dlB",
        "colab_type": "text"
      },
      "source": [
        "# 자료형변환"
      ]
    },
    {
      "cell_type": "code",
      "metadata": {
        "id": "G8U6IRDu0bEK",
        "colab_type": "code",
        "colab": {
          "base_uri": "https://localhost:8080/",
          "height": 52
        },
        "outputId": "a706f09e-f47c-4535-8e63-a180e76a1077"
      },
      "source": [
        "a = 10\n",
        "print(a)\n",
        "a = float(10)\n",
        "print(a)"
      ],
      "execution_count": 6,
      "outputs": [
        {
          "output_type": "stream",
          "text": [
            "10\n",
            "10.0\n"
          ],
          "name": "stdout"
        }
      ]
    },
    {
      "cell_type": "code",
      "metadata": {
        "id": "c_DDzQ3Q0iZr",
        "colab_type": "code",
        "colab": {
          "base_uri": "https://localhost:8080/",
          "height": 52
        },
        "outputId": "0dea6d87-f7c6-402e-88ad-71ff4e3d1949"
      },
      "source": [
        "a = 10\n",
        "b = 3\n",
        "print(a/b)\n",
        "print(int(a/b))"
      ],
      "execution_count": 7,
      "outputs": [
        {
          "output_type": "stream",
          "text": [
            "3.3333333333333335\n",
            "3\n"
          ],
          "name": "stdout"
        }
      ]
    },
    {
      "cell_type": "code",
      "metadata": {
        "id": "5HpHjYZ90lCg",
        "colab_type": "code",
        "colab": {
          "base_uri": "https://localhost:8080/",
          "height": 52
        },
        "outputId": "f96dd68c-24a8-4551-9047-fc40500dc055"
      },
      "source": [
        "print(float(\"0\"))\n",
        "print(str(5))"
      ],
      "execution_count": 8,
      "outputs": [
        {
          "output_type": "stream",
          "text": [
            "0.0\n",
            "5\n"
          ],
          "name": "stdout"
        }
      ]
    },
    {
      "cell_type": "code",
      "metadata": {
        "id": "ibjs7cWC0ojL",
        "colab_type": "code",
        "colab": {
          "base_uri": "https://localhost:8080/",
          "height": 70
        },
        "outputId": "933838a3-4ff4-4e4f-a7aa-8d6af67f8d2a"
      },
      "source": [
        "a = int (10.7)\n",
        "b = int (10.3)\n",
        "print(a+b)\n",
        "print(a)\n",
        "print(b)"
      ],
      "execution_count": 9,
      "outputs": [
        {
          "output_type": "stream",
          "text": [
            "20\n",
            "10\n",
            "10\n"
          ],
          "name": "stdout"
        }
      ]
    },
    {
      "cell_type": "markdown",
      "metadata": {
        "id": "uYEgyXDk0qKx",
        "colab_type": "text"
      },
      "source": [
        "# 형 변환 하지 않아도 형 변환이 일어난는 경우"
      ]
    },
    {
      "cell_type": "code",
      "metadata": {
        "id": "xy8g2zsj0pwt",
        "colab_type": "code",
        "colab": {
          "base_uri": "https://localhost:8080/",
          "height": 70
        },
        "outputId": "ab43dc06-f121-464f-d345-90c5476ca08e"
      },
      "source": [
        "print(1 == True)\n",
        "print(\"\" == True)\n",
        "print(a is b)"
      ],
      "execution_count": 10,
      "outputs": [
        {
          "output_type": "stream",
          "text": [
            "True\n",
            "False\n",
            "True\n"
          ],
          "name": "stdout"
        }
      ]
    },
    {
      "cell_type": "markdown",
      "metadata": {
        "id": "Y5YCWBQJ2HXX",
        "colab_type": "text"
      },
      "source": [
        "# 문자열 끼리 사칙연산"
      ]
    },
    {
      "cell_type": "code",
      "metadata": {
        "id": "yQ5pfJ990sDU",
        "colab_type": "code",
        "colab": {
          "base_uri": "https://localhost:8080/",
          "height": 52
        },
        "outputId": "f8d025a3-d45f-41cd-f79a-c6b6e5f21281"
      },
      "source": [
        "a = 'abc' * 3\n",
        "print(a)\n",
        "b = 'def'\n",
        "print(a + b)"
      ],
      "execution_count": 11,
      "outputs": [
        {
          "output_type": "stream",
          "text": [
            "abcabcabc\n",
            "abcabcabcdef\n"
          ],
          "name": "stdout"
        }
      ]
    },
    {
      "cell_type": "code",
      "metadata": {
        "id": "FMR6oUgo4GDq",
        "colab_type": "code",
        "colab": {
          "base_uri": "https://localhost:8080/",
          "height": 35
        },
        "outputId": "5ba25cb6-597e-4aeb-8133-25439b83c3e7"
      },
      "source": [
        "a = 'abc';b = 'def';a+b"
      ],
      "execution_count": 12,
      "outputs": [
        {
          "output_type": "execute_result",
          "data": {
            "application/vnd.google.colaboratory.intrinsic+json": {
              "type": "string"
            },
            "text/plain": [
              "'abcdef'"
            ]
          },
          "metadata": {
            "tags": []
          },
          "execution_count": 12
        }
      ]
    },
    {
      "cell_type": "markdown",
      "metadata": {
        "id": "dUYhKehh4Yn6",
        "colab_type": "text"
      },
      "source": [
        "# python 자료형 확인"
      ]
    },
    {
      "cell_type": "code",
      "metadata": {
        "id": "QDFyZfhh4HmM",
        "colab_type": "code",
        "colab": {
          "base_uri": "https://localhost:8080/",
          "height": 34
        },
        "outputId": "6564953c-86fa-477f-ea15-b6d81b71fdbc"
      },
      "source": [
        "type(a)"
      ],
      "execution_count": 13,
      "outputs": [
        {
          "output_type": "execute_result",
          "data": {
            "text/plain": [
              "str"
            ]
          },
          "metadata": {
            "tags": []
          },
          "execution_count": 13
        }
      ]
    },
    {
      "cell_type": "markdown",
      "metadata": {
        "id": "lQZgIDaj4hW0",
        "colab_type": "text"
      },
      "source": [
        "# input: 입력한 값은 무조건 문자열"
      ]
    },
    {
      "cell_type": "code",
      "metadata": {
        "id": "dQGFcXmR4aIs",
        "colab_type": "code",
        "colab": {
          "base_uri": "https://localhost:8080/",
          "height": 52
        },
        "outputId": "bf40fd27-5855-48d3-d735-fe8aa5b0241d"
      },
      "source": [
        "temperature = float(input(\"온도 입력: \"))\n",
        "print(temperature)"
      ],
      "execution_count": 14,
      "outputs": [
        {
          "output_type": "stream",
          "text": [
            "온도 입력: 36.2\n",
            "36.2\n"
          ],
          "name": "stdout"
        }
      ]
    },
    {
      "cell_type": "code",
      "metadata": {
        "id": "glWaJ-mR4jZq",
        "colab_type": "code",
        "colab": {
          "base_uri": "https://localhost:8080/",
          "height": 70
        },
        "outputId": "9d37b50b-8e9d-4e16-9ae0-0998c29e43f2"
      },
      "source": [
        "a = input('a = ')\n",
        "b = input('b = ')\n",
        "print(a + b)"
      ],
      "execution_count": 15,
      "outputs": [
        {
          "output_type": "stream",
          "text": [
            "a = 3\n",
            "b = 5\n",
            "35\n"
          ],
          "name": "stdout"
        }
      ]
    },
    {
      "cell_type": "code",
      "metadata": {
        "id": "PpdZSaL-4o9O",
        "colab_type": "code",
        "colab": {
          "base_uri": "https://localhost:8080/",
          "height": 87
        },
        "outputId": "cfedeb19-80d3-4d1d-b830-30a412696b8b"
      },
      "source": [
        "# Lab: 화씨 온도 변환기\n",
        "F = float(input(\"섭씨 온도는 몇 도 인가요? \")) * 1.8 + 32\n",
        "print(\"화씨 온도는\" + str(F) + \"도 입니다.\")\n",
        "# + 띄어쓰기 x\n",
        "# , 띄어쓰기 o\n",
        "c = float(input(\"섭씨 온도는 몇 도 인가요? \"))\n",
        "print(\"화씨 온도는\", c*1.8 + 32, \"도 입니다.\")"
      ],
      "execution_count": 17,
      "outputs": [
        {
          "output_type": "stream",
          "text": [
            "섭씨 온도는 몇 도 인가요? 18\n",
            "화씨 온도는64.4도 입니다.\n",
            "섭씨 온도는 몇 도 인가요? 18\n",
            "화씨 온도는 64.4 도 입니다.\n"
          ],
          "name": "stdout"
        }
      ]
    }
  ]
}