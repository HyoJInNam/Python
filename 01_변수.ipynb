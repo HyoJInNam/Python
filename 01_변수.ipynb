{
  "nbformat": 4,
  "nbformat_minor": 0,
  "metadata": {
    "colab": {
      "name": "python_01_변수.ipynb",
      "provenance": [],
      "collapsed_sections": [],
      "authorship_tag": "ABX9TyNNKzHoB1JEMLvD8Oh+joA4",
      "include_colab_link": true
    },
    "kernelspec": {
      "name": "python3",
      "display_name": "Python 3"
    }
  },
  "cells": [
    {
      "cell_type": "markdown",
      "metadata": {
        "id": "view-in-github",
        "colab_type": "text"
      },
      "source": [
        "<a href=\"https://colab.research.google.com/github/HyoJInNam/Python/blob/master/01_%EB%B3%80%EC%88%98.ipynb\" target=\"_parent\"><img src=\"https://colab.research.google.com/assets/colab-badge.svg\" alt=\"Open In Colab\"/></a>"
      ]
    },
    {
      "cell_type": "markdown",
      "metadata": {
        "id": "K4Wnx16p-gex",
        "colab_type": "text"
      },
      "source": [
        "# 변수"
      ]
    },
    {
      "cell_type": "code",
      "metadata": {
        "id": "5q9vKXftzy1A",
        "colab_type": "code",
        "colab": {}
      },
      "source": [
        "professor = \"Sungchul Choi\"\n",
        "print(professor)"
      ],
      "execution_count": null,
      "outputs": []
    },
    {
      "cell_type": "code",
      "metadata": {
        "id": "hh_ZETp10KYe",
        "colab_type": "code",
        "colab": {}
      },
      "source": [
        "a = 7\n",
        "b = 5\n",
        "print(a+b)\n",
        "print(\"a + b\")"
      ],
      "execution_count": null,
      "outputs": []
    },
    {
      "cell_type": "code",
      "metadata": {
        "id": "caXIz6J60Nxu",
        "colab_type": "code",
        "colab": {}
      },
      "source": [
        "a = 7\n",
        "b = 3.5\n",
        "c = 'ABC'\n",
        "d = \"101010\"\n",
        "e = True\n",
        "print(a, b, c, d, e)"
      ],
      "execution_count": null,
      "outputs": []
    },
    {
      "cell_type": "markdown",
      "metadata": {
        "id": "lSfTW48H-OaN",
        "colab_type": "text"
      },
      "source": [
        "# 연산자"
      ]
    },
    {
      "cell_type": "code",
      "metadata": {
        "id": "nSNbp0VP0Pt1",
        "colab_type": "code",
        "colab": {
          "base_uri": "https://localhost:8080/",
          "height": 158
        },
        "outputId": "89aae5c3-062a-476f-f80a-9572f728810e"
      },
      "source": [
        "print(25 + 30)\n",
        "print(30 -12)\n",
        "print(50 * 3)\n",
        "print(30 / 5) # 나누기 float 형\n",
        "print(3 ** 5)\n",
        "print(3*3*3*3*3)\n",
        "print(7//2)   # 나누기: 몫\n",
        "print(7%2)    # 나누기: 나머지"
      ],
      "execution_count": null,
      "outputs": [
        {
          "output_type": "stream",
          "text": [
            "55\n",
            "18\n",
            "150\n",
            "6.0\n",
            "243\n",
            "243\n",
            "3\n",
            "1\n"
          ],
          "name": "stdout"
        }
      ]
    },
    {
      "cell_type": "markdown",
      "metadata": {
        "id": "y3d_-9Wp0UeZ",
        "colab_type": "text"
      },
      "source": [
        "# 증감 연산자\n",
        "*error*: ++a, a++, --a, a--"
      ]
    },
    {
      "cell_type": "code",
      "metadata": {
        "id": "F1s2vEn80T1c",
        "colab_type": "code",
        "colab": {}
      },
      "source": [
        "a = 1\n",
        "a = a + 1\n",
        "print(a)\n",
        "a += 1\n",
        "print(a)\n",
        "a = a - 1\n",
        "a -= 1\n",
        "print(a)"
      ],
      "execution_count": null,
      "outputs": []
    },
    {
      "cell_type": "markdown",
      "metadata": {
        "id": "gRhjXXnR0dlB",
        "colab_type": "text"
      },
      "source": [
        "# 자료형변환"
      ]
    },
    {
      "cell_type": "code",
      "metadata": {
        "id": "G8U6IRDu0bEK",
        "colab_type": "code",
        "colab": {}
      },
      "source": [
        "a = 10\n",
        "print(a)\n",
        "a = float(10)\n",
        "print(a)"
      ],
      "execution_count": null,
      "outputs": []
    },
    {
      "cell_type": "code",
      "metadata": {
        "id": "c_DDzQ3Q0iZr",
        "colab_type": "code",
        "colab": {
          "base_uri": "https://localhost:8080/",
          "height": 52
        },
        "outputId": "da6e3c20-265f-4942-b12f-3cb69094fb20"
      },
      "source": [
        "a = 10\n",
        "b = 3\n",
        "print(a/b)\n",
        "print(int(a/b))"
      ],
      "execution_count": null,
      "outputs": [
        {
          "output_type": "stream",
          "text": [
            "3.3333333333333335\n",
            "3\n"
          ],
          "name": "stdout"
        }
      ]
    },
    {
      "cell_type": "code",
      "metadata": {
        "id": "5HpHjYZ90lCg",
        "colab_type": "code",
        "colab": {}
      },
      "source": [
        "print(float(\"0\"))\n",
        "print(str(5))"
      ],
      "execution_count": null,
      "outputs": []
    },
    {
      "cell_type": "code",
      "metadata": {
        "id": "ibjs7cWC0ojL",
        "colab_type": "code",
        "colab": {}
      },
      "source": [
        "a = int (10.7)\n",
        "b = int (10.3)\n",
        "print(a+b)\n",
        "print(a)\n",
        "print(b)"
      ],
      "execution_count": null,
      "outputs": []
    },
    {
      "cell_type": "markdown",
      "metadata": {
        "id": "uYEgyXDk0qKx",
        "colab_type": "text"
      },
      "source": [
        "# 형 변환 하지 않아도 형 변환이 일어난는 경우"
      ]
    },
    {
      "cell_type": "code",
      "metadata": {
        "id": "xy8g2zsj0pwt",
        "colab_type": "code",
        "colab": {
          "base_uri": "https://localhost:8080/",
          "height": 70
        },
        "outputId": "bef2d10d-1950-464d-d7cd-159f1da520b0"
      },
      "source": [
        "print(1 == True)\n",
        "print(\"\" == True)\n",
        "print(a is b)"
      ],
      "execution_count": null,
      "outputs": [
        {
          "output_type": "stream",
          "text": [
            "True\n",
            "False\n",
            "False\n"
          ],
          "name": "stdout"
        }
      ]
    },
    {
      "cell_type": "markdown",
      "metadata": {
        "id": "Y5YCWBQJ2HXX",
        "colab_type": "text"
      },
      "source": [
        "# 문자열 끼리 사칙연산"
      ]
    },
    {
      "cell_type": "code",
      "metadata": {
        "id": "yQ5pfJ990sDU",
        "colab_type": "code",
        "colab": {}
      },
      "source": [
        "a = 'abc' * 3\n",
        "print(a)\n",
        "b = 'def'\n",
        "print(a + b)"
      ],
      "execution_count": null,
      "outputs": []
    },
    {
      "cell_type": "code",
      "metadata": {
        "id": "FMR6oUgo4GDq",
        "colab_type": "code",
        "colab": {
          "base_uri": "https://localhost:8080/",
          "height": 35
        },
        "outputId": "e3ab1033-4205-4b38-9904-d1d7b914a421"
      },
      "source": [
        "a = 'abc';b = 'def';a+b"
      ],
      "execution_count": null,
      "outputs": [
        {
          "output_type": "execute_result",
          "data": {
            "application/vnd.google.colaboratory.intrinsic+json": {
              "type": "string"
            },
            "text/plain": [
              "'abcdef'"
            ]
          },
          "metadata": {
            "tags": []
          },
          "execution_count": 4
        }
      ]
    },
    {
      "cell_type": "markdown",
      "metadata": {
        "id": "dUYhKehh4Yn6",
        "colab_type": "text"
      },
      "source": [
        "# python 자료형 확인"
      ]
    },
    {
      "cell_type": "code",
      "metadata": {
        "id": "QDFyZfhh4HmM",
        "colab_type": "code",
        "colab": {}
      },
      "source": [
        "type(a)"
      ],
      "execution_count": null,
      "outputs": []
    },
    {
      "cell_type": "markdown",
      "metadata": {
        "id": "lQZgIDaj4hW0",
        "colab_type": "text"
      },
      "source": [
        "# input: 입력한 값은 무조건 문자열"
      ]
    },
    {
      "cell_type": "code",
      "metadata": {
        "id": "dQGFcXmR4aIs",
        "colab_type": "code",
        "colab": {}
      },
      "source": [
        "temperature = float(input(\"온도 입력: \"))\n",
        "print(temperature)"
      ],
      "execution_count": null,
      "outputs": []
    },
    {
      "cell_type": "code",
      "metadata": {
        "id": "glWaJ-mR4jZq",
        "colab_type": "code",
        "colab": {}
      },
      "source": [
        "a = input('a = ')\n",
        "b = input('b = ')\n",
        "print(a + b)"
      ],
      "execution_count": null,
      "outputs": []
    },
    {
      "cell_type": "code",
      "metadata": {
        "id": "PpdZSaL-4o9O",
        "colab_type": "code",
        "colab": {}
      },
      "source": [
        "# Lab: 화씨 온도 변환기\n",
        "F = float(input(\"섭씨 온도는 몇 도 인가요? \")) * 1.8 + 32\n",
        "print(\"화씨 온도는\" + str(F) + \"도 입니다.\")\n",
        "# + 띄어쓰기 x\n",
        "# , 띄어쓰기 o\n",
        "c = float(input(\"섭씨 온도는 몇 도 인가요? \"))\n",
        "print(\"화씨 온도는\", c*1.8 + 32, \"도 입니다.\")"
      ],
      "execution_count": null,
      "outputs": []
    }
  ]
}