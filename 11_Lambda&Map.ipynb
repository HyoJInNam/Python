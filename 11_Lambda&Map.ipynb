{
  "nbformat": 4,
  "nbformat_minor": 0,
  "metadata": {
    "colab": {
      "name": "11_Lambda&Map.ipynb",
      "provenance": [],
      "include_colab_link": true
    },
    "kernelspec": {
      "name": "python3",
      "display_name": "Python 3"
    }
  },
  "cells": [
    {
      "cell_type": "markdown",
      "metadata": {
        "id": "view-in-github",
        "colab_type": "text"
      },
      "source": [
        "<a href=\"https://colab.research.google.com/github/HyoJInNam/Python/blob/master/11_Lambda%26Map.ipynb\" target=\"_parent\"><img src=\"https://colab.research.google.com/assets/colab-badge.svg\" alt=\"Open In Colab\"/></a>"
      ]
    },
    {
      "cell_type": "markdown",
      "metadata": {
        "id": "SMxKXU3-7hQW",
        "colab_type": "text"
      },
      "source": [
        "# lambda와 map\n",
        "- 입력이 여러개일 때, for문을 돌면서 함수를 여러 번 호출할 수 있지만 map을 이용해 쉽게 구현할 수 있다.\n",
        "- 함수를 객체처럼 다룰 수 있다."
      ]
    },
    {
      "cell_type": "code",
      "metadata": {
        "id": "nVRnxJIbkUMk",
        "colab_type": "code",
        "colab": {}
      },
      "source": [
        "list(map(lambda x:(x//10)*(x%10), range(10,100)))"
      ],
      "execution_count": null,
      "outputs": []
    },
    {
      "cell_type": "code",
      "metadata": {
        "id": "mukV2KESh_2x",
        "colab_type": "code",
        "colab": {
          "base_uri": "https://localhost:8080/",
          "height": 105
        },
        "outputId": "4e1d5136-7654-40dc-e8df-0d4b2dd2231d"
      },
      "source": [
        "# 1부터 5까지의 제곱 구하기\n",
        "def calc(x):\n",
        "  return x*x\n",
        "\n",
        "for i in range(1,6):\n",
        "  print(calc(i))"
      ],
      "execution_count": null,
      "outputs": [
        {
          "output_type": "stream",
          "text": [
            "1\n",
            "4\n",
            "9\n",
            "16\n",
            "25\n"
          ],
          "name": "stdout"
        }
      ]
    },
    {
      "cell_type": "code",
      "metadata": {
        "id": "WxdlQXSai7sk",
        "colab_type": "code",
        "colab": {
          "base_uri": "https://localhost:8080/",
          "height": 34
        },
        "outputId": "c9881013-4165-4409-8a04-7115633ab8e8"
      },
      "source": [
        "# map 함수를 이용해서 구하기\n",
        "def calc(x):\n",
        "  return x*x\n",
        "\n",
        "list(map(calc, range(1,6)))"
      ],
      "execution_count": null,
      "outputs": [
        {
          "output_type": "execute_result",
          "data": {
            "text/plain": [
              "[1, 4, 9, 16, 25]"
            ]
          },
          "metadata": {
            "tags": []
          },
          "execution_count": 9
        }
      ]
    },
    {
      "cell_type": "code",
      "metadata": {
        "id": "vBr3v0GRja99",
        "colab_type": "code",
        "colab": {
          "base_uri": "https://localhost:8080/",
          "height": 34
        },
        "outputId": "09ee7ea7-0cff-48b8-fc12-66cb818c144b"
      },
      "source": [
        "# 하나의 입력에 두 개의 인자 넘기기\n",
        "input1 = [1,3,5,7,9]\n",
        "input2 = [2,4,6,8,10]\n",
        "\n",
        "list(map(lambda x,y:x+y, input1, input2))"
      ],
      "execution_count": null,
      "outputs": [
        {
          "output_type": "execute_result",
          "data": {
            "text/plain": [
              "[3, 7, 11, 15, 19]"
            ]
          },
          "metadata": {
            "tags": []
          },
          "execution_count": 11
        }
      ]
    },
    {
      "cell_type": "code",
      "metadata": {
        "id": "hsskdUacjFha",
        "colab_type": "code",
        "colab": {
          "base_uri": "https://localhost:8080/",
          "height": 34
        },
        "outputId": "936ecdd9-e31c-4fbe-ddc4-9c97fb73e5b3"
      },
      "source": [
        "# map함수의 첫 번째 인자에서 기능 지정하기\n",
        "list(map(lambda x:x*x, range(1,6)))"
      ],
      "execution_count": null,
      "outputs": [
        {
          "output_type": "execute_result",
          "data": {
            "text/plain": [
              "[1, 4, 9, 16, 25]"
            ]
          },
          "metadata": {
            "tags": []
          },
          "execution_count": 10
        }
      ]
    },
    {
      "cell_type": "markdown",
      "metadata": {
        "id": "QzvgGIxUj_Jb",
        "colab_type": "text"
      },
      "source": [
        "## 예제1. 구구단 만들기"
      ]
    },
    {
      "cell_type": "code",
      "metadata": {
        "id": "Jtk5QCgPjrkp",
        "colab_type": "code",
        "colab": {
          "base_uri": "https://localhost:8080/",
          "height": 34
        },
        "outputId": "2dfe145b-4003-4d20-a09e-9690ae24df42"
      },
      "source": [
        "list(map(lambda x:2*(x%10), range(1,10)))"
      ],
      "execution_count": null,
      "outputs": [
        {
          "output_type": "execute_result",
          "data": {
            "text/plain": [
              "[2, 4, 6, 8, 10, 12, 14, 16, 18]"
            ]
          },
          "metadata": {
            "tags": []
          },
          "execution_count": 29
        }
      ]
    },
    {
      "cell_type": "code",
      "metadata": {
        "id": "vosj8lO6kIv2",
        "colab_type": "code",
        "colab": {}
      },
      "source": [
        "alist = list(map(lambda x:str(x // 10)+'x'+str(x % 10)+'='+str((x//10)*(x%10)), range(10,100)))"
      ],
      "execution_count": null,
      "outputs": []
    },
    {
      "cell_type": "code",
      "metadata": {
        "id": "ILCsE4MhkwSx",
        "colab_type": "code",
        "colab": {
          "base_uri": "https://localhost:8080/",
          "height": 334
        },
        "outputId": "58776ddf-6afe-4a76-b780-9b86d74e2919"
      },
      "source": [
        "import numpy as np\n",
        "arr = np.array(alist).reshape(9,10)\n",
        "arr"
      ],
      "execution_count": null,
      "outputs": [
        {
          "output_type": "execute_result",
          "data": {
            "text/plain": [
              "array([['1x0=0', '1x1=1', '1x2=2', '1x3=3', '1x4=4', '1x5=5', '1x6=6',\n",
              "        '1x7=7', '1x8=8', '1x9=9'],\n",
              "       ['2x0=0', '2x1=2', '2x2=4', '2x3=6', '2x4=8', '2x5=10', '2x6=12',\n",
              "        '2x7=14', '2x8=16', '2x9=18'],\n",
              "       ['3x0=0', '3x1=3', '3x2=6', '3x3=9', '3x4=12', '3x5=15', '3x6=18',\n",
              "        '3x7=21', '3x8=24', '3x9=27'],\n",
              "       ['4x0=0', '4x1=4', '4x2=8', '4x3=12', '4x4=16', '4x5=20',\n",
              "        '4x6=24', '4x7=28', '4x8=32', '4x9=36'],\n",
              "       ['5x0=0', '5x1=5', '5x2=10', '5x3=15', '5x4=20', '5x5=25',\n",
              "        '5x6=30', '5x7=35', '5x8=40', '5x9=45'],\n",
              "       ['6x0=0', '6x1=6', '6x2=12', '6x3=18', '6x4=24', '6x5=30',\n",
              "        '6x6=36', '6x7=42', '6x8=48', '6x9=54'],\n",
              "       ['7x0=0', '7x1=7', '7x2=14', '7x3=21', '7x4=28', '7x5=35',\n",
              "        '7x6=42', '7x7=49', '7x8=56', '7x9=63'],\n",
              "       ['8x0=0', '8x1=8', '8x2=16', '8x3=24', '8x4=32', '8x5=40',\n",
              "        '8x6=48', '8x7=56', '8x8=64', '8x9=72'],\n",
              "       ['9x0=0', '9x1=9', '9x2=18', '9x3=27', '9x4=36', '9x5=45',\n",
              "        '9x6=54', '9x7=63', '9x8=72', '9x9=81']], dtype='<U6')"
            ]
          },
          "metadata": {
            "tags": []
          },
          "execution_count": 28
        }
      ]
    },
    {
      "cell_type": "markdown",
      "metadata": {
        "id": "ylMAGXShmDa8",
        "colab_type": "text"
      },
      "source": [
        "## 예제2. 369게임"
      ]
    },
    {
      "cell_type": "code",
      "metadata": {
        "id": "G2-7j5halNbo",
        "colab_type": "code",
        "colab": {
          "base_uri": "https://localhost:8080/",
          "height": 34
        },
        "outputId": "5869a1ad-7e8b-4443-8532-0669e2e55c5c"
      },
      "source": [
        "# 1단계. 3의 배수이면 박수치기\n",
        "\n",
        "list(map(lambda x: '짝' if x % 3 == 0 else x, range(1, 10)))"
      ],
      "execution_count": null,
      "outputs": [
        {
          "output_type": "execute_result",
          "data": {
            "text/plain": [
              "[1, 2, '짝', 4, 5, '짝', 7, 8, '짝']"
            ]
          },
          "metadata": {
            "tags": []
          },
          "execution_count": 15
        }
      ]
    },
    {
      "cell_type": "code",
      "metadata": {
        "id": "YybxLufJmLJn",
        "colab_type": "code",
        "colab": {
          "base_uri": "https://localhost:8080/",
          "height": 34
        },
        "outputId": "ac3c6b61-a310-4828-825d-28711d806257"
      },
      "source": [
        "# 2단계. 3,6,9 중 하나가 들어가면 박수치기\n",
        "\n",
        "list(map(lambda x: '짝' if str(x).find('3') >= 0 or str(x).find('6') >= 0 or str(x).find('9') >= 0 else x, range(1, 20)))"
      ],
      "execution_count": null,
      "outputs": [
        {
          "output_type": "execute_result",
          "data": {
            "text/plain": [
              "[1, 2, '짝', 4, 5, '짝', 7, 8, '짝', 10, 11, 12, '짝', 14, 15, '짝', 17, 18, '짝']"
            ]
          },
          "metadata": {
            "tags": []
          },
          "execution_count": 16
        }
      ]
    },
    {
      "cell_type": "code",
      "metadata": {
        "id": "N8K-ASIMmixP",
        "colab_type": "code",
        "colab": {
          "base_uri": "https://localhost:8080/",
          "height": 34
        },
        "outputId": "9838a455-8422-4315-96f7-2818efab87c9"
      },
      "source": [
        "# 3단계. 3의 배수이거나, 3,6,9 중 하나가 들어가면 박수치기\n",
        "\n",
        "list(map(lambda x: '짝' if x%3 == 0 or str(x).find('3') >= 0 or str(x).find('6') >= 0 or str(x).find('9') >= 0 else x, range(1, 20)))"
      ],
      "execution_count": null,
      "outputs": [
        {
          "output_type": "execute_result",
          "data": {
            "text/plain": [
              "[1, 2, '짝', 4, 5, '짝', 7, 8, '짝', 10, 11, '짝', '짝', 14, '짝', '짝', 17, '짝', '짝']"
            ]
          },
          "metadata": {
            "tags": []
          },
          "execution_count": 17
        }
      ]
    },
    {
      "cell_type": "code",
      "metadata": {
        "id": "GV3oLGVsmuV6",
        "colab_type": "code",
        "colab": {
          "base_uri": "https://localhost:8080/",
          "height": 34
        },
        "outputId": "110b5fa6-da74-4124-c349-da98d15506c1"
      },
      "source": [
        "# 실제 369게임은 3의 배수이거나, 3이 들어가면 박수를 칩니다.\n",
        "\n",
        "list(map(lambda x: '짝' if x%3 == 0 or str(x).find('3') >= 0 else x, range(1, 20)))"
      ],
      "execution_count": null,
      "outputs": [
        {
          "output_type": "execute_result",
          "data": {
            "text/plain": [
              "[1, 2, '짝', 4, 5, '짝', 7, 8, '짝', 10, 11, '짝', '짝', 14, '짝', 16, 17, '짝', 19]"
            ]
          },
          "metadata": {
            "tags": []
          },
          "execution_count": 18
        }
      ]
    }
  ]
}