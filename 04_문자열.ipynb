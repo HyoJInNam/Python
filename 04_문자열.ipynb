{
  "nbformat": 4,
  "nbformat_minor": 0,
  "metadata": {
    "colab": {
      "name": "python_04_문자열.ipynb",
      "provenance": [],
      "collapsed_sections": [],
      "authorship_tag": "ABX9TyNhONijeVvIrOHeocBnz6/e",
      "include_colab_link": true
    },
    "kernelspec": {
      "name": "python3",
      "display_name": "Python 3"
    }
  },
  "cells": [
    {
      "cell_type": "markdown",
      "metadata": {
        "id": "view-in-github",
        "colab_type": "text"
      },
      "source": [
        "<a href=\"https://colab.research.google.com/github/HyoJInNam/Python/blob/master/04_%EB%AC%B8%EC%9E%90%EC%97%B4.ipynb\" target=\"_parent\"><img src=\"https://colab.research.google.com/assets/colab-badge.svg\" alt=\"Open In Colab\"/></a>"
      ]
    },
    {
      "cell_type": "markdown",
      "metadata": {
        "id": "hZiw4uzFdrHZ",
        "colab_type": "text"
      },
      "source": [
        "#문자열\n",
        "문자열은 시퀀스 자료형(sequence data type)이다.\n",
        "\n",
        "\n",
        "*   일반적으로 문자열을 저장하기 위해서는 영문자 한 글자당 1바이트의 메모리 공간을 사용\n",
        "한다.\n",
        "*   다음과 같은 코드로 문자열이 저장된 공간의 크기를 확인할 수 있다.\n",
        "\n"
      ]
    },
    {
      "cell_type": "code",
      "metadata": {
        "id": "DCDn8Zuudmdo",
        "colab_type": "code",
        "colab": {
          "base_uri": "https://localhost:8080/",
          "height": 70
        },
        "outputId": "7480f362-eeb1-432d-a402-fabf4678031a"
      },
      "source": [
        "import sys\n",
        "print(sys.getsizeof(\"a\"))\n",
        "print(sys.getsizeof(\"ab\"))\n",
        "print(sys.getsizeof(\"abc\"))"
      ],
      "execution_count": null,
      "outputs": [
        {
          "output_type": "stream",
          "text": [
            "58\n",
            "51\n",
            "52\n"
          ],
          "name": "stdout"
        }
      ]
    },
    {
      "cell_type": "markdown",
      "metadata": {
        "id": "bAYwlYabgzAy",
        "colab_type": "text"
      },
      "source": [
        "# 문자열과 메모리 공간\n",
        "컴퓨터 공학자들은 이러한 문자를 처리하기 위해 이진수로 변환되는 표준 규칙을 만들었다.\n",
        "ASCII, CP949, MS949, UTF-8 등 이러한 규칙을 인코딩(encoding)이라고 한다.\n",
        "\n",
        "1.   컴퓨터는 문자를 직접 인식하지 못한다.\n",
        "2.   컴퓨터는 문자를 숫자로 변환하여 인식한다.\n",
        "3.   사람들은 문자를 숫자로 변환하기 위한 규칙을 만들었다.\n",
        "4.   일반적으로 이 규칙은 1개의 영문자를 1바이트, 즉 2의 8승(28) 정도의 공간에 저장될 수 있도록 정하였다.\n"
      ]
    },
    {
      "cell_type": "markdown",
      "metadata": {
        "id": "SifLibeYjOht",
        "colab_type": "text"
      },
      "source": [
        "## 문자열의 인덱싱"
      ]
    },
    {
      "cell_type": "code",
      "metadata": {
        "id": "StKt-f8MjP6K",
        "colab_type": "code",
        "colab": {
          "base_uri": "https://localhost:8080/",
          "height": 52
        },
        "outputId": "5f423eab-c43b-4385-bfd0-d343f4c2ee79"
      },
      "source": [
        "a = \"abcde\"\n",
        "print(a[0], a[4])\n",
        "print(a[-1], a[-5])"
      ],
      "execution_count": null,
      "outputs": [
        {
          "output_type": "stream",
          "text": [
            "a e\n",
            "e a\n"
          ],
          "name": "stdout"
        }
      ]
    },
    {
      "cell_type": "markdown",
      "metadata": {
        "id": "fuLKBx-MjV7x",
        "colab_type": "text"
      },
      "source": [
        "## 문자열의 슬라이싱"
      ]
    },
    {
      "cell_type": "code",
      "metadata": {
        "id": "1yoARJd6jYsj",
        "colab_type": "code",
        "colab": {
          "base_uri": "https://localhost:8080/",
          "height": 87
        },
        "outputId": "0354acd9-cf16-4819-ded7-ba9977429c38"
      },
      "source": [
        "a = \"TEAMLAB MOOC, AWESOME Python\"\n",
        "print(a[0:6], \"AND\", a[-9:1])\n",
        "print(a[:])\n",
        "print(a[-50:50])\n",
        "print(a[::2], \"AND\", a[::-1])"
      ],
      "execution_count": null,
      "outputs": [
        {
          "output_type": "stream",
          "text": [
            "TEAMLA AND \n",
            "TEAMLAB MOOC, AWESOME Python\n",
            "TEAMLAB MOOC, AWESOME Python\n",
            "TALBMO,AEOEPto AND nohtyP EMOSEWA ,COOM BALMAET\n"
          ],
          "name": "stdout"
        }
      ]
    },
    {
      "cell_type": "markdown",
      "metadata": {
        "id": "9SqSfgKOjtZL",
        "colab_type": "text"
      },
      "source": [
        "## 문자열의 연산"
      ]
    },
    {
      "cell_type": "code",
      "metadata": {
        "id": "5IoWPfRlj4fb",
        "colab_type": "code",
        "colab": {
          "base_uri": "https://localhost:8080/",
          "height": 70
        },
        "outputId": "089a6a57-3eb9-448e-96e5-166638f6b483"
      },
      "source": [
        "a = \"TEAM\"\n",
        "b = \"LAB\"\n",
        "print(a + \" \" + b)\n",
        "\n",
        "print(a * 2 + \" \" + b * 2)\n",
        "\n",
        "if 'A' in a : print(a)\n",
        "else: print(b)"
      ],
      "execution_count": null,
      "outputs": [
        {
          "output_type": "stream",
          "text": [
            "TEAM LAB\n",
            "TEAMTEAM LABLAB\n",
            "TEAM\n"
          ],
          "name": "stdout"
        }
      ]
    },
    {
      "cell_type": "markdown",
      "metadata": {
        "id": "f7tY1wnqj2nZ",
        "colab_type": "text"
      },
      "source": [
        "* 문자열과 정수형의 연산으로 인식하여 덧셈 연산이 실행되지\n",
        "않는다."
      ]
    },
    {
      "cell_type": "code",
      "metadata": {
        "id": "WaAi12jcjt12",
        "colab_type": "code",
        "colab": {
          "base_uri": "https://localhost:8080/",
          "height": 186
        },
        "outputId": "7af0d85c-1463-4154-efce-14d6bdc1cc97"
      },
      "source": [
        "int_value = 2\n",
        "print(\"결과는\" + int_value)"
      ],
      "execution_count": null,
      "outputs": [
        {
          "output_type": "error",
          "ename": "TypeError",
          "evalue": "ignored",
          "traceback": [
            "\u001b[0;31m---------------------------------------------------------------------------\u001b[0m",
            "\u001b[0;31mTypeError\u001b[0m                                 Traceback (most recent call last)",
            "\u001b[0;32m<ipython-input-8-f99b39461b36>\u001b[0m in \u001b[0;36m<module>\u001b[0;34m()\u001b[0m\n\u001b[1;32m      1\u001b[0m \u001b[0mint_value\u001b[0m \u001b[0;34m=\u001b[0m \u001b[0;36m2\u001b[0m\u001b[0;34m\u001b[0m\u001b[0;34m\u001b[0m\u001b[0m\n\u001b[0;32m----> 2\u001b[0;31m \u001b[0mprint\u001b[0m\u001b[0;34m(\u001b[0m\u001b[0;34m\"결과는\"\u001b[0m \u001b[0;34m+\u001b[0m \u001b[0mint_value\u001b[0m\u001b[0;34m)\u001b[0m\u001b[0;34m\u001b[0m\u001b[0;34m\u001b[0m\u001b[0m\n\u001b[0m",
            "\u001b[0;31mTypeError\u001b[0m: must be str, not int"
          ]
        }
      ]
    },
    {
      "cell_type": "markdown",
      "metadata": {
        "id": "z5SA3ApskJoR",
        "colab_type": "text"
      },
      "source": [
        "# 문자열 관련 함수"
      ]
    },
    {
      "cell_type": "markdown",
      "metadata": {
        "id": "3qj-RhS_hhva",
        "colab_type": "text"
      },
      "source": [
        "\n",
        "```\n",
        "count(\"\")\n",
        "len()\n",
        "upper() 대문자 변환\n",
        "lower() 소문자 변환\n",
        "title() 각 단어의 앞글자만 대문자로 변환\n",
        "capitalize() 첫문자 대문자 변환\n",
        "\n",
        "find(\"\") 왼쪽 끝부터 시작하여 몇 번째에 있는지 반환\n",
        "rfind(\"\") 오른쪽 끝부터 시작하여 몇 번째에 있는지 반환\n",
        "\n",
        "startswith(\"\") \"문자열\"로 시작하는지 여부 반환\n",
        "endswith(\"\") \"문자열\"로 끝나는지 여부 반환\n",
        "isdigit() 문자열이 숫자인지 여부 반환\n",
        "islower() 문자열이 소문자인지 여부 반환\n",
        "isupper() 문자열이 대문자인지 여부 반환\n",
        "\n",
        "strip() 좌우 공백 삭제\n",
        "lstrip() 왼쪽 공백 삭제\n",
        "rstrip() 오른쪽 공백 삭제\n",
        "\n",
        "split() 문자열을 공백이나 다른 문자로 나누어 리스트로 반환\n",
        "```\n",
        "\n"
      ]
    },
    {
      "cell_type": "code",
      "metadata": {
        "id": "qCRI7lrIeHdd",
        "colab_type": "code",
        "colab": {
          "base_uri": "https://localhost:8080/",
          "height": 122
        },
        "outputId": "eece8966-462d-4eea-8b4d-4fd465717d5e"
      },
      "source": [
        "title = \"TEAMLAB X Inflearn\"\n",
        "print(title.title())\n",
        "print(title.capitalize())\n",
        "print(title.count(\"a\"))\n",
        "print(title.upper().count(\"a\"))\n",
        "print(title.isdigit())\n",
        "print(title.startswith(\"a\"))"
      ],
      "execution_count": null,
      "outputs": [
        {
          "output_type": "stream",
          "text": [
            "Teamlab X Inflearn\n",
            "Teamlab x inflearn\n",
            "1\n",
            "0\n",
            "False\n",
            "False\n"
          ],
          "name": "stdout"
        }
      ]
    },
    {
      "cell_type": "markdown",
      "metadata": {
        "id": "8JyTQgRykUKE",
        "colab_type": "text"
      },
      "source": [
        "# 특수문자"
      ]
    },
    {
      "cell_type": "code",
      "metadata": {
        "id": "4eSeMjr9ixKG",
        "colab_type": "code",
        "colab": {
          "base_uri": "https://localhost:8080/",
          "height": 134
        },
        "outputId": "f88d4ec3-023c-4dc9-afd2-7d7709c09a4b"
      },
      "source": [
        "print(\"I said \"I`m happy.\"\")"
      ],
      "execution_count": null,
      "outputs": [
        {
          "output_type": "error",
          "ename": "SyntaxError",
          "evalue": "ignored",
          "traceback": [
            "\u001b[0;36m  File \u001b[0;32m\"<ipython-input-14-2a9e8d870cf4>\"\u001b[0;36m, line \u001b[0;32m1\u001b[0m\n\u001b[0;31m    print(\"I said \"I`m happy.\"\")\u001b[0m\n\u001b[0m                   ^\u001b[0m\n\u001b[0;31mSyntaxError\u001b[0m\u001b[0;31m:\u001b[0m invalid syntax\n"
          ]
        }
      ]
    },
    {
      "cell_type": "code",
      "metadata": {
        "id": "EvP2cmt9kbl5",
        "colab_type": "code",
        "colab": {
          "base_uri": "https://localhost:8080/",
          "height": 34
        },
        "outputId": "c5554f5a-fd2d-4d95-aef8-d5972feec03f"
      },
      "source": [
        "print(\"I said \\\"I`m happy.\\\"\")"
      ],
      "execution_count": null,
      "outputs": [
        {
          "output_type": "stream",
          "text": [
            "I said \"I`m happy.\"\n"
          ],
          "name": "stdout"
        }
      ]
    },
    {
      "cell_type": "code",
      "metadata": {
        "id": "zvFKVghekpLq",
        "colab_type": "code",
        "colab": {
          "base_uri": "https://localhost:8080/",
          "height": 35
        },
        "outputId": "38a428db-1393-4637-cdae-4b92fc2d1fa7"
      },
      "source": [
        "a = \"\"\"\n",
        "It's Ok.\n",
        "I'm Happy.\n",
        "See you.\"\"\"\n",
        "a"
      ],
      "execution_count": null,
      "outputs": [
        {
          "output_type": "execute_result",
          "data": {
            "application/vnd.google.colaboratory.intrinsic+json": {
              "type": "string"
            },
            "text/plain": [
              "\"\\nIt's Ok.\\nI'm Happy.\\nSee you.\""
            ]
          },
          "metadata": {
            "tags": []
          },
          "execution_count": 18
        }
      ]
    },
    {
      "cell_type": "markdown",
      "metadata": {
        "id": "EfU_cV9slBwn",
        "colab_type": "text"
      },
      "source": [
        "단어 카운팅"
      ]
    },
    {
      "cell_type": "code",
      "metadata": {
        "id": "1MbTgCNmk2r7",
        "colab_type": "code",
        "colab": {}
      },
      "source": [
        "# yesterday\n",
        "\n",
        "f = open(\"yesterday.txt\", 'r')\n",
        "yesterday_lyric = f.readlines()\n",
        "f.close()\n",
        "\n",
        "contents = \"\"\n",
        "for line in yesterday_lyric:  \n",
        "    contents = contents + line.strip() + \"\\n\"\n",
        "\n",
        "print(contents)\n",
        "n_of_yesterday = contents.upper().count(\"YESTERDAY\")\n",
        "print(\"Number of a Word 'Yesterday'\" , n_of_yesterday)\n"
      ],
      "execution_count": null,
      "outputs": []
    },
    {
      "cell_type": "code",
      "metadata": {
        "id": "UR7npe0Ulss1",
        "colab_type": "code",
        "colab": {
          "base_uri": "https://localhost:8080/",
          "height": 34
        },
        "outputId": "5f0910c8-ef78-4d40-bb63-a342191575c4"
      },
      "source": [
        "dream = \"\"\"\n",
        "I have a dream a song to sing\n",
        "to help me cope with anything\n",
        "if you see the wonder of a fairy tale\n",
        "you can take the future even\n",
        "if you fail I believe in angels\n",
        "something good in everything\n",
        "dream dream dream dream dream\n",
        "\"\"\"\n",
        "\n",
        "\n",
        "contents = \"\"\n",
        "for line in dream:  \n",
        "    contents = contents + line.strip() + \"\\n\"\n",
        "\n",
        "n_of_dream = contents.lower().count(\"dream\")\n",
        "print(\"Number of a Word 'dream'\" , n_of_dream)\n"
      ],
      "execution_count": null,
      "outputs": [
        {
          "output_type": "stream",
          "text": [
            "Number of a Word 'dream' 0\n"
          ],
          "name": "stdout"
        }
      ]
    },
    {
      "cell_type": "markdown",
      "metadata": {
        "id": "sG_0CWzhlmbN",
        "colab_type": "text"
      },
      "source": [
        "# 문자열 서식 지정"
      ]
    },
    {
      "cell_type": "code",
      "metadata": {
        "id": "qqgju_L_mof1",
        "colab_type": "code",
        "colab": {
          "base_uri": "https://localhost:8080/",
          "height": 105
        },
        "outputId": "9405ccd5-bf83-4cc5-9d35-a8be945abb87"
      },
      "source": [
        "print(1, 2, 3)\n",
        "print(\"a\" + \" \" + \"b\" + \" \" + \"c\")\n",
        "print(\"a\", \"b\", \"c\")\n",
        "print(\"%4.1f %5.2f %10d\" % (1.1, 2.1, 3))\n",
        "print(\"{} {} {}\".format(\"a\", \"b\", \"c\"))"
      ],
      "execution_count": null,
      "outputs": [
        {
          "output_type": "stream",
          "text": [
            "1 2 3\n",
            "a b c\n",
            "a b c\n",
            " 1.1  2.10          3\n",
            "a b c\n"
          ],
          "name": "stdout"
        }
      ]
    },
    {
      "cell_type": "code",
      "metadata": {
        "id": "03cFnnRXm0zd",
        "colab_type": "code",
        "colab": {
          "base_uri": "https://localhost:8080/",
          "height": 34
        },
        "outputId": "36bb8e2e-2efb-4123-981a-b8a78c26f19c"
      },
      "source": [
        "a='A'\n",
        "b='B'\n",
        "c='C'\n",
        "print(\"{} {} {}\".format(a,b,c))"
      ],
      "execution_count": null,
      "outputs": [
        {
          "output_type": "stream",
          "text": [
            "A B C\n"
          ],
          "name": "stdout"
        }
      ]
    },
    {
      "cell_type": "markdown",
      "metadata": {
        "id": "8X4IigsgnQtz",
        "colab_type": "text"
      },
      "source": [
        "## % 서식"
      ]
    },
    {
      "cell_type": "markdown",
      "metadata": {
        "id": "3whsGUKsnMUX",
        "colab_type": "text"
      },
      "source": [
        "```\n",
        "'% 자료형 % (값)'\n",
        "```"
      ]
    },
    {
      "cell_type": "markdown",
      "metadata": {
        "id": "kDpRV2Ufn_zk",
        "colab_type": "text"
      },
      "source": [
        "% 서식 자료형\n",
        "```\n",
        "%s 문자열(string)\n",
        "%c 문자 1개(character)\n",
        "%d 정수(integer)\n",
        "%f 실수(floating-point)\n",
        "%o 8진수\n",
        "%x 16진수\n",
        "%% 문자 % 자체\n",
        "```"
      ]
    },
    {
      "cell_type": "code",
      "metadata": {
        "id": "1Wku2s9vm2Gx",
        "colab_type": "code",
        "colab": {
          "base_uri": "https://localhost:8080/",
          "height": 52
        },
        "outputId": "c2630d26-4c20-4dfa-b612-5516a1ea60a3"
      },
      "source": [
        "print('%s %s' % ('one', 'two'))\n",
        "print('%d %d' % (1, 2))"
      ],
      "execution_count": null,
      "outputs": [
        {
          "output_type": "stream",
          "text": [
            "one two\n",
            "1 2\n"
          ],
          "name": "stdout"
        }
      ]
    },
    {
      "cell_type": "code",
      "metadata": {
        "id": "pUDHVAT4nFOs",
        "colab_type": "code",
        "colab": {
          "base_uri": "https://localhost:8080/",
          "height": 52
        },
        "outputId": "7e45ccea-c8f7-4551-bd07-8541e8d9653a"
      },
      "source": [
        "print(\"I eat %d apples.\" % 3)\n",
        "print(\"I eat %s apples.\" % \"five\")"
      ],
      "execution_count": null,
      "outputs": [
        {
          "output_type": "stream",
          "text": [
            "I eat 3 apples.\n",
            "I eat five apples.\n"
          ],
          "name": "stdout"
        }
      ]
    },
    {
      "cell_type": "code",
      "metadata": {
        "id": "7_h0aetGm3bN",
        "colab_type": "code",
        "colab": {
          "base_uri": "https://localhost:8080/",
          "height": 122
        },
        "outputId": "0185b0f1-0f8b-4ae5-cc81-1560fd7a91cf"
      },
      "source": [
        "for i in range(5):\n",
        "  print(\"I eat %d apples.\" % i)\n",
        "print(\"I eat %s apples.\" % \"five\")"
      ],
      "execution_count": null,
      "outputs": [
        {
          "output_type": "stream",
          "text": [
            "I eat 0 apples.\n",
            "I eat 1 apples.\n",
            "I eat 2 apples.\n",
            "I eat 3 apples.\n",
            "I eat 4 apples.\n",
            "I eat five apples.\n"
          ],
          "name": "stdout"
        }
      ]
    },
    {
      "cell_type": "code",
      "metadata": {
        "id": "ML3MYQzNm4ZL",
        "colab_type": "code",
        "colab": {
          "base_uri": "https://localhost:8080/",
          "height": 34
        },
        "outputId": "aadde5c3-3dfe-4dda-a8eb-d6eceb400f70"
      },
      "source": [
        "number = 3\n",
        "day = \"three\"\n",
        "print(\"I ate %d apples. I was sick for %s days.\" % (number, day))"
      ],
      "execution_count": null,
      "outputs": [
        {
          "output_type": "stream",
          "text": [
            "I ate 3 apples. I was sick for three days.\n"
          ],
          "name": "stdout"
        }
      ]
    },
    {
      "cell_type": "markdown",
      "metadata": {
        "id": "i3oV6BfnnZ_K",
        "colab_type": "text"
      },
      "source": [
        "## format() 함수"
      ]
    },
    {
      "cell_type": "markdown",
      "metadata": {
        "id": "I0C7BrtgncgW",
        "colab_type": "text"
      },
      "source": [
        "```\n",
        "\"{자료형}\".format(인수)\n",
        "```"
      ]
    },
    {
      "cell_type": "code",
      "metadata": {
        "id": "kruFPjQLni4j",
        "colab_type": "code",
        "colab": {
          "base_uri": "https://localhost:8080/",
          "height": 34
        },
        "outputId": "b001e114-eba4-4692-e5d8-de9ef7fedb14"
      },
      "source": [
        "print(\"I'm{0} years old.\".format(20))"
      ],
      "execution_count": null,
      "outputs": [
        {
          "output_type": "stream",
          "text": [
            "I'm20 years old.\n"
          ],
          "name": "stdout"
        }
      ]
    },
    {
      "cell_type": "code",
      "metadata": {
        "id": "M9H9E4arm5pZ",
        "colab_type": "code",
        "colab": {
          "base_uri": "https://localhost:8080/",
          "height": 70
        },
        "outputId": "c785a75b-03f0-4b6a-b84b-cdf7917bc7eb"
      },
      "source": [
        "age = 40; \n",
        "name='Sungchul Choi'\n",
        "print(\"I'm {0} years old.\".format(age))\n",
        "print(\"My name is {0} and {1} years old.\".format(name, age))\n",
        "print(\"Product: {0}, Price per unit: {1:.2f}.\".format(\"Apple\", 5.243))"
      ],
      "execution_count": null,
      "outputs": [
        {
          "output_type": "stream",
          "text": [
            "I'm 40 years old.\n",
            "My name is Sungchul Choi and 40 years old.\n",
            "Product: Apple, Price per unit: 5.24.\n"
          ],
          "name": "stdout"
        }
      ]
    },
    {
      "cell_type": "markdown",
      "metadata": {
        "id": "zNCy2-C5nuvO",
        "colab_type": "text"
      },
      "source": [
        "## 패딩\n",
        "파이썬의 서식 지정 기능에는 여유 공간을 지정하여 글자 배열을 맞추고 소수점 자릿수를\n",
        "맞추는 패딩(padding)기능이 있다. % 서식과 format( ) 함수 모두 패딩 기능을 제공한다."
      ]
    },
    {
      "cell_type": "markdown",
      "metadata": {
        "id": "TkNuYzMZoj-L",
        "colab_type": "text"
      },
      "source": [
        "% 서식의 패딩"
      ]
    },
    {
      "cell_type": "code",
      "metadata": {
        "id": "QBswDHZfm7Ro",
        "colab_type": "code",
        "colab": {
          "base_uri": "https://localhost:8080/",
          "height": 105
        },
        "outputId": "28085263-ba9a-4d26-835f-5b3861284505"
      },
      "source": [
        "print(\"%10d\"%12)\n",
        "print(\"%-10d\"%12)\n",
        "\n",
        "print(\"%10.3f\"%5.94343)\n",
        "print(\"%10.2f\"%5.94343)\n",
        "print(\"%-10.2f\"%5.94343)"
      ],
      "execution_count": null,
      "outputs": [
        {
          "output_type": "stream",
          "text": [
            "        12\n",
            "12        \n",
            "     5.943\n",
            "      5.94\n",
            "5.94      \n"
          ],
          "name": "stdout"
        }
      ]
    },
    {
      "cell_type": "markdown",
      "metadata": {
        "id": "zdnNqfjUoe4S",
        "colab_type": "text"
      },
      "source": [
        "### format() 함수의 패딩"
      ]
    },
    {
      "cell_type": "code",
      "metadata": {
        "id": "S41WJ3J0oYDO",
        "colab_type": "code",
        "colab": {
          "base_uri": "https://localhost:8080/",
          "height": 52
        },
        "outputId": "e72f0ca8-bb00-4b2f-9983-26f9d87d9045"
      },
      "source": [
        "print(\"{0:>10s}\".format(\"Apple\"))\n",
        "print(\"{0:<10s}\".format(\"Apple\"))"
      ],
      "execution_count": null,
      "outputs": [
        {
          "output_type": "stream",
          "text": [
            "     Apple\n",
            "Apple     \n"
          ],
          "name": "stdout"
        }
      ]
    },
    {
      "cell_type": "code",
      "metadata": {
        "id": "p7VZ528doeH6",
        "colab_type": "code",
        "colab": {
          "base_uri": "https://localhost:8080/",
          "height": 105
        },
        "outputId": "01ef73a7-dde5-4cf0-da51-f4b3b7b3b073"
      },
      "source": [
        "print(\"{1:10.5f}.\".format(\"Apple\", 5.243))\n",
        "print(\"{1:>10.5f}.\".format(\"Apple\", 5.243))\n",
        "print(\"{1:<10.5f}.\".format(\"Apple\", 5.243))\n",
        "print(\"{1:>-10.5f}.\".format(\"Apple\", 5.243))\n",
        "print(\"{1:<-10.5f}.\".format(\"Apple\", 5.243))"
      ],
      "execution_count": null,
      "outputs": [
        {
          "output_type": "stream",
          "text": [
            "   5.24300.\n",
            "   5.24300.\n",
            "5.24300   .\n",
            "   5.24300.\n",
            "5.24300   .\n"
          ],
          "name": "stdout"
        }
      ]
    },
    {
      "cell_type": "markdown",
      "metadata": {
        "id": "kxcc-Tq6pEaP",
        "colab_type": "text"
      },
      "source": [
        "# 네이밍(naming)"
      ]
    },
    {
      "cell_type": "code",
      "metadata": {
        "id": "-wBC2hXSo93m",
        "colab_type": "code",
        "colab": {
          "base_uri": "https://localhost:8080/",
          "height": 34
        },
        "outputId": "c0141fa9-4dc4-4f37-b340-cd664214f656"
      },
      "source": [
        "print(\"Product: %(name)5s, Price per unit: %(price)5.5f.\"%{\"name\":\"Apple\", \"price\":5.243})"
      ],
      "execution_count": null,
      "outputs": [
        {
          "output_type": "stream",
          "text": [
            "Product: Apple, Price per unit: 5.24300.\n"
          ],
          "name": "stdout"
        }
      ]
    },
    {
      "cell_type": "code",
      "metadata": {
        "id": "gHp3kafapPr7",
        "colab_type": "code",
        "colab": {
          "base_uri": "https://localhost:8080/",
          "height": 34
        },
        "outputId": "aa5a7867-8c59-4b9d-b134-aa623014144c"
      },
      "source": [
        "print(\"Product: {name:>5s}, Price per unit: {price:5.5f}.\".format(name=\"Apple\", price=5.243))"
      ],
      "execution_count": null,
      "outputs": [
        {
          "output_type": "stream",
          "text": [
            "Product: Apple, Price per unit: 5.24300.\n"
          ],
          "name": "stdout"
        }
      ]
    }
  ]
}