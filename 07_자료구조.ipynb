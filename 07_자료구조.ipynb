{
  "nbformat": 4,
  "nbformat_minor": 0,
  "metadata": {
    "colab": {
      "name": "python_06_자료구조.ipynb",
      "provenance": [],
      "collapsed_sections": [],
      "authorship_tag": "ABX9TyOQ99VZxbsTYOPqAkDzI7xK",
      "include_colab_link": true
    },
    "kernelspec": {
      "name": "python3",
      "display_name": "Python 3"
    }
  },
  "cells": [
    {
      "cell_type": "markdown",
      "metadata": {
        "id": "view-in-github",
        "colab_type": "text"
      },
      "source": [
        "<a href=\"https://colab.research.google.com/github/HyoJInNam/Python/blob/master/07_%EC%9E%90%EB%A3%8C%EA%B5%AC%EC%A1%B0.ipynb\" target=\"_parent\"><img src=\"https://colab.research.google.com/assets/colab-badge.svg\" alt=\"Open In Colab\"/></a>"
      ]
    },
    {
      "cell_type": "markdown",
      "metadata": {
        "id": "1OIetLhhHWLH",
        "colab_type": "text"
      },
      "source": [
        "# 자료구조\n",
        "```\n",
        "스택(stack): list()\n",
        "큐(queue)\n",
        "튜플(tuple)\n",
        "세트(set)\n",
        "딕셔너리(dictionary)\n",
        "```"
      ]
    },
    {
      "cell_type": "code",
      "metadata": {
        "id": "7eU8Ywn2HNnQ",
        "colab_type": "code",
        "colab": {
          "base_uri": "https://localhost:8080/",
          "height": 70
        },
        "outputId": "1c5ae578-1a20-431b-e6f9-d293e4e82cba"
      },
      "source": [
        "word = input(\"Input a word: \")\n",
        "world_list = list(word)\n",
        "world_Set = set(word)\n",
        "print(world_list)\n",
        "print(world_Set)"
      ],
      "execution_count": null,
      "outputs": [
        {
          "output_type": "stream",
          "text": [
            "Input a word: wooooooooooorrrrd\n",
            "['w', 'o', 'o', 'o', 'o', 'o', 'o', 'o', 'o', 'o', 'o', 'o', 'r', 'r', 'r', 'r', 'd']\n",
            "{'r', 'd', 'w', 'o'}\n"
          ],
          "name": "stdout"
        }
      ]
    },
    {
      "cell_type": "markdown",
      "metadata": {
        "id": "3S7wrESbF7q-",
        "colab_type": "text"
      },
      "source": [
        "# 스택 (Stack)\n",
        "나중에 들어온 값을 먼저 나갈 수 있도록 해 주는 자료구조 (Last In First Out)"
      ]
    },
    {
      "cell_type": "code",
      "metadata": {
        "id": "iCLHm5u6Fpc-",
        "colab_type": "code",
        "colab": {
          "base_uri": "https://localhost:8080/",
          "height": 87
        },
        "outputId": "701cfb08-635e-440c-919e-599f8039d96c"
      },
      "source": [
        "word = input(\"Input a word: \")\n",
        "world_list = list(word)\n",
        "print(world_list)\n",
        "\n",
        "result = []\n",
        "for _ in range(len(world_list)):\n",
        "    result.append(world_list.pop())\n",
        "\n",
        "print(result)\n",
        "print(word[::-1])"
      ],
      "execution_count": null,
      "outputs": [
        {
          "output_type": "stream",
          "text": [
            "Input a word: word\n",
            "['w', 'o', 'r', 'd']\n",
            "['d', 'r', 'o', 'w']\n",
            "drow\n"
          ],
          "name": "stdout"
        }
      ]
    },
    {
      "cell_type": "markdown",
      "metadata": {
        "id": "czmNK54RGJH2",
        "colab_type": "text"
      },
      "source": [
        "# 큐 (Queue)\n",
        "먼저 들어온 값을 먼저 나갈 수있도록 해주는 자료구조 (First In First Out)"
      ]
    },
    {
      "cell_type": "code",
      "metadata": {
        "id": "hv50Y7AqG2Zw",
        "colab_type": "code",
        "colab": {
          "base_uri": "https://localhost:8080/",
          "height": 105
        },
        "outputId": "07450a9c-c916-44c6-9c6f-4036a418a792"
      },
      "source": [
        "a = [1,2,3,4,5]\n",
        "\n",
        "a.append(10)\n",
        "print(a)\n",
        "\n",
        "a.append(20)\n",
        "print(a)\n",
        "\n",
        "print(a.pop(0))\n",
        "print(a.pop(0))\n",
        "print(a)"
      ],
      "execution_count": null,
      "outputs": [
        {
          "output_type": "stream",
          "text": [
            "[1, 2, 3, 4, 5, 10]\n",
            "[1, 2, 3, 4, 5, 10, 20]\n",
            "1\n",
            "2\n",
            "[3, 4, 5, 10, 20]\n"
          ],
          "name": "stdout"
        }
      ]
    },
    {
      "cell_type": "markdown",
      "metadata": {
        "id": "6o7KX1ZOGUSv",
        "colab_type": "text"
      },
      "source": [
        "# 튜플 (Tuple)\n",
        "리스트와 같지만, 데이터의 변경을 허용하지 않는 자료구조\n",
        "- 선언 외에 여러 가지 연산은 리스트와 같다.\n",
        "- 리스트에서 사용하는 연산, 인덱싱, 슬라이싱이 모두 동일하게 적용됨.\n",
        "- 튜플 간의 덧셈 t + t이나 곱셈 t * 2, 그리고 len( )과 같은 리스트형 데이터에 사용하는 함수 모두 사용할 수 있다.\n",
        "- ***단, 값을 변경할 수 없다! ***\n",
        "\n"
      ]
    },
    {
      "cell_type": "code",
      "metadata": {
        "id": "p1m4SqQUHqAR",
        "colab_type": "code",
        "colab": {
          "base_uri": "https://localhost:8080/",
          "height": 52
        },
        "outputId": "3f6df93f-23cb-4a9b-b7c3-803a211325bb"
      },
      "source": [
        "t = (1,2,3)\n",
        "print(t+t, t*3)\n",
        "len(t)"
      ],
      "execution_count": null,
      "outputs": [
        {
          "output_type": "stream",
          "text": [
            "(1, 2, 3, 1, 2, 3) (1, 2, 3, 1, 2, 3, 1, 2, 3)\n"
          ],
          "name": "stdout"
        },
        {
          "output_type": "execute_result",
          "data": {
            "text/plain": [
              "3"
            ]
          },
          "metadata": {
            "tags": []
          },
          "execution_count": 6
        }
      ]
    },
    {
      "cell_type": "code",
      "metadata": {
        "id": "h_WUHihTMzsN",
        "colab_type": "code",
        "colab": {
          "base_uri": "https://localhost:8080/",
          "height": 169
        },
        "outputId": "3a1c0a11-1ffb-4d48-fa61-b84e2f2fa14e"
      },
      "source": [
        "t[0] = 5 #err: 값 대입 금지"
      ],
      "execution_count": null,
      "outputs": [
        {
          "output_type": "error",
          "ename": "TypeError",
          "evalue": "ignored",
          "traceback": [
            "\u001b[0;31m---------------------------------------------------------------------------\u001b[0m",
            "\u001b[0;31mTypeError\u001b[0m                                 Traceback (most recent call last)",
            "\u001b[0;32m<ipython-input-13-6dd06f73cec4>\u001b[0m in \u001b[0;36m<module>\u001b[0;34m()\u001b[0m\n\u001b[0;32m----> 1\u001b[0;31m \u001b[0mt\u001b[0m\u001b[0;34m[\u001b[0m\u001b[0;36m0\u001b[0m\u001b[0;34m]\u001b[0m \u001b[0;34m=\u001b[0m \u001b[0;36m5\u001b[0m\u001b[0;34m\u001b[0m\u001b[0;34m\u001b[0m\u001b[0m\n\u001b[0m",
            "\u001b[0;31mTypeError\u001b[0m: 'tuple' object does not support item assignment"
          ]
        }
      ]
    },
    {
      "cell_type": "code",
      "metadata": {
        "id": "NGmFEHcBM5sR",
        "colab_type": "code",
        "colab": {
          "base_uri": "https://localhost:8080/",
          "height": 34
        },
        "outputId": "8f31c083-ac1e-42a3-b3ee-cf02dc61e9a2"
      },
      "source": [
        "t = (1) # 주의!\n",
        "type(t)"
      ],
      "execution_count": null,
      "outputs": [
        {
          "output_type": "execute_result",
          "data": {
            "text/plain": [
              "int"
            ]
          },
          "metadata": {
            "tags": []
          },
          "execution_count": 14
        }
      ]
    },
    {
      "cell_type": "markdown",
      "metadata": {
        "id": "5zsM_Ct8GsK2",
        "colab_type": "text"
      },
      "source": [
        "# 세트 (Set)\n",
        "데이터의 중복을 허용하지 않고, 수학의 집합 연산을 지원하는 자료구조\n",
        "- add( ) : 원소 하나를 추가 \n",
        "- remove( ) 또는 discard( ) : 원소 하나를 제거  \n",
        "- update( ) : 새로운 리스트를 그대로 추가 \n",
        "- clear( ) : 모든 원소를 지우기"
      ]
    },
    {
      "cell_type": "code",
      "metadata": {
        "id": "IcwoNbNGH2oo",
        "colab_type": "code",
        "colab": {
          "base_uri": "https://localhost:8080/",
          "height": 122
        },
        "outputId": "b209407c-205f-49b7-97ce-97bd175d3927"
      },
      "source": [
        "s = set([1,2,3,1,2,3])\n",
        "print(s)\n",
        "\n",
        "s.add(1)\n",
        "print(s)\n",
        "\n",
        "s.remove(1)\n",
        "print(s)\n",
        "\n",
        "s.update([1,4,5,6,7])\n",
        "print(s)\n",
        "\n",
        "s.discard(3)\n",
        "print(s)\n",
        "\n",
        "s.clear()\n",
        "print(s)"
      ],
      "execution_count": null,
      "outputs": [
        {
          "output_type": "stream",
          "text": [
            "{1, 2, 3}\n",
            "{1, 2, 3}\n",
            "{2, 3}\n",
            "{1, 2, 3, 4, 5, 6, 7}\n",
            "{1, 2, 4, 5, 6, 7}\n",
            "set()\n"
          ],
          "name": "stdout"
        }
      ]
    },
    {
      "cell_type": "markdown",
      "metadata": {
        "id": "aBzJcsJpID5A",
        "colab_type": "text"
      },
      "source": [
        "![image.png](data:image/png;base64,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)"
      ]
    },
    {
      "cell_type": "code",
      "metadata": {
        "id": "qWV4O5bTIIGD",
        "colab_type": "code",
        "colab": {
          "base_uri": "https://localhost:8080/",
          "height": 175
        },
        "outputId": "1c1b84b0-cae0-4935-80a3-a55b212286d4"
      },
      "source": [
        "s1 = set([1,2,3,4,5])\n",
        "s2 = set([3,4,5,6,7])\n",
        "\n",
        "print(\"s1 = \", s1, \",\\ts2 = \",s2)\n",
        "print(s1.union(s2))\n",
        "print(s1|s2)\n",
        "\n",
        "print(\"s1 = \", s1, \",\\ts2 = \",s2)\n",
        "print(s1.intersection(s2))\n",
        "print(s1&s2)\n",
        "\n",
        "print(\"s1 = \", s1, \",\\ts2 = \",s2)\n",
        "print(s1.difference(s2))\n",
        "print(s1-s2)"
      ],
      "execution_count": null,
      "outputs": [
        {
          "output_type": "stream",
          "text": [
            "s1 =  {1, 2, 3, 4, 5} ,\ts2 =  {3, 4, 5, 6, 7}\n",
            "{1, 2, 3, 4, 5, 6, 7}\n",
            "{1, 2, 3, 4, 5, 6, 7}\n",
            "s1 =  {1, 2, 3, 4, 5} ,\ts2 =  {3, 4, 5, 6, 7}\n",
            "{3, 4, 5}\n",
            "{3, 4, 5}\n",
            "s1 =  {1, 2, 3, 4, 5} ,\ts2 =  {3, 4, 5, 6, 7}\n",
            "{1, 2}\n",
            "{1, 2}\n"
          ],
          "name": "stdout"
        }
      ]
    },
    {
      "cell_type": "markdown",
      "metadata": {
        "id": "Pamh8sK4Gq7Z",
        "colab_type": "text"
      },
      "source": [
        "# 딕셔너리 (Dictionary)\n",
        "전화번호부와 같이 키(key)와 값(value)형태의 데이터를 저장하는 자료구조, 여기서 키 값은 다른 데이터와 중복을 허용하지 않음.\n",
        "\n",
        "- 데이터를 효율적으로 관리하는 방안\n",
        "- 불필요한 데이터의 개수를 줄임\n",
        "- 늘어나는 데이터를 관리할 수 있는 변수의 개수를 줄임\n",
        "\n",
        "\n",
        "\n",
        "```\n",
        "dict_data = {key1:value1, key2:value2, .... }\n",
        "```\n",
        "\n"
      ]
    },
    {
      "cell_type": "code",
      "metadata": {
        "id": "DNMf3f3rI8EN",
        "colab_type": "code",
        "colab": {
          "base_uri": "https://localhost:8080/",
          "height": 34
        },
        "outputId": "35aa06b4-2628-406a-84e5-2c42bd9f7ff8"
      },
      "source": [
        "kor_score = [49, 80, 20, 100, 80]\n",
        "math_score = [43, 60, 85, 30, 90]\n",
        "eng_score = [49, 82, 48, 50, 100]\n",
        "midterm_score = [kor_score, math_score, eng_score]\n",
        "\n",
        "student_score = [0, 0, 0, 0, 0]\n",
        "i = 0\n",
        "for subject in midterm_score:\n",
        "    for score in subject:\n",
        "        student_score[i] += score                   # 학생마다 개별로 교과 점수를 저장\n",
        "        i += 1                                      # 학생 인덱스 구분\n",
        "    i = 0                                           # 과목이 바뀔 때 학생 인덱스 초기화\n",
        "else:\n",
        "    a, b, c, d, e = student_score                   # 학생별 점수를 언패킹\n",
        "    student_average = [a/3, b/3, c/3, d/3, e/3]\n",
        "    print(student_average)"
      ],
      "execution_count": null,
      "outputs": [
        {
          "output_type": "stream",
          "text": [
            "[47.0, 74.0, 51.0, 60.0, 90.0]\n"
          ],
          "name": "stdout"
        }
      ]
    },
    {
      "cell_type": "code",
      "metadata": {
        "id": "Gbt_zqJxI8mR",
        "colab_type": "code",
        "colab": {
          "base_uri": "https://localhost:8080/",
          "height": 34
        },
        "outputId": "fe91c01a-73f1-40b7-a1d7-a57a87ee7f61"
      },
      "source": [
        "midterm_score = {'kor':kor_score, 'math':math_score, 'eng':eng_score}\n",
        "print(midterm_score['kor'])"
      ],
      "execution_count": null,
      "outputs": [
        {
          "output_type": "stream",
          "text": [
            "[49, 80, 20, 100, 80]\n"
          ],
          "name": "stdout"
        }
      ]
    },
    {
      "cell_type": "code",
      "metadata": {
        "id": "5t20sdCxI-I8",
        "colab_type": "code",
        "colab": {
          "base_uri": "https://localhost:8080/",
          "height": 34
        },
        "outputId": "330fbeeb-12ce-442c-c9e4-bb1b52a6b055"
      },
      "source": [
        "newDic = {} # 없으면 error!\n",
        "newDic['America'] = 1 # 어디에 저장할건가요? 빈 생성 공간이라도 필요!\n",
        "newDic"
      ],
      "execution_count": 7,
      "outputs": [
        {
          "output_type": "execute_result",
          "data": {
            "text/plain": [
              "{'America': 1}"
            ]
          },
          "metadata": {
            "tags": []
          },
          "execution_count": 7
        }
      ]
    },
    {
      "cell_type": "code",
      "metadata": {
        "id": "PK4DVxvPRSw2",
        "colab_type": "code",
        "colab": {
          "base_uri": "https://localhost:8080/",
          "height": 34
        },
        "outputId": "9b80a4db-1902-4bed-ad4c-c25df0758067"
      },
      "source": [
        "newDic['America'] = 2\n",
        "newDic"
      ],
      "execution_count": 9,
      "outputs": [
        {
          "output_type": "execute_result",
          "data": {
            "text/plain": [
              "{'America': 2}"
            ]
          },
          "metadata": {
            "tags": []
          },
          "execution_count": 9
        }
      ]
    },
    {
      "cell_type": "code",
      "metadata": {
        "id": "1MWoui90OPmx",
        "colab_type": "code",
        "colab": {
          "base_uri": "https://localhost:8080/",
          "height": 34
        },
        "outputId": "d63e02d5-f471-426c-cf33-0ffe1f165595"
      },
      "source": [
        "country_code = {'America':1, 'Korea':82, 'China':86, 'Japan':81}\n",
        "country_code"
      ],
      "execution_count": 10,
      "outputs": [
        {
          "output_type": "execute_result",
          "data": {
            "text/plain": [
              "{'America': 1, 'China': 86, 'Japan': 81, 'Korea': 82}"
            ]
          },
          "metadata": {
            "tags": []
          },
          "execution_count": 10
        }
      ]
    },
    {
      "cell_type": "code",
      "metadata": {
        "id": "C9nHZ3kIOS0F",
        "colab_type": "code",
        "colab": {
          "base_uri": "https://localhost:8080/",
          "height": 34
        },
        "outputId": "64f38981-c945-4aba-f93a-f1b2b015df96"
      },
      "source": [
        "country_code[\"German\"] = 49\n",
        "country_code"
      ],
      "execution_count": 11,
      "outputs": [
        {
          "output_type": "execute_result",
          "data": {
            "text/plain": [
              "{'America': 1, 'China': 86, 'German': 49, 'Japan': 81, 'Korea': 82}"
            ]
          },
          "metadata": {
            "tags": []
          },
          "execution_count": 11
        }
      ]
    },
    {
      "cell_type": "code",
      "metadata": {
        "id": "pOpaUugGOQv4",
        "colab_type": "code",
        "colab": {
          "base_uri": "https://localhost:8080/",
          "height": 34
        },
        "outputId": "0514138a-2398-4409-87fc-b8db207ea27c"
      },
      "source": [
        "country_code.keys()"
      ],
      "execution_count": 12,
      "outputs": [
        {
          "output_type": "execute_result",
          "data": {
            "text/plain": [
              "dict_keys(['America', 'Korea', 'China', 'Japan', 'German'])"
            ]
          },
          "metadata": {
            "tags": []
          },
          "execution_count": 12
        }
      ]
    },
    {
      "cell_type": "code",
      "metadata": {
        "id": "P1_sqICUOTNP",
        "colab_type": "code",
        "colab": {
          "base_uri": "https://localhost:8080/",
          "height": 34
        },
        "outputId": "261c40d8-efd6-40b1-d870-b46b1bba6336"
      },
      "source": [
        "country_code.values()"
      ],
      "execution_count": 13,
      "outputs": [
        {
          "output_type": "execute_result",
          "data": {
            "text/plain": [
              "dict_values([1, 82, 86, 81, 49])"
            ]
          },
          "metadata": {
            "tags": []
          },
          "execution_count": 13
        }
      ]
    },
    {
      "cell_type": "code",
      "metadata": {
        "id": "QgRYj0gPOUTj",
        "colab_type": "code",
        "colab": {
          "base_uri": "https://localhost:8080/",
          "height": 34
        },
        "outputId": "9f16f97c-773e-4a92-afa5-c578f7f7c2d9"
      },
      "source": [
        "country_code.items()"
      ],
      "execution_count": 14,
      "outputs": [
        {
          "output_type": "execute_result",
          "data": {
            "text/plain": [
              "dict_items([('America', 1), ('Korea', 82), ('China', 86), ('Japan', 81), ('German', 49)])"
            ]
          },
          "metadata": {
            "tags": []
          },
          "execution_count": 14
        }
      ]
    },
    {
      "cell_type": "code",
      "metadata": {
        "id": "sujXfSY4OXPT",
        "colab_type": "code",
        "colab": {
          "base_uri": "https://localhost:8080/",
          "height": 193
        },
        "outputId": "7466fb8f-e3e3-49c3-dc2c-09ab9c76f020"
      },
      "source": [
        "for k, v in country_code.items():\n",
        "  print(\"Key   :\", k)\n",
        "  print(\"Value :\", v)"
      ],
      "execution_count": null,
      "outputs": [
        {
          "output_type": "stream",
          "text": [
            "Key   : America\n",
            "Value : 1\n",
            "Key   : Korea\n",
            "Value : 82\n",
            "Key   : China\n",
            "Value : 86\n",
            "Key   : Japan\n",
            "Value : 81\n",
            "Key   : German\n",
            "Value : 49\n"
          ],
          "name": "stdout"
        }
      ]
    },
    {
      "cell_type": "code",
      "metadata": {
        "id": "Zm9L47mYOYBj",
        "colab_type": "code",
        "colab": {
          "base_uri": "https://localhost:8080/",
          "height": 34
        },
        "outputId": "0c8ae16f-fcba-4a10-e2b6-dd3c555bdbb0"
      },
      "source": [
        "\"Korea\" in country_code.keys()"
      ],
      "execution_count": null,
      "outputs": [
        {
          "output_type": "execute_result",
          "data": {
            "text/plain": [
              "True"
            ]
          },
          "metadata": {
            "tags": []
          },
          "execution_count": 29
        }
      ]
    },
    {
      "cell_type": "code",
      "metadata": {
        "id": "aOxSSBD0OY0L",
        "colab_type": "code",
        "colab": {
          "base_uri": "https://localhost:8080/",
          "height": 34
        },
        "outputId": "bd5bf11d-fcf7-4b49-aa93-8b5ecc1256e8"
      },
      "source": [
        "82 in country_code.values()"
      ],
      "execution_count": null,
      "outputs": [
        {
          "output_type": "execute_result",
          "data": {
            "text/plain": [
              "True"
            ]
          },
          "metadata": {
            "tags": []
          },
          "execution_count": 30
        }
      ]
    },
    {
      "cell_type": "code",
      "metadata": {
        "id": "d3Lsj5gvOZ1T",
        "colab_type": "code",
        "colab": {
          "base_uri": "https://localhost:8080/",
          "height": 34
        },
        "outputId": "a82355c2-a307-4cee-bc01-976735c5899d"
      },
      "source": [
        "# 문제: 'Korea'의 국가번호코드가 있는 경우 코드를 출력하시오\n",
        "country = \"Korea\"\n",
        "if country in country_code.keys():\n",
        "  print(\"{}의 국가번호는 {}입니다.\".format(country, country_code[country]))"
      ],
      "execution_count": null,
      "outputs": [
        {
          "output_type": "stream",
          "text": [
            "Korea의 국가번호는 82입니다.\n"
          ],
          "name": "stdout"
        }
      ]
    },
    {
      "cell_type": "markdown",
      "metadata": {
        "id": "IUmVzv7sXk5g",
        "colab_type": "text"
      },
      "source": [
        "# deque - 스택과 큐의 역할 모두 함"
      ]
    },
    {
      "cell_type": "code",
      "metadata": {
        "id": "RyLDj6r9Oayc",
        "colab_type": "code",
        "colab": {
          "base_uri": "https://localhost:8080/",
          "height": 34
        },
        "outputId": "50b3d85d-3ad3-4f68-a5c6-9a93dc8eaf45"
      },
      "source": [
        "from collections import deque\n",
        "\n",
        "deque_list = deque()\n",
        "for i in range(5):\n",
        "  deque_list.append(i)\n",
        "\n",
        "deque_list"
      ],
      "execution_count": null,
      "outputs": [
        {
          "output_type": "execute_result",
          "data": {
            "text/plain": [
              "deque([0, 1, 2, 3, 4])"
            ]
          },
          "metadata": {
            "tags": []
          },
          "execution_count": 40
        }
      ]
    },
    {
      "cell_type": "code",
      "metadata": {
        "id": "xWHVjXckXn6v",
        "colab_type": "code",
        "colab": {
          "base_uri": "https://localhost:8080/",
          "height": 34
        },
        "outputId": "ae0b929b-8f81-4fe0-de93-ed52a8220267"
      },
      "source": [
        "deque_list.pop()\n",
        "deque_list"
      ],
      "execution_count": null,
      "outputs": [
        {
          "output_type": "execute_result",
          "data": {
            "text/plain": [
              "deque([0, 1, 2, 3])"
            ]
          },
          "metadata": {
            "tags": []
          },
          "execution_count": 41
        }
      ]
    },
    {
      "cell_type": "code",
      "metadata": {
        "id": "oFD9DYgZXpme",
        "colab_type": "code",
        "colab": {
          "base_uri": "https://localhost:8080/",
          "height": 204
        },
        "outputId": "e3bda5bf-bfd9-4062-ec8f-1870c61e3eb9"
      },
      "source": [
        "# 인덱스를 지정할 수는 없다.\n",
        "deque_list.pop(1)\n",
        "deque_list"
      ],
      "execution_count": null,
      "outputs": [
        {
          "output_type": "error",
          "ename": "TypeError",
          "evalue": "ignored",
          "traceback": [
            "\u001b[0;31m---------------------------------------------------------------------------\u001b[0m",
            "\u001b[0;31mTypeError\u001b[0m                                 Traceback (most recent call last)",
            "\u001b[0;32m<ipython-input-42-dce439c4f59c>\u001b[0m in \u001b[0;36m<module>\u001b[0;34m()\u001b[0m\n\u001b[1;32m      1\u001b[0m \u001b[0;31m# 인덱스를 지정할 수는 없다.\u001b[0m\u001b[0;34m\u001b[0m\u001b[0;34m\u001b[0m\u001b[0;34m\u001b[0m\u001b[0m\n\u001b[0;32m----> 2\u001b[0;31m \u001b[0mdeque_list\u001b[0m\u001b[0;34m.\u001b[0m\u001b[0mpop\u001b[0m\u001b[0;34m(\u001b[0m\u001b[0;36m1\u001b[0m\u001b[0;34m)\u001b[0m\u001b[0;34m\u001b[0m\u001b[0;34m\u001b[0m\u001b[0m\n\u001b[0m\u001b[1;32m      3\u001b[0m \u001b[0mdeque_list\u001b[0m\u001b[0;34m\u001b[0m\u001b[0;34m\u001b[0m\u001b[0m\n",
            "\u001b[0;31mTypeError\u001b[0m: pop() takes no arguments (1 given)"
          ]
        }
      ]
    },
    {
      "cell_type": "code",
      "metadata": {
        "id": "EuLUiAhQXrlM",
        "colab_type": "code",
        "colab": {
          "base_uri": "https://localhost:8080/",
          "height": 34
        },
        "outputId": "2f6f5e56-f788-4de0-c7f7-2473f400255f"
      },
      "source": [
        "# 왼쪽에 추가할 수도 있다.\n",
        "\n",
        "deque_list.appendleft(6)\n",
        "deque_list"
      ],
      "execution_count": null,
      "outputs": [
        {
          "output_type": "execute_result",
          "data": {
            "text/plain": [
              "deque([6, 6, 0, 1, 2, 3])"
            ]
          },
          "metadata": {
            "tags": []
          },
          "execution_count": 44
        }
      ]
    },
    {
      "cell_type": "markdown",
      "metadata": {
        "id": "7mrhstw9XwnM",
        "colab_type": "text"
      },
      "source": [
        "## rotate() \n",
        "deque에 저장된 요소들의 값 인덱스를 바꾸는 기법\n",
        "-  rotate()를 이용하여 circular linked list처럼 만들 수 있다.\n"
      ]
    },
    {
      "cell_type": "code",
      "metadata": {
        "id": "COddhUyyXs4d",
        "colab_type": "code",
        "colab": {
          "base_uri": "https://localhost:8080/",
          "height": 34
        },
        "outputId": "720f8f97-d84c-4ac8-a66f-ae8786782497"
      },
      "source": [
        "from collections import deque\n",
        "deque_list = deque()\n",
        "for i in range(5):\n",
        "  deque_list.append(i)\n",
        "deque_list"
      ],
      "execution_count": null,
      "outputs": [
        {
          "output_type": "execute_result",
          "data": {
            "text/plain": [
              "deque([0, 1, 2, 3, 4])"
            ]
          },
          "metadata": {
            "tags": []
          },
          "execution_count": 45
        }
      ]
    },
    {
      "cell_type": "code",
      "metadata": {
        "id": "wJ95M_IKXuu5",
        "colab_type": "code",
        "colab": {
          "base_uri": "https://localhost:8080/",
          "height": 34
        },
        "outputId": "33b1737d-99a5-44c4-c386-40674179e804"
      },
      "source": [
        "deque_list.rotate(2)\n",
        "deque_list"
      ],
      "execution_count": null,
      "outputs": [
        {
          "output_type": "execute_result",
          "data": {
            "text/plain": [
              "deque([3, 4, 0, 1, 2])"
            ]
          },
          "metadata": {
            "tags": []
          },
          "execution_count": 46
        }
      ]
    },
    {
      "cell_type": "code",
      "metadata": {
        "id": "wBcMJEG8XwHh",
        "colab_type": "code",
        "colab": {
          "base_uri": "https://localhost:8080/",
          "height": 34
        },
        "outputId": "45e63b46-81d5-4d10-d4b5-61dc76ffaf76"
      },
      "source": [
        "deque_list.rotate(2)\n",
        "deque_list"
      ],
      "execution_count": null,
      "outputs": [
        {
          "output_type": "execute_result",
          "data": {
            "text/plain": [
              "deque([1, 2, 3, 4, 0])"
            ]
          },
          "metadata": {
            "tags": []
          },
          "execution_count": 47
        }
      ]
    },
    {
      "cell_type": "code",
      "metadata": {
        "id": "5DL6veoWX7MY",
        "colab_type": "code",
        "colab": {
          "base_uri": "https://localhost:8080/",
          "height": 34
        },
        "outputId": "7a1ed4f6-8d3e-476e-b8be-bdb36d742c68"
      },
      "source": [
        "# 리스트처럼 extend() 사용 가능. extendleft()도 있다.\n",
        "\n",
        "deque_list.extend([5,6,7])\n",
        "deque_list"
      ],
      "execution_count": null,
      "outputs": [
        {
          "output_type": "execute_result",
          "data": {
            "text/plain": [
              "deque([1, 2, 3, 4, 0, 5, 6, 7])"
            ]
          },
          "metadata": {
            "tags": []
          },
          "execution_count": 48
        }
      ]
    },
    {
      "cell_type": "code",
      "metadata": {
        "id": "1JuUhYjrX9Ne",
        "colab_type": "code",
        "colab": {
          "base_uri": "https://localhost:8080/",
          "height": 34
        },
        "outputId": "f9898fce-b555-4ac0-bd62-d8690bb87887"
      },
      "source": [
        "deque_list.extendleft([5,6,7])\n",
        "deque_list"
      ],
      "execution_count": null,
      "outputs": [
        {
          "output_type": "execute_result",
          "data": {
            "text/plain": [
              "deque([7, 6, 5, 1, 2, 3, 4, 0, 5, 6, 7])"
            ]
          },
          "metadata": {
            "tags": []
          },
          "execution_count": 49
        }
      ]
    },
    {
      "cell_type": "markdown",
      "metadata": {
        "id": "4Frut4RuX_y9",
        "colab_type": "text"
      },
      "source": [
        "## ordereddict - 순서를 가진 딕셔너리\n",
        "- 키나 값으로 데이터를 정렬할 때 많이 사용 (예, 주민번호를 번호 순서대로 정렬한 후 데이터로 출력하고자 할 때)"
      ]
    },
    {
      "cell_type": "code",
      "metadata": {
        "id": "JSL1Mm9mX-6p",
        "colab_type": "code",
        "colab": {
          "base_uri": "https://localhost:8080/",
          "height": 87
        },
        "outputId": "b88b647f-3d2e-4491-a86a-3a6e71001dde"
      },
      "source": [
        "d = {}\n",
        "d['x'] = 100\n",
        "d['l'] = 500\n",
        "d['y'] = 200\n",
        "d['z'] = 300\n",
        "\n",
        "for k, v in d.items():\n",
        "    print(k, v)"
      ],
      "execution_count": null,
      "outputs": [
        {
          "output_type": "stream",
          "text": [
            "x 100\n",
            "l 500\n",
            "y 200\n",
            "z 300\n"
          ],
          "name": "stdout"
        }
      ]
    },
    {
      "cell_type": "code",
      "metadata": {
        "id": "Dok95JP7YKQ5",
        "colab_type": "code",
        "colab": {
          "base_uri": "https://localhost:8080/",
          "height": 87
        },
        "outputId": "4d9dac0b-eb03-417d-d803-f12627e10c2a"
      },
      "source": [
        "from collections import OrderedDict         #OrderedDict 모듈 선언\n",
        "\n",
        "d = OrderedDict()\n",
        "d['x'] = 100\n",
        "d['y'] = 200\n",
        "d['z'] = 300\n",
        "d['l'] = 500\n",
        "\n",
        "for k, v in d.items():\n",
        "    print(k, v)"
      ],
      "execution_count": null,
      "outputs": [
        {
          "output_type": "stream",
          "text": [
            "x 100\n",
            "y 200\n",
            "z 300\n",
            "l 500\n"
          ],
          "name": "stdout"
        }
      ]
    },
    {
      "cell_type": "code",
      "metadata": {
        "id": "IQ-8NP27YLe6",
        "colab_type": "code",
        "colab": {
          "base_uri": "https://localhost:8080/",
          "height": 87
        },
        "outputId": "f702c7ad-1876-4d8f-cb69-4786d454e915"
      },
      "source": [
        "# 아래와 같이 하면 기존 딕셔너리나 리스트의 순서는 지키면서 딕셔너리 형태로 관리할 수 있다.\n",
        "\n",
        "def sort_by_key(t):\n",
        "#    print(t)\n",
        "    return t[0]\n",
        "\n",
        "def sort_by_value(t):\n",
        "    return t[1]\n",
        "\n",
        "from collections import OrderedDict         #OrderedDict 모듈 선언\n",
        "\n",
        "d = dict()\n",
        "d['x'] = 100\n",
        "d['y'] = 200\n",
        "d['z'] = 300\n",
        "d['l'] = 500\n",
        "\n",
        "for k, v in OrderedDict(sorted(d.items(), key=sort_by_key)).items():\n",
        "    print(k, v)"
      ],
      "execution_count": null,
      "outputs": [
        {
          "output_type": "stream",
          "text": [
            "l 500\n",
            "x 100\n",
            "y 200\n",
            "z 300\n"
          ],
          "name": "stdout"
        }
      ]
    },
    {
      "cell_type": "code",
      "metadata": {
        "id": "ksxNaJsYYMbz",
        "colab_type": "code",
        "colab": {
          "base_uri": "https://localhost:8080/",
          "height": 34
        },
        "outputId": "4dd045da-c16f-45e4-dab3-96c19824457a"
      },
      "source": [
        "sorted(d.items(), key=sort_by_key)"
      ],
      "execution_count": null,
      "outputs": [
        {
          "output_type": "execute_result",
          "data": {
            "text/plain": [
              "[('l', 500), ('x', 100), ('y', 200), ('z', 300)]"
            ]
          },
          "metadata": {
            "tags": []
          },
          "execution_count": 53
        }
      ]
    },
    {
      "cell_type": "markdown",
      "metadata": {
        "id": "YWrQZDGJYQvu",
        "colab_type": "text"
      },
      "source": [
        "# defaultdict\n",
        "- 딕셔너리를 생성할 때 기본값 지정"
      ]
    },
    {
      "cell_type": "code",
      "metadata": {
        "id": "iXd3GC5ZYNwb",
        "colab_type": "code",
        "colab": {
          "base_uri": "https://localhost:8080/",
          "height": 222
        },
        "outputId": "f8993e0d-cf44-4cbc-b983-968b6866490e"
      },
      "source": [
        "d = dict()\n",
        "print(d[\"first\"])\n",
        "\n",
        "# first의 키값을 별도로 생성하지 않은 채 바로 호출하면 KeyError가 발생한다"
      ],
      "execution_count": null,
      "outputs": [
        {
          "output_type": "error",
          "ename": "KeyError",
          "evalue": "ignored",
          "traceback": [
            "\u001b[0;31m---------------------------------------------------------------------------\u001b[0m",
            "\u001b[0;31mKeyError\u001b[0m                                  Traceback (most recent call last)",
            "\u001b[0;32m<ipython-input-54-bbb13129f5ba>\u001b[0m in \u001b[0;36m<module>\u001b[0;34m()\u001b[0m\n\u001b[1;32m      1\u001b[0m \u001b[0md\u001b[0m \u001b[0;34m=\u001b[0m \u001b[0mdict\u001b[0m\u001b[0;34m(\u001b[0m\u001b[0;34m)\u001b[0m\u001b[0;34m\u001b[0m\u001b[0;34m\u001b[0m\u001b[0m\n\u001b[0;32m----> 2\u001b[0;31m \u001b[0mprint\u001b[0m\u001b[0;34m(\u001b[0m\u001b[0md\u001b[0m\u001b[0;34m[\u001b[0m\u001b[0;34m\"first\"\u001b[0m\u001b[0;34m]\u001b[0m\u001b[0;34m)\u001b[0m\u001b[0;34m\u001b[0m\u001b[0;34m\u001b[0m\u001b[0m\n\u001b[0m\u001b[1;32m      3\u001b[0m \u001b[0;34m\u001b[0m\u001b[0m\n\u001b[1;32m      4\u001b[0m \u001b[0;31m# first의 키값을 별도로 생성하지 않은 채 바로 호출하면 KeyError가 발생한다\u001b[0m\u001b[0;34m\u001b[0m\u001b[0;34m\u001b[0m\u001b[0;34m\u001b[0m\u001b[0m\n",
            "\u001b[0;31mKeyError\u001b[0m: 'first'"
          ]
        }
      ]
    },
    {
      "cell_type": "code",
      "metadata": {
        "id": "-gdKlGUlYU3T",
        "colab_type": "code",
        "colab": {
          "base_uri": "https://localhost:8080/",
          "height": 34
        },
        "outputId": "63df07e2-8b52-43c1-9a46-315eeacda1c7"
      },
      "source": [
        "from collections import defaultdict\n",
        "\n",
        "d = defaultdict(lambda: 0)          # Default 값을 0으로 설정. 어떤 키든 값(value)은 초기에 모두 0이다.\n",
        "                                    # lambda는 'return 0'과 비슷한 의미\n",
        "print(d[\"first\"])\n"
      ],
      "execution_count": null,
      "outputs": [
        {
          "output_type": "stream",
          "text": [
            "0\n"
          ],
          "name": "stdout"
        }
      ]
    },
    {
      "cell_type": "code",
      "metadata": {
        "id": "hk_XKJQDYVOl",
        "colab_type": "code",
        "colab": {
          "base_uri": "https://localhost:8080/",
          "height": 34
        },
        "outputId": "34ec2b6e-a9c5-4c51-e8e6-5dadcb374f61"
      },
      "source": [
        "# 초기값을 리스트 형대로 설정할 수도 있다\n",
        "# 같은 이름을 가진 키가 여러 개 있을 때 이 키의 값을 하나로 만들 때 사용\n",
        "\n",
        "from collections import defaultdict\n",
        "\n",
        "s = [('yellow', 1), ('blue', 2), ('yellow', 3), ('blue', 4), ('red', 1)]\n",
        "d = defaultdict(list) # 초기값을 리스트로 하겠다고 선언\n",
        "for k, v in s:\n",
        "    d[k].append(v)\n",
        "\n",
        "print(d.items())\n",
        "#[('blue', [2, 4]), ('red', [1]), ('yellow', [1, 3])]\n"
      ],
      "execution_count": null,
      "outputs": [
        {
          "output_type": "stream",
          "text": [
            "dict_items([('yellow', [1, 3]), ('blue', [2, 4]), ('red', [1])])\n"
          ],
          "name": "stdout"
        }
      ]
    },
    {
      "cell_type": "code",
      "metadata": {
        "id": "c_Ybnq8zYWjL",
        "colab_type": "code",
        "colab": {
          "base_uri": "https://localhost:8080/",
          "height": 668
        },
        "outputId": "623970f5-fc51-4892-fe24-d8eaf84158fd"
      },
      "source": [
        "text = \"\"\"A press release is the quickest and easiest way to get free publicity. If well written, a press release can result in multiple published articles about your firm and its products. And that can mean new prospects contacting you asking you to sell to them. ….\"\"\".lower().split()\n",
        "\n",
        "from collections import defaultdict\n",
        "\n",
        "word_count = defaultdict(lambda: 0)             # Default 값을 0으로 설정\n",
        "for word in text:\n",
        "    word_count[word] += 1\n",
        "\n",
        "from collections import OrderedDict\n",
        "for i, v in OrderedDict(sorted(word_count.items(), key=lambda t: t[1], reverse=True)).items():\n",
        "    print(i, v)\n"
      ],
      "execution_count": null,
      "outputs": [
        {
          "output_type": "stream",
          "text": [
            "and 3\n",
            "to 3\n",
            "a 2\n",
            "press 2\n",
            "release 2\n",
            "can 2\n",
            "you 2\n",
            "is 1\n",
            "the 1\n",
            "quickest 1\n",
            "easiest 1\n",
            "way 1\n",
            "get 1\n",
            "free 1\n",
            "publicity. 1\n",
            "if 1\n",
            "well 1\n",
            "written, 1\n",
            "result 1\n",
            "in 1\n",
            "multiple 1\n",
            "published 1\n",
            "articles 1\n",
            "about 1\n",
            "your 1\n",
            "firm 1\n",
            "its 1\n",
            "products. 1\n",
            "that 1\n",
            "mean 1\n",
            "new 1\n",
            "prospects 1\n",
            "contacting 1\n",
            "asking 1\n",
            "sell 1\n",
            "them. 1\n",
            "…. 1\n"
          ],
          "name": "stdout"
        }
      ]
    },
    {
      "cell_type": "markdown",
      "metadata": {
        "id": "VzisrfOaYX3g",
        "colab_type": "text"
      },
      "source": [
        "#### Counter - 시퀀스 자료형의 데이터 값의 개수를 딕셔너리 형태로 반환"
      ]
    },
    {
      "cell_type": "code",
      "metadata": {
        "id": "DfiBvLbIYXXQ",
        "colab_type": "code",
        "colab": {
          "base_uri": "https://localhost:8080/",
          "height": 34
        },
        "outputId": "82cf5104-59e8-4c39-82c1-a7d6bd9fe8c0"
      },
      "source": [
        "from collections import Counter\n",
        "text = list(\"gallahad\")\n",
        "text"
      ],
      "execution_count": null,
      "outputs": [
        {
          "output_type": "execute_result",
          "data": {
            "text/plain": [
              "['g', 'a', 'l', 'l', 'a', 'h', 'a', 'd']"
            ]
          },
          "metadata": {
            "tags": []
          },
          "execution_count": 58
        }
      ]
    },
    {
      "cell_type": "code",
      "metadata": {
        "id": "xBzZZq92YaEq",
        "colab_type": "code",
        "colab": {
          "base_uri": "https://localhost:8080/",
          "height": 34
        },
        "outputId": "b1074cb1-e1fe-4ca9-8351-33a957f04831"
      },
      "source": [
        "c = Counter(text)\n",
        "c"
      ],
      "execution_count": null,
      "outputs": [
        {
          "output_type": "execute_result",
          "data": {
            "text/plain": [
              "Counter({'a': 3, 'd': 1, 'g': 1, 'h': 1, 'l': 2})"
            ]
          },
          "metadata": {
            "tags": []
          },
          "execution_count": 59
        }
      ]
    },
    {
      "cell_type": "code",
      "metadata": {
        "id": "5VZCXd0fYa9Y",
        "colab_type": "code",
        "colab": {
          "base_uri": "https://localhost:8080/",
          "height": 34
        },
        "outputId": "50603979-c92a-47b8-f84d-0898b9d687e4"
      },
      "source": [
        "c['a']"
      ],
      "execution_count": null,
      "outputs": [
        {
          "output_type": "execute_result",
          "data": {
            "text/plain": [
              "3"
            ]
          },
          "metadata": {
            "tags": []
          },
          "execution_count": 60
        }
      ]
    },
    {
      "cell_type": "code",
      "metadata": {
        "id": "X9334TuRYb_m",
        "colab_type": "code",
        "colab": {
          "base_uri": "https://localhost:8080/",
          "height": 193
        },
        "outputId": "b3225c52-a993-4feb-fc81-24b13677c492"
      },
      "source": [
        "Counter(\"Hello everybody\")"
      ],
      "execution_count": null,
      "outputs": [
        {
          "output_type": "execute_result",
          "data": {
            "text/plain": [
              "Counter({' ': 1,\n",
              "         'H': 1,\n",
              "         'b': 1,\n",
              "         'd': 1,\n",
              "         'e': 3,\n",
              "         'l': 2,\n",
              "         'o': 2,\n",
              "         'r': 1,\n",
              "         'v': 1,\n",
              "         'y': 2})"
            ]
          },
          "metadata": {
            "tags": []
          },
          "execution_count": 61
        }
      ]
    },
    {
      "cell_type": "markdown",
      "metadata": {
        "id": "c4eGZhQYYdm2",
        "colab_type": "text"
      },
      "source": [
        "#### namedtuple - 튜플의 형태로 데이터 구조체를 저장"
      ]
    },
    {
      "cell_type": "code",
      "metadata": {
        "id": "W0iQCvEXYdFh",
        "colab_type": "code",
        "colab": {
          "base_uri": "https://localhost:8080/",
          "height": 34
        },
        "outputId": "f8c6d019-c881-4bb4-867b-b6aca31484c3"
      },
      "source": [
        "from collections import namedtuple\n",
        "Point = namedtuple('Point', ['x','y']) # 'Point'라는 객체를 만들고 저장되는 요소의 이름을 'x'와 'y'라고 하겠다.\n",
        "p = Point(11, y=22)   # Point 객체 생성\n",
        "p"
      ],
      "execution_count": null,
      "outputs": [
        {
          "output_type": "execute_result",
          "data": {
            "text/plain": [
              "Point(x=11, y=22)"
            ]
          },
          "metadata": {
            "tags": []
          },
          "execution_count": 62
        }
      ]
    },
    {
      "cell_type": "code",
      "metadata": {
        "id": "83hK7tuWYf0a",
        "colab_type": "code",
        "colab": {
          "base_uri": "https://localhost:8080/",
          "height": 34
        },
        "outputId": "cf867e8d-bd75-4f05-c234-4d9a5f42f7af"
      },
      "source": [
        "#1 '변수명.요소이름'으로 참조 가능\n",
        "\n",
        "p.x, p.y"
      ],
      "execution_count": null,
      "outputs": [
        {
          "output_type": "execute_result",
          "data": {
            "text/plain": [
              "(11, 22)"
            ]
          },
          "metadata": {
            "tags": []
          },
          "execution_count": 63
        }
      ]
    },
    {
      "cell_type": "code",
      "metadata": {
        "id": "yVARgnH_Ygsb",
        "colab_type": "code",
        "colab": {
          "base_uri": "https://localhost:8080/",
          "height": 34
        },
        "outputId": "43e792b5-6576-468e-9a29-2e5c0542b97c"
      },
      "source": [
        "#2 인덱스로 참조 가능\n",
        "\n",
        "print(p[0]+p[1])"
      ],
      "execution_count": null,
      "outputs": [
        {
          "output_type": "stream",
          "text": [
            "33\n"
          ],
          "name": "stdout"
        }
      ]
    }
  ]
}