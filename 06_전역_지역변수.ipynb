{
  "nbformat": 4,
  "nbformat_minor": 0,
  "metadata": {
    "colab": {
      "name": "python_05_전역/지역변수.ipynb",
      "provenance": [],
      "collapsed_sections": [],
      "authorship_tag": "ABX9TyPSk+IH9QDX/XCI7vKXsxkN",
      "include_colab_link": true
    },
    "kernelspec": {
      "name": "python3",
      "display_name": "Python 3"
    }
  },
  "cells": [
    {
      "cell_type": "markdown",
      "metadata": {
        "id": "view-in-github",
        "colab_type": "text"
      },
      "source": [
        "<a href=\"https://colab.research.google.com/github/HyoJInNam/Python/blob/master/06_%EC%A0%84%EC%97%AD_%EC%A7%80%EC%97%AD%EB%B3%80%EC%88%98.ipynb\" target=\"_parent\"><img src=\"https://colab.research.google.com/assets/colab-badge.svg\" alt=\"Open In Colab\"/></a>"
      ]
    },
    {
      "cell_type": "markdown",
      "metadata": {
        "id": "spL9K-rvBLPN",
        "colab_type": "text"
      },
      "source": [
        "### 전역변수와 지역변수"
      ]
    },
    {
      "cell_type": "code",
      "metadata": {
        "id": "1CawmO5M-p4Z",
        "colab_type": "code",
        "colab": {}
      },
      "source": [
        "pi = 3.141592653589793\n",
        "\n",
        "def area_of_circle(radius):\n",
        "    \"\"\"원의 반지름(radius)을 입력받아 넓이를 반환한다.\"\"\"\n",
        "    area = radius * radius * pi\n",
        "    return area\n",
        "\n",
        "def volume_of_cylinder(radius, height):\n",
        "    \"\"\"원기둥의 반지름(radius)과 높이(height)를 입력받아\n",
        "    부피를 반환한다.\"\"\"\n",
        "    top_area = area_of_circle(radius)\n",
        "    volume = top_area * height\n",
        "    return volume\n",
        "\n",
        "result = volume_of_cylinder(5, 10)\n",
        "print(result)"
      ],
      "execution_count": null,
      "outputs": []
    },
    {
      "cell_type": "code",
      "metadata": {
        "id": "_ueIScG1BObU",
        "colab_type": "code",
        "colab": {}
      },
      "source": [
        "# global문 사용 - 가능하면 사용지 않는 것이 좋다\n",
        "\n",
        "num_stamp = 0  # 쿠폰 스탬프가 찍힌 횟수 (전역변수)\n",
        "\n",
        "def stamp():\n",
        "    \"\"\"쿠폰 스탬프가 찍힌 횟수를 증가시키고, 화면에 출력한다.\"\"\"\n",
        "    global num_stamp           # ❶ num_stamp는 전역변수다\n",
        "    num_stamp = num_stamp + 1  # 이제 오류가 발생하지 않는다\n",
        "    print(num_stamp)\n",
        "\n",
        "stamp()  # 화면에 1이 출력된다\n",
        "stamp()  # 화면에 2가 출력된다"
      ],
      "execution_count": null,
      "outputs": []
    },
    {
      "cell_type": "code",
      "metadata": {
        "id": "bTH8mLphBRvd",
        "colab_type": "code",
        "colab": {}
      },
      "source": [
        "# 매개변수와 return 값을 이용하자\n",
        "\n",
        "\n",
        "num_stamp = 0  # ❶ 쿠폰 스탬프가 찍힌 횟수 (전역변수)\n",
        "\n",
        "def stamp(num_stamp):  # ❷ 지역변수(매개변수) num_stamp\n",
        "    \"\"\"쿠폰 스탬프가 찍힌 횟수를 증가시키고, 화면에 출력한다.\"\"\"\n",
        "    num_stamp = num_stamp + 1\n",
        "    print(num_stamp)\n",
        "    return num_stamp\n",
        "\n",
        "num_stamp = stamp(num_stamp)  # ❸ 전역변수에 함수의 반환값을 대입한다\n",
        "num_stamp = stamp(num_stamp)"
      ],
      "execution_count": null,
      "outputs": []
    }
  ]
}