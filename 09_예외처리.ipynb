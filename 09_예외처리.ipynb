{
  "nbformat": 4,
  "nbformat_minor": 0,
  "metadata": {
    "colab": {
      "name": "python_07_예외처리.ipynb",
      "provenance": [],
      "collapsed_sections": [],
      "authorship_tag": "ABX9TyNUBkLlgim5fsxJDqoCiqPG",
      "include_colab_link": true
    },
    "kernelspec": {
      "name": "python3",
      "display_name": "Python 3"
    }
  },
  "cells": [
    {
      "cell_type": "markdown",
      "metadata": {
        "id": "view-in-github",
        "colab_type": "text"
      },
      "source": [
        "<a href=\"https://colab.research.google.com/github/HyoJInNam/Python/blob/master/09_%EC%98%88%EC%99%B8%EC%B2%98%EB%A6%AC.ipynb\" target=\"_parent\"><img src=\"https://colab.research.google.com/assets/colab-badge.svg\" alt=\"Open In Colab\"/></a>"
      ]
    },
    {
      "cell_type": "markdown",
      "metadata": {
        "id": "V3jZYi-QZOnI",
        "colab_type": "text"
      },
      "source": [
        "# 예외처리\n",
        "- try-except문\n",
        "\n",
        "\n",
        "\n",
        "```\n",
        "try:\n",
        "    예외 발생 가능 코드\n",
        "except 예외 타입:\n",
        "    예외 발생 시 실행되는 코드\n",
        "```\n",
        "\n",
        "- 파이썬의 내장 예외들: https://docs.python.org/ko/3/library/exceptions.html\n"
      ]
    },
    {
      "cell_type": "markdown",
      "metadata": {
        "id": "m45niF_GZQoG",
        "colab_type": "text"
      },
      "source": [
        "## try - except"
      ]
    },
    {
      "cell_type": "code",
      "metadata": {
        "id": "JDSD4a2TZHQZ",
        "colab_type": "code",
        "colab": {
          "base_uri": "https://localhost:8080/",
          "height": 193
        },
        "outputId": "6b281f2e-210f-4945-aef2-a8709f37c064"
      },
      "source": [
        "for i in range(10):\n",
        "    try:\n",
        "        print(10 / i)\n",
        "    except ZeroDivisionError:\n",
        "        print(\"Not divided by 0\")\n"
      ],
      "execution_count": null,
      "outputs": [
        {
          "output_type": "stream",
          "text": [
            "Not divided by 0\n",
            "10.0\n",
            "5.0\n",
            "3.3333333333333335\n",
            "2.5\n",
            "2.0\n",
            "1.6666666666666667\n",
            "1.4285714285714286\n",
            "1.25\n",
            "1.1111111111111112\n"
          ],
          "name": "stdout"
        }
      ]
    },
    {
      "cell_type": "code",
      "metadata": {
        "id": "lOYyfA5SZTJr",
        "colab_type": "code",
        "colab": {
          "base_uri": "https://localhost:8080/",
          "height": 210
        },
        "outputId": "2a00076d-3458-4f86-d8cd-34cd9970045f"
      },
      "source": [
        "for i in range(10):\n",
        "    try:\n",
        "        print(10 / i)\n",
        "    except ZeroDivisionError as e:\n",
        "        print(e)\n",
        "        print(\"Not divided by 0\")\n"
      ],
      "execution_count": null,
      "outputs": [
        {
          "output_type": "stream",
          "text": [
            "division by zero\n",
            "Not divided by 0\n",
            "10.0\n",
            "5.0\n",
            "3.3333333333333335\n",
            "2.5\n",
            "2.0\n",
            "1.6666666666666667\n",
            "1.4285714285714286\n",
            "1.25\n",
            "1.1111111111111112\n"
          ],
          "name": "stdout"
        }
      ]
    },
    {
      "cell_type": "markdown",
      "metadata": {
        "id": "HpM6Lls7ZU2q",
        "colab_type": "text"
      },
      "source": [
        "## try - except - else"
      ]
    },
    {
      "cell_type": "code",
      "metadata": {
        "id": "Mk9pRwz_ZToX",
        "colab_type": "code",
        "colab": {
          "base_uri": "https://localhost:8080/",
          "height": 193
        },
        "outputId": "3c0aa768-cfb6-400b-f99a-603fac336b51"
      },
      "source": [
        "for i in range(10):\n",
        "    try:\n",
        "        result = 10 / i\n",
        "    except ZeroDivisionError:\n",
        "        print(\"Not divided by 0\")\n",
        "    else:\n",
        "        print(10 / i)"
      ],
      "execution_count": null,
      "outputs": [
        {
          "output_type": "stream",
          "text": [
            "Not divided by 0\n",
            "10.0\n",
            "5.0\n",
            "3.3333333333333335\n",
            "2.5\n",
            "2.0\n",
            "1.6666666666666667\n",
            "1.4285714285714286\n",
            "1.25\n",
            "1.1111111111111112\n"
          ],
          "name": "stdout"
        }
      ]
    },
    {
      "cell_type": "markdown",
      "metadata": {
        "id": "p2vEa2gqZXR2",
        "colab_type": "text"
      },
      "source": [
        "## try- except - finally"
      ]
    },
    {
      "cell_type": "code",
      "metadata": {
        "id": "94I9pdu5ZW1w",
        "colab_type": "code",
        "colab": {
          "base_uri": "https://localhost:8080/",
          "height": 193
        },
        "outputId": "bc574928-24bf-43a1-b0a0-3ddfd953c37c"
      },
      "source": [
        "try:\n",
        "    for i in range(1, 10):\n",
        "        result =10 // i\n",
        "        print(result)\n",
        "except ZeroDivisionError:\n",
        "    print(\"Not divided by 0\")\n",
        "finally:\n",
        "    print(\"종료되었다.\")"
      ],
      "execution_count": null,
      "outputs": [
        {
          "output_type": "stream",
          "text": [
            "10\n",
            "5\n",
            "3\n",
            "2\n",
            "2\n",
            "1\n",
            "1\n",
            "1\n",
            "1\n",
            "종료되었다.\n"
          ],
          "name": "stdout"
        }
      ]
    },
    {
      "cell_type": "markdown",
      "metadata": {
        "id": "mwaoVlBuZZ8y",
        "colab_type": "text"
      },
      "source": [
        "## raise"
      ]
    },
    {
      "cell_type": "code",
      "metadata": {
        "id": "SQQnvyblZZhl",
        "colab_type": "code",
        "colab": {
          "base_uri": "https://localhost:8080/",
          "height": 415
        },
        "outputId": "bf64d947-10c4-4dc7-86c3-944be1001705"
      },
      "source": [
        "while True:\n",
        "    value = input(\"변환할 정수값을 입력해 주세요: \")\n",
        "    for digit in value:\n",
        "        if digit not in \"0123456789\":\n",
        "            raise ValueError(\"숫자값을 입력하지 않았습니다.\")\n",
        "    print(\"정수값으로 변환된 숫자 -\", int(value))"
      ],
      "execution_count": null,
      "outputs": [
        {
          "output_type": "stream",
          "text": [
            "변환할 정수값을 입력해 주세요: 12\n",
            "정수값으로 변환된 숫자 - 12\n",
            "변환할 정수값을 입력해 주세요: 10\n",
            "정수값으로 변환된 숫자 - 10\n",
            "변환할 정수값을 입력해 주세요: 159\n",
            "정수값으로 변환된 숫자 - 159\n",
            "변환할 정수값을 입력해 주세요: 256\n",
            "정수값으로 변환된 숫자 - 256\n",
            "변환할 정수값을 입력해 주세요: 2257\n",
            "정수값으로 변환된 숫자 - 2257\n",
            "변환할 정수값을 입력해 주세요: -5\n"
          ],
          "name": "stdout"
        },
        {
          "output_type": "error",
          "ename": "ValueError",
          "evalue": "ignored",
          "traceback": [
            "\u001b[0;31m---------------------------------------------------------------------------\u001b[0m",
            "\u001b[0;31mValueError\u001b[0m                                Traceback (most recent call last)",
            "\u001b[0;32m<ipython-input-6-67a1a297b36e>\u001b[0m in \u001b[0;36m<module>\u001b[0;34m()\u001b[0m\n\u001b[1;32m      3\u001b[0m     \u001b[0;32mfor\u001b[0m \u001b[0mdigit\u001b[0m \u001b[0;32min\u001b[0m \u001b[0mvalue\u001b[0m\u001b[0;34m:\u001b[0m\u001b[0;34m\u001b[0m\u001b[0;34m\u001b[0m\u001b[0m\n\u001b[1;32m      4\u001b[0m         \u001b[0;32mif\u001b[0m \u001b[0mdigit\u001b[0m \u001b[0;32mnot\u001b[0m \u001b[0;32min\u001b[0m \u001b[0;34m\"0123456789\"\u001b[0m\u001b[0;34m:\u001b[0m\u001b[0;34m\u001b[0m\u001b[0;34m\u001b[0m\u001b[0m\n\u001b[0;32m----> 5\u001b[0;31m             \u001b[0;32mraise\u001b[0m \u001b[0mValueError\u001b[0m\u001b[0;34m(\u001b[0m\u001b[0;34m\"숫자값을 입력하지 않았습니다.\"\u001b[0m\u001b[0;34m)\u001b[0m\u001b[0;34m\u001b[0m\u001b[0;34m\u001b[0m\u001b[0m\n\u001b[0m\u001b[1;32m      6\u001b[0m     \u001b[0mprint\u001b[0m\u001b[0;34m(\u001b[0m\u001b[0;34m\"정수값으로 변환된 숫자 -\"\u001b[0m\u001b[0;34m,\u001b[0m \u001b[0mint\u001b[0m\u001b[0;34m(\u001b[0m\u001b[0mvalue\u001b[0m\u001b[0;34m)\u001b[0m\u001b[0;34m)\u001b[0m\u001b[0;34m\u001b[0m\u001b[0;34m\u001b[0m\u001b[0m\n",
            "\u001b[0;31mValueError\u001b[0m: 숫자값을 입력하지 않았습니다."
          ]
        }
      ]
    },
    {
      "cell_type": "code",
      "metadata": {
        "id": "zCM3yPedZmLk",
        "colab_type": "code",
        "colab": {
          "base_uri": "https://localhost:8080/",
          "height": 70
        },
        "outputId": "d76c35f7-595f-4e11-da7a-55f739be5814"
      },
      "source": [
        "country_code = {'America':1, 'Korea': 82, \"China\": 86, \"Japan\": 81}\n",
        "while True:\n",
        "    country = input(\"나라 이름: \")\n",
        "    try:\n",
        "        if country == \"Japan\": \n",
        "            raise ValueError(\"독도는 우리땅!\")\n",
        "        print(\"{}의 국가번호는 {}입니다.\".format(country, country_code[country]))\n",
        "    except ValueError as e: \n",
        "        print(\"Value Error: Country_{1}: {0} \".format(e, country))\n",
        "    except KeyError:\n",
        "        print(\"Key Error: {0}에 대한 국가번호가 없습니다.\".format(country))\n",
        "    finally:\n",
        "        print(\"종료합니다.\")\n",
        "        break;\n",
        "    "
      ],
      "execution_count": null,
      "outputs": [
        {
          "output_type": "stream",
          "text": [
            "나라 이름: France\n",
            "Key Error: France에 대한 국가번호가 없습니다.\n",
            "종료합니다.\n"
          ],
          "name": "stdout"
        }
      ]
    },
    {
      "cell_type": "markdown",
      "metadata": {
        "id": "qtb5RCctZkli",
        "colab_type": "text"
      },
      "source": [
        "## assert"
      ]
    },
    {
      "cell_type": "code",
      "metadata": {
        "id": "S6iTAc0TZcVz",
        "colab_type": "code",
        "colab": {
          "base_uri": "https://localhost:8080/",
          "height": 345
        },
        "outputId": "e74a01d4-dba3-47ff-ba56-b59efc5bd217"
      },
      "source": [
        "def get_binary_nmubmer(decimal_number):\n",
        "    assert isinstance(decimal_number, int)\n",
        "    return bin(decimal_number)\n",
        "print(get_binary_nmubmer(10))\n",
        "print(get_binary_nmubmer(\"10\"))"
      ],
      "execution_count": null,
      "outputs": [
        {
          "output_type": "stream",
          "text": [
            "0b1010\n"
          ],
          "name": "stdout"
        },
        {
          "output_type": "error",
          "ename": "AssertionError",
          "evalue": "ignored",
          "traceback": [
            "\u001b[0;31m---------------------------------------------------------------------------\u001b[0m",
            "\u001b[0;31mAssertionError\u001b[0m                            Traceback (most recent call last)",
            "\u001b[0;32m<ipython-input-7-d11d6a671ff1>\u001b[0m in \u001b[0;36m<module>\u001b[0;34m()\u001b[0m\n\u001b[1;32m      3\u001b[0m     \u001b[0;32mreturn\u001b[0m \u001b[0mbin\u001b[0m\u001b[0;34m(\u001b[0m\u001b[0mdecimal_number\u001b[0m\u001b[0;34m)\u001b[0m\u001b[0;34m\u001b[0m\u001b[0;34m\u001b[0m\u001b[0m\n\u001b[1;32m      4\u001b[0m \u001b[0mprint\u001b[0m\u001b[0;34m(\u001b[0m\u001b[0mget_binary_nmubmer\u001b[0m\u001b[0;34m(\u001b[0m\u001b[0;36m10\u001b[0m\u001b[0;34m)\u001b[0m\u001b[0;34m)\u001b[0m\u001b[0;34m\u001b[0m\u001b[0;34m\u001b[0m\u001b[0m\n\u001b[0;32m----> 5\u001b[0;31m \u001b[0mprint\u001b[0m\u001b[0;34m(\u001b[0m\u001b[0mget_binary_nmubmer\u001b[0m\u001b[0;34m(\u001b[0m\u001b[0;34m\"10\"\u001b[0m\u001b[0;34m)\u001b[0m\u001b[0;34m)\u001b[0m\u001b[0;34m\u001b[0m\u001b[0;34m\u001b[0m\u001b[0m\n\u001b[0m",
            "\u001b[0;32m<ipython-input-7-d11d6a671ff1>\u001b[0m in \u001b[0;36mget_binary_nmubmer\u001b[0;34m(decimal_number)\u001b[0m\n\u001b[1;32m      1\u001b[0m \u001b[0;32mdef\u001b[0m \u001b[0mget_binary_nmubmer\u001b[0m\u001b[0;34m(\u001b[0m\u001b[0mdecimal_number\u001b[0m\u001b[0;34m)\u001b[0m\u001b[0;34m:\u001b[0m\u001b[0;34m\u001b[0m\u001b[0;34m\u001b[0m\u001b[0m\n\u001b[0;32m----> 2\u001b[0;31m     \u001b[0;32massert\u001b[0m \u001b[0misinstance\u001b[0m\u001b[0;34m(\u001b[0m\u001b[0mdecimal_number\u001b[0m\u001b[0;34m,\u001b[0m \u001b[0mint\u001b[0m\u001b[0;34m)\u001b[0m\u001b[0;34m\u001b[0m\u001b[0;34m\u001b[0m\u001b[0m\n\u001b[0m\u001b[1;32m      3\u001b[0m     \u001b[0;32mreturn\u001b[0m \u001b[0mbin\u001b[0m\u001b[0;34m(\u001b[0m\u001b[0mdecimal_number\u001b[0m\u001b[0;34m)\u001b[0m\u001b[0;34m\u001b[0m\u001b[0;34m\u001b[0m\u001b[0m\n\u001b[1;32m      4\u001b[0m \u001b[0mprint\u001b[0m\u001b[0;34m(\u001b[0m\u001b[0mget_binary_nmubmer\u001b[0m\u001b[0;34m(\u001b[0m\u001b[0;36m10\u001b[0m\u001b[0;34m)\u001b[0m\u001b[0;34m)\u001b[0m\u001b[0;34m\u001b[0m\u001b[0;34m\u001b[0m\u001b[0m\n\u001b[1;32m      5\u001b[0m \u001b[0mprint\u001b[0m\u001b[0;34m(\u001b[0m\u001b[0mget_binary_nmubmer\u001b[0m\u001b[0;34m(\u001b[0m\u001b[0;34m\"10\"\u001b[0m\u001b[0;34m)\u001b[0m\u001b[0;34m)\u001b[0m\u001b[0;34m\u001b[0m\u001b[0;34m\u001b[0m\u001b[0m\n",
            "\u001b[0;31mAssertionError\u001b[0m: "
          ]
        }
      ]
    },
    {
      "cell_type": "code",
      "metadata": {
        "id": "Z2BmCL-h0Emb",
        "colab_type": "code",
        "colab": {
          "base_uri": "https://localhost:8080/",
          "height": 52
        },
        "outputId": "11a468d9-aef4-4d65-cc79-5aad46eda8aa"
      },
      "source": [
        "def get_binary_nmubmer(decimal_number):\n",
        "    assert isinstance(decimal_number, int)\n",
        "    return bin(decimal_number)\n",
        "try:\n",
        "    print(get_binary_nmubmer(10))\n",
        "    print(get_binary_nmubmer(\"10\"))\n",
        "except AssertionError:\n",
        "    print(\"AssertionError: 입력값이 Int 형이 아닙니다.\")"
      ],
      "execution_count": null,
      "outputs": [
        {
          "output_type": "stream",
          "text": [
            "0b1010\n",
            "AssertionError: 입력값이 Int 형이 아닙니다.\n"
          ],
          "name": "stdout"
        }
      ]
    }
  ]
}