{
  "nbformat": 4,
  "nbformat_minor": 0,
  "metadata": {
    "colab": {
      "name": "python_03_반복문.ipynb",
      "provenance": [],
      "collapsed_sections": [],
      "mount_file_id": "1n_UWaADbgk29L35hhjWKn8C86FSpHTUT",
      "authorship_tag": "ABX9TyOdmbUoHBIBWJ3U0ktZl1VF",
      "include_colab_link": true
    },
    "kernelspec": {
      "name": "python3",
      "display_name": "Python 3"
    }
  },
  "cells": [
    {
      "cell_type": "markdown",
      "metadata": {
        "id": "view-in-github",
        "colab_type": "text"
      },
      "source": [
        "<a href=\"https://colab.research.google.com/github/HyoJInNam/Python/blob/master/03_%EB%B0%98%EB%B3%B5%EB%AC%B8.ipynb\" target=\"_parent\"><img src=\"https://colab.research.google.com/assets/colab-badge.svg\" alt=\"Open In Colab\"/></a>"
      ]
    },
    {
      "cell_type": "markdown",
      "metadata": {
        "id": "-TupmC-xugqv",
        "colab_type": "text"
      },
      "source": [
        "# **반복문**\n",
        "\n"
      ]
    },
    {
      "cell_type": "markdown",
      "metadata": {
        "id": "lwpheKAewlUw",
        "colab_type": "text"
      },
      "source": [
        "## for 문"
      ]
    },
    {
      "cell_type": "code",
      "metadata": {
        "id": "bW_xSJ0CvbEj",
        "colab_type": "code",
        "colab": {
          "base_uri": "https://localhost:8080/",
          "height": 105
        },
        "outputId": "c0f8b2f8-0037-4410-a4b8-a72dc3a3d7a7"
      },
      "source": [
        "for _ in [1, 2, 3, 4, 5]:\n",
        "    print(\"hello\")"
      ],
      "execution_count": null,
      "outputs": [
        {
          "output_type": "stream",
          "text": [
            "hello\n",
            "hello\n",
            "hello\n",
            "hello\n",
            "hello\n"
          ],
          "name": "stdout"
        }
      ]
    },
    {
      "cell_type": "code",
      "metadata": {
        "id": "YzViaK5ZvCS1",
        "colab_type": "code",
        "colab": {
          "base_uri": "https://localhost:8080/",
          "height": 105
        },
        "outputId": "c2860e2b-4f32-4211-bb82-e44ba3bf341e"
      },
      "source": [
        "for looper in [1, 2, 3, 4, 5]:\n",
        "    print(looper)"
      ],
      "execution_count": null,
      "outputs": [
        {
          "output_type": "stream",
          "text": [
            "1\n",
            "2\n",
            "3\n",
            "4\n",
            "5\n"
          ],
          "name": "stdout"
        }
      ]
    },
    {
      "cell_type": "code",
      "metadata": {
        "id": "HQp5P3wKvjUG",
        "colab_type": "code",
        "colab": {
          "base_uri": "https://localhost:8080/",
          "height": 105
        },
        "outputId": "9565a4b3-1b03-4061-c56a-0f31afa8441f"
      },
      "source": [
        "a = [1, 2, 3, 4, 5]\n",
        "for _ in a:\n",
        "    print(\"hello\")"
      ],
      "execution_count": null,
      "outputs": [
        {
          "output_type": "stream",
          "text": [
            "hello\n",
            "hello\n",
            "hello\n",
            "hello\n",
            "hello\n"
          ],
          "name": "stdout"
        }
      ]
    },
    {
      "cell_type": "code",
      "metadata": {
        "id": "9rcHBWVjwv0f",
        "colab_type": "code",
        "colab": {
          "base_uri": "https://localhost:8080/",
          "height": 34
        },
        "outputId": "2631b4be-de60-43eb-8615-b9e29b9d453a"
      },
      "source": [
        "a = [1, 2, 3, 4, 5]\n",
        "for _ in a[::10]:\n",
        "    print(\"hello\")"
      ],
      "execution_count": null,
      "outputs": [
        {
          "output_type": "stream",
          "text": [
            "hello\n"
          ],
          "name": "stdout"
        }
      ]
    },
    {
      "cell_type": "code",
      "metadata": {
        "id": "Iq59CAa4w7DZ",
        "colab_type": "code",
        "colab": {
          "base_uri": "https://localhost:8080/",
          "height": 52
        },
        "outputId": "540b1703-77de-457e-f906-e998feb6fce8"
      },
      "source": [
        "a = [1, 2, 3, 4, 5]\n",
        "for _ in a[::3]:\n",
        "    print(\"hello\")"
      ],
      "execution_count": null,
      "outputs": [
        {
          "output_type": "stream",
          "text": [
            "hello\n",
            "hello\n"
          ],
          "name": "stdout"
        }
      ]
    },
    {
      "cell_type": "code",
      "metadata": {
        "id": "cbjNL-U7w-81",
        "colab_type": "code",
        "colab": {
          "base_uri": "https://localhost:8080/",
          "height": 122
        },
        "outputId": "322ec84d-3db9-4eb4-a5db-966a1d2acea7"
      },
      "source": [
        "for i in range(6):\n",
        "  print(i * 10)"
      ],
      "execution_count": null,
      "outputs": [
        {
          "output_type": "stream",
          "text": [
            "0\n",
            "10\n",
            "20\n",
            "30\n",
            "40\n",
            "50\n"
          ],
          "name": "stdout"
        }
      ]
    },
    {
      "cell_type": "markdown",
      "metadata": {
        "id": "qghbTHFtvH4O",
        "colab_type": "text"
      },
      "source": [
        "### for 변수 in range(시작 번호, 마지막 번호, 증가값)"
      ]
    },
    {
      "cell_type": "code",
      "metadata": {
        "id": "xtO9laNevDJ2",
        "colab_type": "code",
        "colab": {
          "base_uri": "https://localhost:8080/",
          "height": 105
        },
        "outputId": "bdb14e2a-aaf4-4925-84ce-f85a759b82a4"
      },
      "source": [
        "for looper in range(5): #시작과 증가값 생략\n",
        "    print(\"hello\")"
      ],
      "execution_count": null,
      "outputs": [
        {
          "output_type": "stream",
          "text": [
            "hello\n",
            "hello\n",
            "hello\n",
            "hello\n",
            "hello\n"
          ],
          "name": "stdout"
        }
      ]
    },
    {
      "cell_type": "code",
      "metadata": {
        "id": "aNIFzNbTvKus",
        "colab_type": "code",
        "colab": {
          "base_uri": "https://localhost:8080/",
          "height": 87
        },
        "outputId": "919f23aa-9aed-4a3c-d472-f4be9fecc38d"
      },
      "source": [
        "for looper in range(1, 5, 1):\n",
        "    print(\"hello\")"
      ],
      "execution_count": null,
      "outputs": [
        {
          "output_type": "stream",
          "text": [
            "hello\n",
            "hello\n",
            "hello\n",
            "hello\n"
          ],
          "name": "stdout"
        }
      ]
    },
    {
      "cell_type": "markdown",
      "metadata": {
        "id": "JMtjMZVowOGk",
        "colab_type": "text"
      },
      "source": [
        "### 문자도 가능"
      ]
    },
    {
      "cell_type": "code",
      "metadata": {
        "id": "3PlRdqdbvU3p",
        "colab_type": "code",
        "colab": {
          "base_uri": "https://localhost:8080/",
          "height": 140
        },
        "outputId": "c687e2e4-b641-4180-f1eb-bb8354a76684"
      },
      "source": [
        "for i in 'abcdefg':\n",
        "    print(i)"
      ],
      "execution_count": null,
      "outputs": [
        {
          "output_type": "stream",
          "text": [
            "a\n",
            "b\n",
            "c\n",
            "d\n",
            "e\n",
            "f\n",
            "g\n"
          ],
          "name": "stdout"
        }
      ]
    },
    {
      "cell_type": "code",
      "metadata": {
        "id": "aVkH310Sv0q6",
        "colab_type": "code",
        "colab": {
          "base_uri": "https://localhost:8080/",
          "height": 70
        },
        "outputId": "344bff85-5e62-43d7-d545-91b9c3a16fc8"
      },
      "source": [
        "for i in ['americano', 'latte', 'freppuccino']:\n",
        "  print(i)"
      ],
      "execution_count": null,
      "outputs": [
        {
          "output_type": "stream",
          "text": [
            "americano\n",
            "latte\n",
            "freppuccino\n"
          ],
          "name": "stdout"
        }
      ]
    },
    {
      "cell_type": "markdown",
      "metadata": {
        "id": "T3TJwXxzwcm8",
        "colab_type": "text"
      },
      "source": [
        "### range 감소 가능"
      ]
    },
    {
      "cell_type": "code",
      "metadata": {
        "id": "2OurTY21v-6W",
        "colab_type": "code",
        "colab": {
          "base_uri": "https://localhost:8080/",
          "height": 175
        },
        "outputId": "b04d3806-d6d5-4ea7-90d7-442875db9b88"
      },
      "source": [
        "for i in range(10, 1, -1):\n",
        "  print(i)"
      ],
      "execution_count": null,
      "outputs": [
        {
          "output_type": "stream",
          "text": [
            "10\n",
            "9\n",
            "8\n",
            "7\n",
            "6\n",
            "5\n",
            "4\n",
            "3\n",
            "2\n"
          ],
          "name": "stdout"
        }
      ]
    },
    {
      "cell_type": "code",
      "metadata": {
        "id": "alXpIhlowenv",
        "colab_type": "code",
        "colab": {
          "base_uri": "https://localhost:8080/",
          "height": 175
        },
        "outputId": "1a526cae-8e67-4c35-debc-fc403e32e1b6"
      },
      "source": [
        "for i in range(9):\n",
        "  print(2,\"x\", i+1, \"=\", 2*(i+1))"
      ],
      "execution_count": null,
      "outputs": [
        {
          "output_type": "stream",
          "text": [
            "2 x 1 = 2\n",
            "2 x 2 = 4\n",
            "2 x 3 = 6\n",
            "2 x 4 = 8\n",
            "2 x 5 = 10\n",
            "2 x 6 = 12\n",
            "2 x 7 = 14\n",
            "2 x 8 = 16\n",
            "2 x 9 = 18\n"
          ],
          "name": "stdout"
        }
      ]
    },
    {
      "cell_type": "markdown",
      "metadata": {
        "id": "TkTdNmtUylDt",
        "colab_type": "text"
      },
      "source": [
        "### '\\n'\n",
        "end = ' '\n",
        "end = \"\\t\""
      ]
    },
    {
      "cell_type": "code",
      "metadata": {
        "id": "IkuxFeZQxzvs",
        "colab_type": "code",
        "colab": {
          "base_uri": "https://localhost:8080/",
          "height": 178
        },
        "outputId": "7ad3d8d6-00a8-42ad-a191-f689287cc8bc"
      },
      "source": [
        "for i in range(2,10,1):\n",
        "  for j in range(9):\n",
        "    print(i,\"x\", j+1, \"=\", 2*(j+1), end = \" \")\n",
        "  print()"
      ],
      "execution_count": null,
      "outputs": [
        {
          "output_type": "stream",
          "text": [
            "2 x 1 = 2 2 x 2 = 4 2 x 3 = 6 2 x 4 = 8 2 x 5 = 10 2 x 6 = 12 2 x 7 = 14 2 x 8 = 16 2 x 9 = 18 \n",
            "3 x 1 = 2 3 x 2 = 4 3 x 3 = 6 3 x 4 = 8 3 x 5 = 10 3 x 6 = 12 3 x 7 = 14 3 x 8 = 16 3 x 9 = 18 \n",
            "4 x 1 = 2 4 x 2 = 4 4 x 3 = 6 4 x 4 = 8 4 x 5 = 10 4 x 6 = 12 4 x 7 = 14 4 x 8 = 16 4 x 9 = 18 \n",
            "5 x 1 = 2 5 x 2 = 4 5 x 3 = 6 5 x 4 = 8 5 x 5 = 10 5 x 6 = 12 5 x 7 = 14 5 x 8 = 16 5 x 9 = 18 \n",
            "6 x 1 = 2 6 x 2 = 4 6 x 3 = 6 6 x 4 = 8 6 x 5 = 10 6 x 6 = 12 6 x 7 = 14 6 x 8 = 16 6 x 9 = 18 \n",
            "7 x 1 = 2 7 x 2 = 4 7 x 3 = 6 7 x 4 = 8 7 x 5 = 10 7 x 6 = 12 7 x 7 = 14 7 x 8 = 16 7 x 9 = 18 \n",
            "8 x 1 = 2 8 x 2 = 4 8 x 3 = 6 8 x 4 = 8 8 x 5 = 10 8 x 6 = 12 8 x 7 = 14 8 x 8 = 16 8 x 9 = 18 \n",
            "9 x 1 = 2 9 x 2 = 4 9 x 3 = 6 9 x 4 = 8 9 x 5 = 10 9 x 6 = 12 9 x 7 = 14 9 x 8 = 16 9 x 9 = 18 \n"
          ],
          "name": "stdout"
        }
      ]
    },
    {
      "cell_type": "markdown",
      "metadata": {
        "id": "vUo59z0y5435",
        "colab_type": "text"
      },
      "source": [
        "### 구구단"
      ]
    },
    {
      "cell_type": "code",
      "metadata": {
        "id": "OsGDIp36yjqn",
        "colab_type": "code",
        "colab": {
          "base_uri": "https://localhost:8080/",
          "height": 195
        },
        "outputId": "e5389c82-ee29-4d1a-dcc5-c8fa09c4ed25"
      },
      "source": [
        "for i in range(9):\n",
        "  for j in range(9):\n",
        "    print(j+1,\"x\", i+1, \"=\", 2*(j+1), end = \" \")\n",
        "  print()"
      ],
      "execution_count": null,
      "outputs": [
        {
          "output_type": "stream",
          "text": [
            "1 x 1 = 2 2 x 1 = 4 3 x 1 = 6 4 x 1 = 8 5 x 1 = 10 6 x 1 = 12 7 x 1 = 14 8 x 1 = 16 9 x 1 = 18 \n",
            "1 x 2 = 2 2 x 2 = 4 3 x 2 = 6 4 x 2 = 8 5 x 2 = 10 6 x 2 = 12 7 x 2 = 14 8 x 2 = 16 9 x 2 = 18 \n",
            "1 x 3 = 2 2 x 3 = 4 3 x 3 = 6 4 x 3 = 8 5 x 3 = 10 6 x 3 = 12 7 x 3 = 14 8 x 3 = 16 9 x 3 = 18 \n",
            "1 x 4 = 2 2 x 4 = 4 3 x 4 = 6 4 x 4 = 8 5 x 4 = 10 6 x 4 = 12 7 x 4 = 14 8 x 4 = 16 9 x 4 = 18 \n",
            "1 x 5 = 2 2 x 5 = 4 3 x 5 = 6 4 x 5 = 8 5 x 5 = 10 6 x 5 = 12 7 x 5 = 14 8 x 5 = 16 9 x 5 = 18 \n",
            "1 x 6 = 2 2 x 6 = 4 3 x 6 = 6 4 x 6 = 8 5 x 6 = 10 6 x 6 = 12 7 x 6 = 14 8 x 6 = 16 9 x 6 = 18 \n",
            "1 x 7 = 2 2 x 7 = 4 3 x 7 = 6 4 x 7 = 8 5 x 7 = 10 6 x 7 = 12 7 x 7 = 14 8 x 7 = 16 9 x 7 = 18 \n",
            "1 x 8 = 2 2 x 8 = 4 3 x 8 = 6 4 x 8 = 8 5 x 8 = 10 6 x 8 = 12 7 x 8 = 14 8 x 8 = 16 9 x 8 = 18 \n",
            "1 x 9 = 2 2 x 9 = 4 3 x 9 = 6 4 x 9 = 8 5 x 9 = 10 6 x 9 = 12 7 x 9 = 14 8 x 9 = 16 9 x 9 = 18 \n"
          ],
          "name": "stdout"
        }
      ]
    },
    {
      "cell_type": "code",
      "metadata": {
        "id": "d06ei7ST07CI",
        "colab_type": "code",
        "colab": {
          "base_uri": "https://localhost:8080/",
          "height": 178
        },
        "outputId": "00743d4e-84aa-4f44-b716-73b506bfa96d"
      },
      "source": [
        "for j in range(2, 10):\n",
        "  for j in range(1, 10):\n",
        "    print(\"%d x %d = %d\"%(i, j, i*j), end = '\\t')\n",
        "  print()"
      ],
      "execution_count": null,
      "outputs": [
        {
          "output_type": "stream",
          "text": [
            "9 x 1 = 9\t9 x 2 = 18\t9 x 3 = 27\t9 x 4 = 36\t9 x 5 = 45\t9 x 6 = 54\t9 x 7 = 63\t9 x 8 = 72\t9 x 9 = 81\t\n",
            "9 x 1 = 9\t9 x 2 = 18\t9 x 3 = 27\t9 x 4 = 36\t9 x 5 = 45\t9 x 6 = 54\t9 x 7 = 63\t9 x 8 = 72\t9 x 9 = 81\t\n",
            "9 x 1 = 9\t9 x 2 = 18\t9 x 3 = 27\t9 x 4 = 36\t9 x 5 = 45\t9 x 6 = 54\t9 x 7 = 63\t9 x 8 = 72\t9 x 9 = 81\t\n",
            "9 x 1 = 9\t9 x 2 = 18\t9 x 3 = 27\t9 x 4 = 36\t9 x 5 = 45\t9 x 6 = 54\t9 x 7 = 63\t9 x 8 = 72\t9 x 9 = 81\t\n",
            "9 x 1 = 9\t9 x 2 = 18\t9 x 3 = 27\t9 x 4 = 36\t9 x 5 = 45\t9 x 6 = 54\t9 x 7 = 63\t9 x 8 = 72\t9 x 9 = 81\t\n",
            "9 x 1 = 9\t9 x 2 = 18\t9 x 3 = 27\t9 x 4 = 36\t9 x 5 = 45\t9 x 6 = 54\t9 x 7 = 63\t9 x 8 = 72\t9 x 9 = 81\t\n",
            "9 x 1 = 9\t9 x 2 = 18\t9 x 3 = 27\t9 x 4 = 36\t9 x 5 = 45\t9 x 6 = 54\t9 x 7 = 63\t9 x 8 = 72\t9 x 9 = 81\t\n",
            "9 x 1 = 9\t9 x 2 = 18\t9 x 3 = 27\t9 x 4 = 36\t9 x 5 = 45\t9 x 6 = 54\t9 x 7 = 63\t9 x 8 = 72\t9 x 9 = 81\t\n"
          ],
          "name": "stdout"
        }
      ]
    },
    {
      "cell_type": "code",
      "metadata": {
        "id": "Ujm6N8yf1W9d",
        "colab_type": "code",
        "colab": {
          "base_uri": "https://localhost:8080/",
          "height": 178
        },
        "outputId": "600825ef-d255-49a3-bfc7-f37501a62681"
      },
      "source": [
        "for i in range(2, 10):\n",
        "  for j in range(1, 10):\n",
        "    print(\"%d x %d = %d\"%(i, j, i*j), end = \"  \" )\n",
        "  print()"
      ],
      "execution_count": null,
      "outputs": [
        {
          "output_type": "stream",
          "text": [
            "2 x 1 = 2  2 x 2 = 4  2 x 3 = 6  2 x 4 = 8  2 x 5 = 10  2 x 6 = 12  2 x 7 = 14  2 x 8 = 16  2 x 9 = 18  \n",
            "3 x 1 = 3  3 x 2 = 6  3 x 3 = 9  3 x 4 = 12  3 x 5 = 15  3 x 6 = 18  3 x 7 = 21  3 x 8 = 24  3 x 9 = 27  \n",
            "4 x 1 = 4  4 x 2 = 8  4 x 3 = 12  4 x 4 = 16  4 x 5 = 20  4 x 6 = 24  4 x 7 = 28  4 x 8 = 32  4 x 9 = 36  \n",
            "5 x 1 = 5  5 x 2 = 10  5 x 3 = 15  5 x 4 = 20  5 x 5 = 25  5 x 6 = 30  5 x 7 = 35  5 x 8 = 40  5 x 9 = 45  \n",
            "6 x 1 = 6  6 x 2 = 12  6 x 3 = 18  6 x 4 = 24  6 x 5 = 30  6 x 6 = 36  6 x 7 = 42  6 x 8 = 48  6 x 9 = 54  \n",
            "7 x 1 = 7  7 x 2 = 14  7 x 3 = 21  7 x 4 = 28  7 x 5 = 35  7 x 6 = 42  7 x 7 = 49  7 x 8 = 56  7 x 9 = 63  \n",
            "8 x 1 = 8  8 x 2 = 16  8 x 3 = 24  8 x 4 = 32  8 x 5 = 40  8 x 6 = 48  8 x 7 = 56  8 x 8 = 64  8 x 9 = 72  \n",
            "9 x 1 = 9  9 x 2 = 18  9 x 3 = 27  9 x 4 = 36  9 x 5 = 45  9 x 6 = 54  9 x 7 = 63  9 x 8 = 72  9 x 9 = 81  \n"
          ],
          "name": "stdout"
        }
      ]
    },
    {
      "cell_type": "code",
      "metadata": {
        "id": "5kD3IvftzKJ7",
        "colab_type": "code",
        "colab": {
          "base_uri": "https://localhost:8080/",
          "height": 140
        },
        "outputId": "6b9a9789-afbd-4345-d7a5-8caa1d5d1483"
      },
      "source": [
        "for i in range(1, 8, 1):\n",
        "  for j in range(i):\n",
        "    print('*', end = \"0\")\n",
        "  print()"
      ],
      "execution_count": null,
      "outputs": [
        {
          "output_type": "stream",
          "text": [
            "*\n",
            "**\n",
            "***\n",
            "****\n",
            "*****\n",
            "******\n",
            "*******\n"
          ],
          "name": "stdout"
        }
      ]
    },
    {
      "cell_type": "markdown",
      "metadata": {
        "id": "A0CAnaDK5057",
        "colab_type": "text"
      },
      "source": [
        "### 별찍기"
      ]
    },
    {
      "cell_type": "code",
      "metadata": {
        "id": "aKkO8UQR1IJF",
        "colab_type": "code",
        "colab": {
          "base_uri": "https://localhost:8080/",
          "height": 140
        },
        "outputId": "2131e380-5ca9-48fb-a4c8-3137e850b0f3"
      },
      "source": [
        "for i in range(1, 8, 1):\n",
        "  for j in range(i):\n",
        "    print(' ', end = \" \")\n",
        "  for j in range(8 - i):\n",
        "    print('*', end = \"0\")\n",
        "  print()"
      ],
      "execution_count": null,
      "outputs": [
        {
          "output_type": "stream",
          "text": [
            "  *0*0*0*0*0*0*0\n",
            "    *0*0*0*0*0*0\n",
            "      *0*0*0*0*0\n",
            "        *0*0*0*0\n",
            "          *0*0*0\n",
            "            *0*0\n",
            "              *0\n"
          ],
          "name": "stdout"
        }
      ]
    },
    {
      "cell_type": "markdown",
      "metadata": {
        "id": "DUunJ-lK56bK",
        "colab_type": "text"
      },
      "source": [
        "## while 문"
      ]
    },
    {
      "cell_type": "code",
      "metadata": {
        "id": "eVKSa6jn17th",
        "colab_type": "code",
        "colab": {
          "base_uri": "https://localhost:8080/",
          "height": 87
        },
        "outputId": "e44ed8ec-bba8-459e-8d5a-879e59a95ebd"
      },
      "source": [
        "i = 1\n",
        "while i < 5:\n",
        "  print(i)\n",
        "  i += 1"
      ],
      "execution_count": null,
      "outputs": [
        {
          "output_type": "stream",
          "text": [
            "1\n",
            "2\n",
            "3\n",
            "4\n"
          ],
          "name": "stdout"
        }
      ]
    },
    {
      "cell_type": "markdown",
      "metadata": {
        "id": "PC1Ot82B6Qxo",
        "colab_type": "text"
      },
      "source": [
        "for문이 더 간단"
      ]
    },
    {
      "cell_type": "code",
      "metadata": {
        "id": "5AiAijyB6Iw-",
        "colab_type": "code",
        "colab": {
          "base_uri": "https://localhost:8080/",
          "height": 105
        },
        "outputId": "9f55c37b-7c56-417b-92d5-a4f186cae93a"
      },
      "source": [
        "for i in range (0,5):\n",
        "  print(i)"
      ],
      "execution_count": null,
      "outputs": [
        {
          "output_type": "stream",
          "text": [
            "0\n",
            "1\n",
            "2\n",
            "3\n",
            "4\n"
          ],
          "name": "stdout"
        }
      ]
    },
    {
      "cell_type": "markdown",
      "metadata": {
        "id": "lwofuQ316S8u",
        "colab_type": "text"
      },
      "source": [
        "## break 문"
      ]
    },
    {
      "cell_type": "code",
      "metadata": {
        "id": "-Li18LLf6Owh",
        "colab_type": "code",
        "colab": {
          "base_uri": "https://localhost:8080/",
          "height": 122
        },
        "outputId": "464bb422-84a9-44b3-a4f7-2114ead0ebd0"
      },
      "source": [
        "for i in range(10):\n",
        "  if i == 5: break\n",
        "  print(i)\n",
        "print(\"End of Program\")"
      ],
      "execution_count": null,
      "outputs": [
        {
          "output_type": "stream",
          "text": [
            "0\n",
            "1\n",
            "2\n",
            "3\n",
            "4\n",
            "End of Program\n"
          ],
          "name": "stdout"
        }
      ]
    },
    {
      "cell_type": "markdown",
      "metadata": {
        "id": "ZQLOigBF6jjt",
        "colab_type": "text"
      },
      "source": [
        "## continue 문"
      ]
    },
    {
      "cell_type": "code",
      "metadata": {
        "id": "JJymVE4B6c36",
        "colab_type": "code",
        "colab": {
          "base_uri": "https://localhost:8080/",
          "height": 193
        },
        "outputId": "f76a0a6d-81cf-4184-c712-6d023aae3064"
      },
      "source": [
        "for i in range(10):\n",
        "  if i == 5: continue\n",
        "  print(i)\n",
        "print(\"End of Program\")"
      ],
      "execution_count": null,
      "outputs": [
        {
          "output_type": "stream",
          "text": [
            "0\n",
            "1\n",
            "2\n",
            "3\n",
            "4\n",
            "6\n",
            "7\n",
            "8\n",
            "9\n",
            "End of Program\n"
          ],
          "name": "stdout"
        }
      ]
    },
    {
      "cell_type": "markdown",
      "metadata": {
        "id": "r8iSVoJf6muq",
        "colab_type": "text"
      },
      "source": [
        "## else 문\n",
        "어떤 조건이 완전히 끝났을 때 한 번 더 실행해 주는 역할을 한다."
      ]
    },
    {
      "cell_type": "code",
      "metadata": {
        "id": "rHNRVxLS6h5X",
        "colab_type": "code",
        "colab": {
          "base_uri": "https://localhost:8080/",
          "height": 210
        },
        "outputId": "c7a4b8eb-66a1-4182-aaa9-430f4fc3cf05"
      },
      "source": [
        "for i in range(10):\n",
        "  print(i)\n",
        "else:\n",
        "  print(\"End of Program\")"
      ],
      "execution_count": null,
      "outputs": [
        {
          "output_type": "stream",
          "text": [
            "0\n",
            "1\n",
            "2\n",
            "3\n",
            "4\n",
            "5\n",
            "6\n",
            "7\n",
            "8\n",
            "9\n",
            "End of Program\n"
          ],
          "name": "stdout"
        }
      ]
    },
    {
      "cell_type": "markdown",
      "metadata": {
        "id": "6dLcgtyG8cg2",
        "colab_type": "text"
      },
      "source": [
        "### 문자열 역순 출력"
      ]
    },
    {
      "cell_type": "code",
      "metadata": {
        "id": "5KFjAe9b7DoZ",
        "colab_type": "code",
        "colab": {
          "base_uri": "https://localhost:8080/",
          "height": 34
        },
        "outputId": "da79adb2-3bb2-4c24-c1e4-ee130b96739a"
      },
      "source": [
        "sentence = \"I love you\"\n",
        "print(sentence[::-1])"
      ],
      "execution_count": null,
      "outputs": [
        {
          "output_type": "stream",
          "text": [
            "uoy evol I\n"
          ],
          "name": "stdout"
        }
      ]
    },
    {
      "cell_type": "markdown",
      "metadata": {
        "id": "Zsw-jgaIGyHw",
        "colab_type": "text"
      },
      "source": [
        "### Reverse"
      ]
    },
    {
      "cell_type": "code",
      "metadata": {
        "id": "blbsGryU6uNc",
        "colab_type": "code",
        "colab": {
          "base_uri": "https://localhost:8080/",
          "height": 210
        },
        "outputId": "79ea6c8e-64cc-4c70-aa2c-13fbc368be03"
      },
      "source": [
        "sentence = \"I love you\"\n",
        "reverse_sentence = ''\n",
        "for ch in sentence:\n",
        "  reverse_sentence = ch + reverse_sentence\n",
        "  print(reverse_sentence)\n",
        "print(\"결과: \",reverse_sentence)"
      ],
      "execution_count": null,
      "outputs": [
        {
          "output_type": "stream",
          "text": [
            "I\n",
            " I\n",
            "l I\n",
            "ol I\n",
            "vol I\n",
            "evol I\n",
            " evol I\n",
            "y evol I\n",
            "oy evol I\n",
            "uoy evol I\n",
            "결과:  uoy evol I\n"
          ],
          "name": "stdout"
        }
      ]
    },
    {
      "cell_type": "markdown",
      "metadata": {
        "id": "iNxgd5Fd81Dq",
        "colab_type": "text"
      },
      "source": [
        "### 십진수를 이진수로 변환"
      ]
    },
    {
      "cell_type": "code",
      "metadata": {
        "id": "j5K1WJAP820c",
        "colab_type": "code",
        "colab": {
          "base_uri": "https://localhost:8080/",
          "height": 52
        },
        "outputId": "93a64f9c-ac77-4dee-c03e-36224bb7fa45"
      },
      "source": [
        "num = int(input(\"Enter: \"))\n",
        "result = ''\n",
        "while(num > 0):\n",
        "  result = str(num % 2) + result\n",
        "  num = num // 2\n",
        "print(result, end = \"\")"
      ],
      "execution_count": null,
      "outputs": [
        {
          "output_type": "stream",
          "text": [
            "Enter: 10\n",
            "1010"
          ],
          "name": "stdout"
        }
      ]
    },
    {
      "cell_type": "markdown",
      "metadata": {
        "id": "tZeZWJZQAntB",
        "colab_type": "text"
      },
      "source": [
        "# 난수"
      ]
    },
    {
      "cell_type": "code",
      "metadata": {
        "id": "s9tyaKno9PYW",
        "colab_type": "code",
        "colab": {
          "base_uri": "https://localhost:8080/",
          "height": 34
        },
        "outputId": "a09b4458-be0a-4cc4-eba4-fd7ac634f9b8"
      },
      "source": [
        "import random\n",
        "guess_number = random.randint(1, 100)\n",
        "guess_number"
      ],
      "execution_count": 2,
      "outputs": [
        {
          "output_type": "execute_result",
          "data": {
            "text/plain": [
              "43"
            ]
          },
          "metadata": {
            "tags": []
          },
          "execution_count": 2
        }
      ]
    },
    {
      "cell_type": "markdown",
      "metadata": {
        "id": "8xdlKRzuAxC0",
        "colab_type": "text"
      },
      "source": [
        "## 숫자 찾기 게임"
      ]
    },
    {
      "cell_type": "code",
      "metadata": {
        "id": "iwl8Un3MAwuM",
        "colab_type": "code",
        "colab": {
          "base_uri": "https://localhost:8080/",
          "height": 53
        },
        "outputId": "7bbb4f71-c1ff-4fb5-a322-3351ceb8cb93"
      },
      "source": [
        "import random\n",
        "guess_number = random.randint(1, 100)\n",
        "print(\"숫자를 맞혀 보세요. (1~100)\")\n",
        "users_number = int(input())\n",
        "while(users_number is not guess_number):\n",
        "  if(users_number > guess_number):\n",
        "    print(\"숫자가 너무 큽니다.\")\n",
        "  else: print(\"숫자가 너무 작습니다.\")\n",
        "  users_number = int(input())\n",
        "print(\"정답입니다.\", \"입력한 숫자는\", users_number, \"입니다.\")"
      ],
      "execution_count": null,
      "outputs": [
        {
          "output_type": "stream",
          "text": [
            "숫자를 맞혀 보세요. (1~100)\n"
          ],
          "name": "stdout"
        }
      ]
    }
  ]
}