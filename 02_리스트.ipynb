{
  "nbformat": 4,
  "nbformat_minor": 0,
  "metadata": {
    "colab": {
      "name": "python_02_리스트.ipynb",
      "provenance": [],
      "collapsed_sections": [],
      "mount_file_id": "1N58eTDUczNV1CUlMfzOOK7YaMVJ8fRKJ",
      "authorship_tag": "ABX9TyOek2UNoi7JfyI13GQgdmpj",
      "include_colab_link": true
    },
    "kernelspec": {
      "name": "python3",
      "display_name": "Python 3"
    }
  },
  "cells": [
    {
      "cell_type": "markdown",
      "metadata": {
        "id": "view-in-github",
        "colab_type": "text"
      },
      "source": [
        "<a href=\"https://colab.research.google.com/github/HyoJInNam/Python/blob/master/02_%EB%A6%AC%EC%8A%A4%ED%8A%B8.ipynb\" target=\"_parent\"><img src=\"https://colab.research.google.com/assets/colab-badge.svg\" alt=\"Open In Colab\"/></a>"
      ]
    },
    {
      "cell_type": "markdown",
      "metadata": {
        "id": "ukPYF3JB48vI",
        "colab_type": "text"
      },
      "source": [
        "#인덱싱과 슬라이싱"
      ]
    },
    {
      "cell_type": "markdown",
      "metadata": {
        "id": "4fjKbxlN45h3",
        "colab_type": "text"
      },
      "source": [
        "## 인덱싱(Indexing)"
      ]
    },
    {
      "cell_type": "code",
      "metadata": {
        "id": "oGRxuY15LgoG",
        "colab_type": "code",
        "colab": {
          "base_uri": "https://localhost:8080/",
          "height": 70
        },
        "outputId": "3fdcdfa5-7c68-4f66-873b-83799ab0c5be"
      },
      "source": [
        "colors = [\"red\", \"blue\", \"green\"]\n",
        "print(colors[0])\n",
        "print(colors[2])\n",
        "#error: print(colors[3])\n",
        "print(len(colors))"
      ],
      "execution_count": null,
      "outputs": [
        {
          "output_type": "stream",
          "text": [
            "red\n",
            "green\n",
            "3\n"
          ],
          "name": "stdout"
        }
      ]
    },
    {
      "cell_type": "markdown",
      "metadata": {
        "id": "zsH-XpPa4_pB",
        "colab_type": "text"
      },
      "source": [
        "## 슬라이싱(sclicing)"
      ]
    },
    {
      "cell_type": "code",
      "metadata": {
        "id": "LJvVfluXOxBo",
        "colab_type": "code",
        "colab": {
          "base_uri": "https://localhost:8080/",
          "height": 70
        },
        "outputId": "7bd6fdaf-d0c6-45d9-b9ed-d550a96103b1"
      },
      "source": [
        "cities = ['서울', '부산', '인천', '대구', '대전', '광주', '울산', '수원']\n",
        "print(cities[0:6])\n",
        "print(cities[0:5])\n",
        "print(cities[5:])"
      ],
      "execution_count": null,
      "outputs": [
        {
          "output_type": "stream",
          "text": [
            "['서울', '부산', '인천', '대구', '대전', '광주']\n",
            "['서울', '부산', '인천', '대구', '대전']\n",
            "['광주', '울산', '수원']\n"
          ],
          "name": "stdout"
        }
      ]
    },
    {
      "cell_type": "markdown",
      "metadata": {
        "id": "cQQaaXjI5H0m",
        "colab_type": "text"
      },
      "source": [
        "### Reverse Index"
      ]
    },
    {
      "cell_type": "code",
      "metadata": {
        "id": "O-quVE8G5Qat",
        "colab_type": "code",
        "colab": {
          "base_uri": "https://localhost:8080/",
          "height": 52
        },
        "outputId": "7c7a3c79-d76d-4754-ed0d-af36e1779f87"
      },
      "source": [
        "cities = ['서울', '부산', '인천', '대구', '대전', '광주', '울산', '수원']\n",
        "print(cities[-8:])\n",
        "print(cities[-4:])"
      ],
      "execution_count": null,
      "outputs": [
        {
          "output_type": "stream",
          "text": [
            "['서울', '부산', '인천', '대구', '대전', '광주', '울산', '수원']\n",
            "['대전', '광주', '울산', '수원']\n"
          ],
          "name": "stdout"
        }
      ]
    },
    {
      "cell_type": "markdown",
      "metadata": {
        "id": "_1rA-GF25JS_",
        "colab_type": "text"
      },
      "source": [
        "### 인덱스 범위를 넘어가는 슬라이싱"
      ]
    },
    {
      "cell_type": "code",
      "metadata": {
        "id": "tHu96tHn5Olv",
        "colab_type": "code",
        "colab": {
          "base_uri": "https://localhost:8080/",
          "height": 70
        },
        "outputId": "3491c606-7f14-46a1-ecc2-fd47dddaba7b"
      },
      "source": [
        "cities = ['서울', '부산', '인천', '대구', '대전', '광주', '울산', '수원']\n",
        "print(cities[:])      #처음부터 끝까지\n",
        "print(cities[-2:2])\n",
        "print(cities[-50:50]) #범위를 넘어갈 경우 자동으로 최대 범위르르 지정"
      ],
      "execution_count": null,
      "outputs": [
        {
          "output_type": "stream",
          "text": [
            "['서울', '부산', '인천', '대구', '대전', '광주', '울산', '수원']\n",
            "[]\n",
            "['서울', '부산', '인천', '대구', '대전', '광주', '울산', '수원']\n"
          ],
          "name": "stdout"
        }
      ]
    },
    {
      "cell_type": "markdown",
      "metadata": {
        "id": "muJa7nV45JdP",
        "colab_type": "text"
      },
      "source": [
        "### tep(증가값): 변수명[시작 인덱스:마지막 인덱스:증가값]"
      ]
    },
    {
      "cell_type": "code",
      "metadata": {
        "id": "wSNQAQbT5Mpo",
        "colab_type": "code",
        "colab": {
          "base_uri": "https://localhost:8080/",
          "height": 87
        },
        "outputId": "ba66bfe7-cbf6-441f-e698-7b8cf803224c"
      },
      "source": [
        "cities = ['서울', '부산', '인천', '대구', '대전', '광주', '울산', '수원']\n",
        "print(cities[::])\n",
        "print(cities[::2])    #2칸 단위로\n",
        "print(cities[::-1])   #역으로 슬라이싱\n",
        "print(cities[::-2])"
      ],
      "execution_count": null,
      "outputs": [
        {
          "output_type": "stream",
          "text": [
            "['서울', '부산', '인천', '대구', '대전', '광주', '울산', '수원']\n",
            "['서울', '인천', '대전', '울산']\n",
            "['수원', '울산', '광주', '대전', '대구', '인천', '부산', '서울']\n",
            "['수원', '광주', '대구', '부산']\n"
          ],
          "name": "stdout"
        }
      ]
    },
    {
      "cell_type": "markdown",
      "metadata": {
        "id": "lD1ASJKR5UNF",
        "colab_type": "text"
      },
      "source": [
        "### 문자열"
      ]
    },
    {
      "cell_type": "code",
      "metadata": {
        "id": "H0-jLq36QtjF",
        "colab_type": "code",
        "colab": {
          "base_uri": "https://localhost:8080/",
          "height": 70
        },
        "outputId": "ee514826-0687-4fe8-9503-002c2172a527"
      },
      "source": [
        "astr = \"123456789\"\n",
        "print(astr[0:9:2])\n",
        "print(astr[::2])\n",
        "print(astr[1::2])"
      ],
      "execution_count": null,
      "outputs": [
        {
          "output_type": "stream",
          "text": [
            "13579\n",
            "13579\n",
            "2468\n"
          ],
          "name": "stdout"
        }
      ]
    },
    {
      "cell_type": "code",
      "metadata": {
        "id": "bvU8TXJRPeDy",
        "colab_type": "code",
        "colab": {
          "base_uri": "https://localhost:8080/",
          "height": 52
        },
        "outputId": "881d72b8-ed3e-44e5-9642-f224a3cf71a2"
      },
      "source": [
        "color1 = [\"red\", \"blue\", \"green\"]\n",
        "color2 = ['orange', 'black', 'white']\n",
        "print(color1 + color2)\n",
        "print(len(color1))"
      ],
      "execution_count": null,
      "outputs": [
        {
          "output_type": "stream",
          "text": [
            "['red', 'blue', 'green', 'orange', 'black', 'white']\n",
            "3\n"
          ],
          "name": "stdout"
        }
      ]
    },
    {
      "cell_type": "markdown",
      "metadata": {
        "id": "soNwdTQz5WUh",
        "colab_type": "text"
      },
      "source": [
        "### 연산"
      ]
    },
    {
      "cell_type": "code",
      "metadata": {
        "id": "f0lWyKqQ5eaf",
        "colab_type": "code",
        "colab": {
          "base_uri": "https://localhost:8080/",
          "height": 70
        },
        "outputId": "1177788d-8a8f-4360-a6e0-18028caeb45e"
      },
      "source": [
        "print(color1 + color2)\n",
        "print(color1 * 2)\n",
        "print('blue' in color2) # in: color2 변수에서 문자열 'blue'의 존재 여부 반환"
      ],
      "execution_count": null,
      "outputs": [
        {
          "output_type": "stream",
          "text": [
            "['red', 'blue', 'green', 'orange', 'black', 'white']\n",
            "['red', 'blue', 'green', 'red', 'blue', 'green']\n",
            "False\n"
          ],
          "name": "stdout"
        }
      ]
    },
    {
      "cell_type": "markdown",
      "metadata": {
        "id": "B-rwXtST5W-Y",
        "colab_type": "text"
      },
      "source": [
        "### 삽입"
      ]
    },
    {
      "cell_type": "code",
      "metadata": {
        "id": "FiZjHnnT5cos",
        "colab_type": "code",
        "colab": {
          "base_uri": "https://localhost:8080/",
          "height": 87
        },
        "outputId": "25f36c1e-8191-401d-c7b3-57432285fd78"
      },
      "source": [
        "color1.append('orange')\n",
        "print(color1)\n",
        "\n",
        "color1.extend([\"blue\", \"green\"])\n",
        "print(color1)\n",
        "\n",
        "color1.extend(color2)\n",
        "print(color1)\n",
        "\n",
        "color1.insert(0, 'orange')\n",
        "print(color1)"
      ],
      "execution_count": null,
      "outputs": [
        {
          "output_type": "stream",
          "text": [
            "['red', 'blue', 'green', 'orange']\n",
            "['red', 'blue', 'green', 'orange', 'blue', 'green']\n",
            "['red', 'blue', 'green', 'orange', 'blue', 'green', 'orange', 'black', 'white']\n",
            "['orange', 'red', 'blue', 'green', 'orange', 'blue', 'green', 'orange', 'black', 'white']\n"
          ],
          "name": "stdout"
        }
      ]
    },
    {
      "cell_type": "markdown",
      "metadata": {
        "id": "l1Fg80d55XIW",
        "colab_type": "text"
      },
      "source": [
        "### 삭제"
      ]
    },
    {
      "cell_type": "code",
      "metadata": {
        "id": "Fr6Cgmll5cHe",
        "colab_type": "code",
        "colab": {
          "base_uri": "https://localhost:8080/",
          "height": 122
        },
        "outputId": "c92381dc-078e-45ed-d7a6-797446447fed"
      },
      "source": [
        "color1.remove('orange')\n",
        "print(color1)\n",
        "\n",
        "del color1[len(color1)-1]\n",
        "print(color1)\n",
        "\n",
        "print(color1.pop(5))\n",
        "\n",
        "removed_value = color1.pop(len(color1)-1)\n",
        "print(removed_value)\n",
        "\n",
        "# del 변수명[포함 x : 포함]\n",
        "del color1[4:] # orange 포함 x 삭제\n",
        "print(color1)\n",
        "\n",
        "del color1[:4] # orange 포함 삭제\n",
        "print(color1)"
      ],
      "execution_count": null,
      "outputs": [
        {
          "output_type": "stream",
          "text": [
            "['red', 'blue', 'green', 'orange', 'blue', 'green', 'orange', 'black', 'white']\n",
            "['red', 'blue', 'green', 'orange', 'blue', 'green', 'orange', 'black']\n",
            "green\n",
            "black\n",
            "['red', 'blue', 'green', 'orange']\n",
            "[]\n"
          ],
          "name": "stdout"
        }
      ]
    },
    {
      "cell_type": "markdown",
      "metadata": {
        "id": "sSP_Kt075gyS",
        "colab_type": "text"
      },
      "source": [
        "# 패킹 & 언팩킹"
      ]
    },
    {
      "cell_type": "markdown",
      "metadata": {
        "id": "b70eJS4Z5lMc",
        "colab_type": "text"
      },
      "source": [
        "*   packing: 한 변수에 여러개의 데이터를 할당\n",
        "*   unpacking: 한 변수에 데이터를 각각의 변수로 반환"
      ]
    },
    {
      "cell_type": "code",
      "metadata": {
        "id": "cW-x4oAIQiIY",
        "colab_type": "code",
        "colab": {
          "base_uri": "https://localhost:8080/",
          "height": 34
        },
        "outputId": "5463deee-ad0b-4eb6-d0a4-eee6983606b3"
      },
      "source": [
        "t = [1, 2, 3] # 패킹\n",
        "a, b, c = t   # 언패킹\n",
        "print(t, a, b, c)\n",
        "# err: a, b, c, d, e = t\n",
        "# err: a, b = t"
      ],
      "execution_count": null,
      "outputs": [
        {
          "output_type": "stream",
          "text": [
            "[1, 2, 3] 1 2 3\n"
          ],
          "name": "stdout"
        }
      ]
    },
    {
      "cell_type": "markdown",
      "metadata": {
        "id": "LrwJ2cZC5r_A",
        "colab_type": "text"
      },
      "source": [
        "# 이차원 리스트"
      ]
    },
    {
      "cell_type": "code",
      "metadata": {
        "id": "vGRtU_VYUy8s",
        "colab_type": "code",
        "colab": {
          "base_uri": "https://localhost:8080/",
          "height": 52
        },
        "outputId": "be08f0f9-b2db-4746-cc41-aff2232e4bcd"
      },
      "source": [
        "kor = [49, 79, 20, 100, 80]\n",
        "math = [43, 59, 85, 30, 90]\n",
        "eng = [49, 79, 48, 60, 100]\n",
        "\n",
        "midterm = [kor, math, eng] \n",
        "print(midterm)\n",
        "\n",
        "print(midterm[0][2], ',', midterm[2][4]) # 국어 20, 영어 100"
      ],
      "execution_count": null,
      "outputs": [
        {
          "output_type": "stream",
          "text": [
            "[[49, 79, 20, 100, 80], [43, 59, 85, 30, 90], [49, 79, 48, 60, 100]]\n",
            "20 , 100\n"
          ],
          "name": "stdout"
        }
      ]
    },
    {
      "cell_type": "markdown",
      "metadata": {
        "id": "eb1KicqB7HX-",
        "colab_type": "text"
      },
      "source": [
        "리스트의 메모리 저장 = 메모리 주소값 저장"
      ]
    },
    {
      "cell_type": "code",
      "metadata": {
        "id": "bgtWWNwS7OX_",
        "colab_type": "code",
        "colab": {
          "base_uri": "https://localhost:8080/",
          "height": 34
        },
        "outputId": "72c10eb2-6e48-451e-f681-8117f57314b2"
      },
      "source": [
        "midterm[0] = 1000\n",
        "print(midterm)"
      ],
      "execution_count": null,
      "outputs": [
        {
          "output_type": "stream",
          "text": [
            "[1000, [43, 59, 85, 30, 90], [49, 79, 48, 60, 100]]\n"
          ],
          "name": "stdout"
        }
      ]
    },
    {
      "cell_type": "markdown",
      "metadata": {
        "id": "72jH7Frc7RYP",
        "colab_type": "text"
      },
      "source": [
        "# 리스트 주의 사항\n",
        "\n"
      ]
    },
    {
      "cell_type": "markdown",
      "metadata": {
        "id": "xZOlHUZz8CsD",
        "colab_type": "text"
      },
      "source": [
        "## 1.   여러 자료형 가능"
      ]
    },
    {
      "cell_type": "code",
      "metadata": {
        "id": "w6ydIy1l8B8R",
        "colab_type": "code",
        "colab": {
          "base_uri": "https://localhost:8080/",
          "height": 34
        },
        "outputId": "aba356be-79db-41ad-e388-ed3d77a6b204"
      },
      "source": [
        "a = [\"color\", 1, 0.2] \n",
        "print(a)"
      ],
      "execution_count": null,
      "outputs": [
        {
          "output_type": "stream",
          "text": [
            "['color', 1, 0.2]\n"
          ],
          "name": "stdout"
        }
      ]
    },
    {
      "cell_type": "markdown",
      "metadata": {
        "id": "5YY7WVIR7-i7",
        "colab_type": "text"
      },
      "source": [
        "## 2.   주소값 비교, 값 비교"
      ]
    },
    {
      "cell_type": "code",
      "metadata": {
        "id": "CdrM5bNT7f8A",
        "colab_type": "code",
        "colab": {
          "base_uri": "https://localhost:8080/",
          "height": 34
        },
        "outputId": "741eb408-dbc0-49c2-f63f-c821b65f8131"
      },
      "source": [
        "a = 300\n",
        "b = 300\n",
        "print(a is b, a == b)  # 주소값 비교, 값 비교"
      ],
      "execution_count": null,
      "outputs": [
        {
          "output_type": "stream",
          "text": [
            "False True\n"
          ],
          "name": "stdout"
        }
      ]
    },
    {
      "cell_type": "markdown",
      "metadata": {
        "id": "ogi4EJXq7iRF",
        "colab_type": "text"
      },
      "source": [
        "## 3. -5 ~ 256 까지의 정수 주소값\n",
        "*   -5 ~ 256 까지의 정수값을 특정 메모리 주소에 저장한다. \n",
        "*   해당 숫자를 할당하려고 하면 숫자가 가진 특정 메모리 주소로 연결한다.\n",
        "*   이미 존재하는 메모리 공간"
      ]
    },
    {
      "cell_type": "code",
      "metadata": {
        "id": "-b3BeLi27bQO",
        "colab_type": "code",
        "colab": {
          "base_uri": "https://localhost:8080/",
          "height": 70
        },
        "outputId": "d2b28df3-4fc3-413c-8e94-c243b2b91484"
      },
      "source": [
        "a = 1\n",
        "b = 1\n",
        "print(a is b, a == b)\n",
        "\n",
        "a = -5\n",
        "b = -5\n",
        "print(a is b, a == b)\n",
        "\n",
        "a = 256\n",
        "b = 256\n",
        "print(a is b, a == b)"
      ],
      "execution_count": null,
      "outputs": [
        {
          "output_type": "stream",
          "text": [
            "True True\n",
            "True True\n",
            "True True\n"
          ],
          "name": "stdout"
        }
      ]
    },
    {
      "cell_type": "markdown",
      "metadata": {
        "id": "4NxQ8d2D7xas",
        "colab_type": "text"
      },
      "source": [
        "## 4. 리스트는 값이 있는 주소를 저장한는 방식\n",
        "* 리스트는 기본적으로 값을 연속적으로 저장하는 것이 아니라,\n",
        "* 값이 있는 주소를 저장한는 방식."
      ]
    },
    {
      "cell_type": "code",
      "metadata": {
        "id": "xZg08TiyVCv_",
        "colab_type": "code",
        "colab": {
          "base_uri": "https://localhost:8080/",
          "height": 70
        },
        "outputId": "477cb07b-8a38-43ad-dc79-7c33097b3fc5"
      },
      "source": [
        "a = [5, 4, 3, 2, 1]\n",
        "b = [1, 2, 3, 4, 5]\n",
        "b = a\n",
        "print(b)\n",
        "\n",
        "a.sort() #★★★★★\n",
        "print(b)\n",
        "\n",
        "b = [6, 7, 8, 9, 10]\n",
        "print(a, b)"
      ],
      "execution_count": null,
      "outputs": [
        {
          "output_type": "stream",
          "text": [
            "[5, 4, 3, 2, 1]\n",
            "[1, 2, 3, 4, 5]\n",
            "[1, 2, 3, 4, 5] [6, 7, 8, 9, 10]\n"
          ],
          "name": "stdout"
        }
      ]
    }
  ]
}