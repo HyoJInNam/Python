{
  "nbformat": 4,
  "nbformat_minor": 0,
  "metadata": {
    "colab": {
      "name": "python_10_class_01.ipynb",
      "provenance": [],
      "collapsed_sections": [],
      "include_colab_link": true
    },
    "kernelspec": {
      "name": "python3",
      "display_name": "Python 3"
    }
  },
  "cells": [
    {
      "cell_type": "markdown",
      "metadata": {
        "id": "view-in-github",
        "colab_type": "text"
      },
      "source": [
        "<a href=\"https://colab.research.google.com/github/HyoJInNam/Python/blob/master/08_Class.ipynb\" target=\"_parent\"><img src=\"https://colab.research.google.com/assets/colab-badge.svg\" alt=\"Open In Colab\"/></a>"
      ]
    },
    {
      "cell_type": "markdown",
      "metadata": {
        "id": "JFsFUWOctIlX",
        "colab_type": "text"
      },
      "source": [
        "# 클래스, class"
      ]
    },
    {
      "cell_type": "code",
      "metadata": {
        "id": "JesHRTi1OWd5",
        "colab_type": "code",
        "colab": {
          "base_uri": "https://localhost:8080/",
          "height": 34
        },
        "outputId": "3c2717e4-0ec5-46dc-ef80-03b5d630787c"
      },
      "source": [
        "class FishShapedBun:\n",
        "    pass\n",
        "\n",
        "a = FishShapedBun()\n",
        "b = FishShapedBun()\n",
        "\n",
        "print(type(a))\n"
      ],
      "execution_count": null,
      "outputs": [
        {
          "output_type": "stream",
          "text": [
            "<class '__main__.FishShapedBun'>\n"
          ],
          "name": "stdout"
        }
      ]
    },
    {
      "cell_type": "code",
      "metadata": {
        "id": "XO11-A9DRBnf",
        "colab_type": "code",
        "colab": {
          "base_uri": "https://localhost:8080/",
          "height": 34
        },
        "outputId": "812777da-9c3b-44a6-8a35-8d03c85e3318"
      },
      "source": [
        "class Person:\n",
        "  def greeting(self):\n",
        "    print('Hello')\n",
        "\n",
        "james = Person()\n",
        "james.greeting()"
      ],
      "execution_count": null,
      "outputs": [
        {
          "output_type": "stream",
          "text": [
            "Hello\n"
          ],
          "name": "stdout"
        }
      ]
    },
    {
      "cell_type": "markdown",
      "metadata": {
        "id": "weqo23OYtNPx",
        "colab_type": "text"
      },
      "source": [
        "## 속성(field)과 메소드(method)"
      ]
    },
    {
      "cell_type": "code",
      "metadata": {
        "id": "FT9X56FrPkf6",
        "colab_type": "code",
        "colab": {
          "base_uri": "https://localhost:8080/",
          "height": 34
        },
        "outputId": "9e64edbe-7f41-4161-fa62-0dc358c6ba2d"
      },
      "source": [
        "# 속성\n",
        "\n",
        "class Person:\n",
        "    def __init__(self):\n",
        "        self.hello = '안녕하세요.'\n",
        " \n",
        "    def greeting(self):\n",
        "        print(self.hello)\n",
        " \n",
        "james = Person()\n",
        "james.greeting()    # 안녕하세요.\n"
      ],
      "execution_count": null,
      "outputs": [
        {
          "output_type": "stream",
          "text": [
            "안녕하세요.\n"
          ],
          "name": "stdout"
        }
      ]
    },
    {
      "cell_type": "code",
      "metadata": {
        "id": "lz9BPG35O4zj",
        "colab_type": "code",
        "colab": {
          "base_uri": "https://localhost:8080/",
          "height": 204
        },
        "outputId": "3a4d5648-436d-4c35-a7b3-da5592084dc9"
      },
      "source": [
        "# 비공개 속성\n",
        "\n",
        "class Person:\n",
        "    def __init__(self, name, age, address, wallet):\n",
        "        self.name = name\n",
        "        self.age = age\n",
        "        self.address = address\n",
        "        self.__wallet = wallet    # 변수 앞에 __를 붙여서 비공개 속성으로 만듦\n",
        " \n",
        "maria = Person('마리아', 20, '서울시 서초구 반포동', 10000)\n",
        "maria.__wallet -= 10000    # 클래스 바깥에서 비공개 속성에 접근하면 에러가 발생함"
      ],
      "execution_count": null,
      "outputs": [
        {
          "output_type": "error",
          "ename": "AttributeError",
          "evalue": "ignored",
          "traceback": [
            "\u001b[0;31m---------------------------------------------------------------------------\u001b[0m",
            "\u001b[0;31mAttributeError\u001b[0m                            Traceback (most recent call last)",
            "\u001b[0;32m<ipython-input-12-9f5e658884d6>\u001b[0m in \u001b[0;36m<module>\u001b[0;34m()\u001b[0m\n\u001b[1;32m      9\u001b[0m \u001b[0;34m\u001b[0m\u001b[0m\n\u001b[1;32m     10\u001b[0m \u001b[0mmaria\u001b[0m \u001b[0;34m=\u001b[0m \u001b[0mPerson\u001b[0m\u001b[0;34m(\u001b[0m\u001b[0;34m'마리아'\u001b[0m\u001b[0;34m,\u001b[0m \u001b[0;36m20\u001b[0m\u001b[0;34m,\u001b[0m \u001b[0;34m'서울시 서초구 반포동'\u001b[0m\u001b[0;34m,\u001b[0m \u001b[0;36m10000\u001b[0m\u001b[0;34m)\u001b[0m\u001b[0;34m\u001b[0m\u001b[0;34m\u001b[0m\u001b[0m\n\u001b[0;32m---> 11\u001b[0;31m \u001b[0mmaria\u001b[0m\u001b[0;34m.\u001b[0m\u001b[0m__wallet\u001b[0m \u001b[0;34m-=\u001b[0m \u001b[0;36m10000\u001b[0m    \u001b[0;31m# 클래스 바깥에서 비공개 속성에 접근하면 에러가 발생함\u001b[0m\u001b[0;34m\u001b[0m\u001b[0;34m\u001b[0m\u001b[0m\n\u001b[0m",
            "\u001b[0;31mAttributeError\u001b[0m: 'Person' object has no attribute '__wallet'"
          ]
        }
      ]
    },
    {
      "cell_type": "markdown",
      "metadata": {
        "id": "87DJFbhptSoA",
        "colab_type": "text"
      },
      "source": [
        "## 인스턴스, instance"
      ]
    },
    {
      "cell_type": "code",
      "metadata": {
        "id": "fXpzBphQPRoc",
        "colab_type": "code",
        "colab": {
          "base_uri": "https://localhost:8080/",
          "height": 87
        },
        "outputId": "5126a54e-34ec-4fe3-9213-bee16e8e3d3c"
      },
      "source": [
        "# 인스턴스\n",
        "\n",
        "class Person:\n",
        "    def __init__(self, name, age, address):\n",
        "        self.hello = '안녕하세요.'\n",
        "        self.name = name\n",
        "        self.age = age\n",
        "        self.address = address\n",
        " \n",
        "    def greeting(self):\n",
        "        print('{0} 저는 {1}입니다.'.format(self.hello, self.name))\n",
        " \n",
        "maria = Person('마리아', 20, '서울시 서초구 반포동')\n",
        "maria.greeting()    # 안녕하세요. 저는 마리아입니다.\n",
        " \n",
        "print('이름:', maria.name)       # 마리아\n",
        "print('나이:', maria.age)        # 20\n",
        "print('주소:', maria.address)    # 서울시 서초구 반포동\n"
      ],
      "execution_count": null,
      "outputs": [
        {
          "output_type": "stream",
          "text": [
            "안녕하세요. 저는 마리아입니다.\n",
            "이름: 마리아\n",
            "나이: 20\n",
            "주소: 서울시 서초구 반포동\n"
          ],
          "name": "stdout"
        }
      ]
    },
    {
      "cell_type": "code",
      "metadata": {
        "id": "p7CmYh_EGajg",
        "colab_type": "code",
        "colab": {
          "base_uri": "https://localhost:8080/",
          "height": 87
        },
        "outputId": "0e501648-79c1-4019-db0d-3a63858fd2f8"
      },
      "source": [
        "class Animal():\n",
        "    def __init__(self, name, speek):\n",
        "        self.__name = name\n",
        "        self.speek = speek\n",
        "    def getName(self):\n",
        "        print(self.__name)\n",
        "    def bark(self):\n",
        "        pass\n",
        "    def run(self):\n",
        "        pass\n",
        "    def food(self):\n",
        "        print(\"냠냠냠\")\n",
        "        \n",
        "\n",
        "dog = Animal(\"강아지\", \"멍멍\")\n",
        "dog.getName()\n",
        "dog.bark()\n",
        "dog.run()\n",
        "dog.food()\n",
        "\n",
        "cat = Animal(\"고양이\", \"냐옹\")\n",
        "cat.getName()\n",
        "cat.bark()\n",
        "cat.run()\n",
        "cat.food()"
      ],
      "execution_count": null,
      "outputs": [
        {
          "output_type": "stream",
          "text": [
            "강아지\n",
            "냠냠냠\n",
            "고양이\n",
            "냠냠냠\n"
          ],
          "name": "stdout"
        }
      ]
    },
    {
      "cell_type": "code",
      "metadata": {
        "id": "Pg7f9uLVQhfH",
        "colab_type": "code",
        "colab": {}
      },
      "source": [
        "class Animal():\n",
        "    def __init__(self, name, age, color, speek):\n",
        "        self.__name = name\n",
        "        self.__age = age\n",
        "        self.color = color\n",
        "        self.speek = speek\n",
        "\n",
        "    def getName(self):\n",
        "        print(self.__name)\n",
        "    def bark(self):\n",
        "        print(self.speek, \"!!\", self.__age, \"살 이야.\")\n",
        "    def run(self):\n",
        "        print(\"{}은/는 달리고 있습니다.\".format(self.__name))\n",
        "    def food(self):\n",
        "        print(\"냠냠냠\")\n",
        "    def change_color(self, newColor):\n",
        "        self.color = newColor\n",
        "        print(\"내 털 색은\", self.color, \"이야\")\n",
        "        \n",
        "\n",
        "dog = Animal(\"강아지\", 5, \"BLACK\", \"멍멍\")\n",
        "dog.getName()\n",
        "dog.bark()\n",
        "dog.run()\n",
        "dog.change_color(\"GRAY\")\n",
        "\n",
        "cat = Animal(\"고양이\", 6, \"WHITE\",  \"냐옹\")\n",
        "cat.getName()\n",
        "cat.bark()\n",
        "cat.run()\n",
        "cat.change_color(dog.color)"
      ],
      "execution_count": null,
      "outputs": []
    },
    {
      "cell_type": "markdown",
      "metadata": {
        "id": "sqnyrgLttWZV",
        "colab_type": "text"
      },
      "source": [
        "# 상속"
      ]
    },
    {
      "cell_type": "code",
      "metadata": {
        "id": "3wvsIZp6Pel_",
        "colab_type": "code",
        "colab": {
          "base_uri": "https://localhost:8080/",
          "height": 52
        },
        "outputId": "d71d4429-99f6-4d96-f9cc-aa7c6cb5a1cd"
      },
      "source": [
        "# 상속\n",
        "\n",
        "class Person:\n",
        "    def greeting(self):\n",
        "        print('안녕하세요.')\n",
        " \n",
        "class Student(Person):\n",
        "    def study(self):\n",
        "        print('공부하기')\n",
        " \n",
        "james = Student()\n",
        "james.greeting()    # 안녕하세요.: 기반 클래스 Person의 메소드 호출\n",
        "james.study()       # 공부하기: 파생 클래스 Student에 추가한 study 메소드\n"
      ],
      "execution_count": null,
      "outputs": [
        {
          "output_type": "stream",
          "text": [
            "안녕하세요.\n",
            "공부하기\n"
          ],
          "name": "stdout"
        }
      ]
    },
    {
      "cell_type": "markdown",
      "metadata": {
        "id": "PNGY6h-ntt_x",
        "colab_type": "text"
      },
      "source": [
        "## 부모 클래스의 속성 사용"
      ]
    },
    {
      "cell_type": "code",
      "metadata": {
        "id": "IoXHY8_vP0xW",
        "colab_type": "code",
        "colab": {
          "base_uri": "https://localhost:8080/",
          "height": 87
        },
        "outputId": "cca91d8d-8333-4389-ec00-472df819fb47"
      },
      "source": [
        "# 부모 클래스의 속성 사용\n",
        "\n",
        "class Person:\n",
        "    def __init__(self):\n",
        "        print('Person __init__')\n",
        "        self.hello = '안녕하세요.'\n",
        " \n",
        "class Student(Person):\n",
        "    def __init__(self):\n",
        "        print('Student __init__')\n",
        "        super().__init__()                # super()로 기반 클래스의 메서드 호출\n",
        "        self.school = '홍익대학교'\n",
        " \n",
        "james = Student()\n",
        "print(james.school)\n",
        "print(james.hello)\n"
      ],
      "execution_count": null,
      "outputs": [
        {
          "output_type": "stream",
          "text": [
            "Student __init__\n",
            "Person __init__\n",
            "홍익대학교\n",
            "안녕하세요.\n"
          ],
          "name": "stdout"
        }
      ]
    },
    {
      "cell_type": "code",
      "metadata": {
        "id": "HV3WqecsOtpV",
        "colab_type": "code",
        "colab": {
          "base_uri": "https://localhost:8080/",
          "height": 122
        },
        "outputId": "9c27520e-7353-4d0c-c534-52f2cca2e82d"
      },
      "source": [
        "# 클래스_부모클래스 속성 사용\n",
        "\n",
        "class Person:\n",
        "    def __init__(self):\n",
        "        print('Person __init__')\n",
        "        self.hello = '안녕하세요.'\n",
        " \n",
        "class Student(Person):\n",
        "    def __init__(self):\n",
        "        print('Student __init__')\n",
        "        super().__init__()                # super()로 기반 클래스의 메서드 호출\n",
        "        self.school = '홍익대학교'\n",
        " \n",
        "albert = Person()\n",
        "print(albert.hello)\n",
        "#print(albert.school) # AttributeError: 'Person' object has no attribute 'school'\n",
        "\n",
        "james = Student()\n",
        "print(james.school)\n",
        "print(james.hello)"
      ],
      "execution_count": null,
      "outputs": [
        {
          "output_type": "stream",
          "text": [
            "Person __init__\n",
            "안녕하세요.\n",
            "Student __init__\n",
            "Person __init__\n",
            "홍익대학교\n",
            "안녕하세요.\n"
          ],
          "name": "stdout"
        }
      ]
    },
    {
      "cell_type": "code",
      "metadata": {
        "id": "SDgglUTGSvsd",
        "colab_type": "code",
        "colab": {
          "base_uri": "https://localhost:8080/",
          "height": 334
        },
        "outputId": "af7883dd-f086-41dc-98e1-d2270926ffad"
      },
      "source": [
        "class Animal():\n",
        "    def __init__(self, name, age, color, speek):\n",
        "        self.__name = name\n",
        "        self.__age = age\n",
        "        self.color = color\n",
        "        self.speek = speek\n",
        "\n",
        "    def getName(self):\n",
        "        print(self.__name)\n",
        "    def bark(self):\n",
        "        print(self.speek, \"!!\", self.__age, \"살 이야.\")\n",
        "    def run(self):\n",
        "        print(\"{}은/는 달리고 있습니다.\".format(self.__name))\n",
        "    def food(self):\n",
        "        print(\"냠냠냠\")\n",
        "    def change_color(self, newColor):\n",
        "        self.color = newColor\n",
        "        print(\"내 털 색은\", self.color, \"이야\")\n",
        "\n",
        "class Fish(Animal):\n",
        "    def __init__(self, name, age, color, speak, meal):\n",
        "        super().__init__(name, age, color, speak)\n",
        "        self.meal = meal\n",
        "    def swimming(self):\n",
        "        print(\"수영합니다.\")\n",
        "    def food(self):\n",
        "        print(\"{}를 좋아합니다. 냠냠\".format(self.meal))\n",
        "\n",
        "dog = Animal(\"강아지\", 5, \"BLACK\", \"멍멍\")\n",
        "dog.getName()\n",
        "dog.bark()\n",
        "dog.run()\n",
        "dog.change_color(\"GRAY\")\n",
        "dog.food()\n",
        "\n",
        "print()\n",
        "\n",
        "cat = Animal(\"고양이\", 6, \"WHITE\",  \"냐옹\")\n",
        "cat.getName()\n",
        "cat.bark()\n",
        "cat.run()\n",
        "cat.change_color(dog.color)\n",
        "cat.food()\n",
        "\n",
        "print()\n",
        "\n",
        "fish = Fish(\"물고기\", 0.6, \"silver\", \"뻐금뻐금\", \"먹이\")\n",
        "fish.getName()\n",
        "fish.bark()\n",
        "fish.run()\n",
        "fish.change_color(dog.color)\n",
        "fish.swimming()\n",
        "fish.food()"
      ],
      "execution_count": null,
      "outputs": [
        {
          "output_type": "stream",
          "text": [
            "강아지\n",
            "멍멍 !! 5 살 이야.\n",
            "강아지은/는 달리고 있습니다.\n",
            "내 털 색은 GRAY 이야\n",
            "냠냠냠\n",
            "\n",
            "고양이\n",
            "냐옹 !! 6 살 이야.\n",
            "고양이은/는 달리고 있습니다.\n",
            "내 털 색은 GRAY 이야\n",
            "냠냠냠\n",
            "\n",
            "물고기\n",
            "뻐금뻐금 !! 0.6 살 이야.\n",
            "물고기은/는 달리고 있습니다.\n",
            "내 털 색은 GRAY 이야\n",
            "수영합니다.\n",
            "먹이를 좋아합니다. 냠냠\n"
          ],
          "name": "stdout"
        }
      ]
    },
    {
      "cell_type": "code",
      "metadata": {
        "id": "10TvQum7XvI9",
        "colab_type": "code",
        "colab": {
          "base_uri": "https://localhost:8080/",
          "height": 474
        },
        "outputId": "906dcdbb-4b44-470a-f428-d9f5d800d4d4"
      },
      "source": [
        "class Animal():\n",
        "    def __init__(self, name, age, color, speek):\n",
        "        self.__name = name\n",
        "        self.__age = age\n",
        "        self.color = color\n",
        "        self.speek = speek\n",
        "\n",
        "    def getName(self):\n",
        "        print(self.__name)\n",
        "    def bark(self):\n",
        "        print(self.speek, \"!!\", self.__age, \"살 이야.\")\n",
        "    def run(self):\n",
        "        print(\"{}은/는 달리고 있습니다.\".format(self.__name))\n",
        "    def food(self):\n",
        "        print(\"냠냠냠\")\n",
        "    def change_color(self, newColor):\n",
        "        self.color = newColor\n",
        "        print(\"내 털 색은\", self.color, \"이야\")\n",
        "\n",
        "class Fish(Animal):\n",
        "    def __init__(self, name, age, color, speak, meal):\n",
        "        super().__init__(name, age, color, speak)\n",
        "        self.meal = meal\n",
        "    def swimming(self):\n",
        "        print(\"헤엄칩니다.\")\n",
        "    def food(self):\n",
        "        print(\"{}를 좋아합니다. 냠냠\".format(self.meal))\n",
        "\n",
        "class Duck(Animal):\n",
        "    def __init__(self, name, age, color, speak, best_freind_name):\n",
        "        super().__init__(name, age, color, speak)\n",
        "        self.best_freind_name = best_freind_name\n",
        "    def swimming(self):\n",
        "        print(\"수영합니다.\")\n",
        "    def fly(self):\n",
        "        print(\"하늘을 납니다.\")\n",
        "\n",
        "dog = Animal(\"강아지\", 5, \"BLACK\", \"멍멍\")\n",
        "dog.getName()\n",
        "dog.bark()\n",
        "dog.run()\n",
        "dog.change_color(\"GRAY\")\n",
        "dog.food()\n",
        "\n",
        "print()\n",
        "\n",
        "cat = Animal(\"고양이\", 6, \"WHITE\",  \"냐옹\")\n",
        "cat.getName()\n",
        "cat.bark()\n",
        "cat.run()\n",
        "cat.change_color(dog.color)\n",
        "cat.food()\n",
        "\n",
        "print()\n",
        "\n",
        "fish = Fish(\"물고기\", 0.6, \"silver\", \"뻐금뻐금\", \"먹이\")\n",
        "fish.getName()\n",
        "fish.bark()\n",
        "fish.run()\n",
        "fish.change_color(dog.color)\n",
        "fish.swimming()\n",
        "fish.food()\n",
        "\n",
        "print()\n",
        "\n",
        "duck = Duck(\"오리\", 1.2, \"white\", \"꽥꽥\", \"멍멍이\")\n",
        "duck.getName()\n",
        "duck.bark()\n",
        "duck.run()\n",
        "duck.change_color(dog.color)\n",
        "duck.swimming()\n",
        "duck.fly()\n",
        "print(duck.best_freind_name)"
      ],
      "execution_count": null,
      "outputs": [
        {
          "output_type": "stream",
          "text": [
            "강아지\n",
            "멍멍 !! 5 살 이야.\n",
            "강아지은/는 달리고 있습니다.\n",
            "내 털 색은 GRAY 이야\n",
            "냠냠냠\n",
            "\n",
            "고양이\n",
            "냐옹 !! 6 살 이야.\n",
            "고양이은/는 달리고 있습니다.\n",
            "내 털 색은 GRAY 이야\n",
            "냠냠냠\n",
            "\n",
            "물고기\n",
            "뻐금뻐금 !! 0.6 살 이야.\n",
            "물고기은/는 달리고 있습니다.\n",
            "내 털 색은 GRAY 이야\n",
            "헤엄칩니다.\n",
            "먹이를 좋아합니다. 냠냠\n",
            "\n",
            "오리\n",
            "꽥꽥 !! 1.2 살 이야.\n",
            "오리은/는 달리고 있습니다.\n",
            "내 털 색은 GRAY 이야\n",
            "수영합니다.\n",
            "하늘을 납니다.\n",
            "멍멍이\n"
          ],
          "name": "stdout"
        }
      ]
    },
    {
      "cell_type": "markdown",
      "metadata": {
        "id": "DY4a-ezmt0xe",
        "colab_type": "text"
      },
      "source": [
        "## 메소드 오버라이딩"
      ]
    },
    {
      "cell_type": "code",
      "metadata": {
        "id": "7kxoKMbSPDaW",
        "colab_type": "code",
        "colab": {
          "base_uri": "https://localhost:8080/",
          "height": 34
        },
        "outputId": "5874924d-7b00-48c5-f872-aa89dfed36b7"
      },
      "source": [
        "# 오버라이딩1\n",
        "\n",
        "class Person:\n",
        "    def greeting(self):\n",
        "        print('안녕하세요.')\n",
        " \n",
        "class Student(Person):\n",
        "    def greeting(self):\n",
        "        print('안녕하세요. 저는 학생입니다.')\n",
        " \n",
        "james = Student()\n",
        "james.greeting()\n"
      ],
      "execution_count": null,
      "outputs": [
        {
          "output_type": "stream",
          "text": [
            "안녕하세요. 저는 학생입니다.\n"
          ],
          "name": "stdout"
        }
      ]
    },
    {
      "cell_type": "code",
      "metadata": {
        "id": "EfQGodWCPLIw",
        "colab_type": "code",
        "colab": {
          "base_uri": "https://localhost:8080/",
          "height": 52
        },
        "outputId": "7e37d864-58c7-4715-b853-50fa4e5933b9"
      },
      "source": [
        "# 오버라이딩2\n",
        "\n",
        "class Person:\n",
        "    def greeting(self):\n",
        "        print('안녕하세요.')\n",
        " \n",
        "class Student(Person):\n",
        "    def greeting(self):\n",
        "        super().greeting()       # 기반 클래스의 메서드 호출\n",
        "        print('저는 학생입니다.')    # 중복되는 문구는 삭제\n",
        " \n",
        "james = Student()\n",
        "james.greeting()\n"
      ],
      "execution_count": null,
      "outputs": [
        {
          "output_type": "stream",
          "text": [
            "안녕하세요.\n",
            "저는 학생입니다.\n"
          ],
          "name": "stdout"
        }
      ]
    },
    {
      "cell_type": "code",
      "metadata": {
        "id": "Ttw4tfxXdg25",
        "colab_type": "code",
        "colab": {
          "base_uri": "https://localhost:8080/",
          "height": 298
        },
        "outputId": "540d1b5e-bf9f-41d6-faf6-96e93350b2ba"
      },
      "source": [
        "class Animal():\n",
        "    def __init__(self, name, age, color, speek):\n",
        "        self.__name = name\n",
        "        self.__age = age\n",
        "        self.color = color\n",
        "        self.speek = speek\n",
        "\n",
        "    def getName(self):\n",
        "        print(self.__name)\n",
        "    def bark(self):\n",
        "        print(self.speek, \"!!\", self.__age, \"살 이야.\")\n",
        "    def run(self):\n",
        "        print(\"{}은/는 달리고 있습니다.\".format(self.__name))\n",
        "    def food(self):\n",
        "        print(\"냠냠냠\")\n",
        "    def change_color(self, newColor):\n",
        "        self.color = newColor\n",
        "        print(\"내 털 색은\", self.color, \"이야\")\n",
        "\n",
        "class Fish(Animal):\n",
        "    def __init__(self, name, age, color, speak, meal):\n",
        "        super().__init__(name, age, color, speak)\n",
        "        self.meal = meal\n",
        "    def swimming(self):\n",
        "        print(\"헤엄칩니다.\")\n",
        "    def food(self):\n",
        "        print(\"{}를 좋아합니다. 냠냠\".format(self.meal))\n",
        "    def change_color(self, newColor):\n",
        "        self.color = newColor\n",
        "        print(\"내 비늘 색은\", self.color, \"이야\")\n",
        "\n",
        "class Duck(Animal):\n",
        "    def __init__(self, name, age, color, speak, best_freind_name):\n",
        "        super().__init__(name, age, color, speak)\n",
        "        self.best_freind_name = best_freind_name\n",
        "    def swimming(self):\n",
        "        print(\"수영합니다.\")\n",
        "    def fly(self):\n",
        "        print(\"하늘을 납니다.\")\n",
        "\n",
        "dog = Animal(\"강아지\", 5, \"BLACK\", \"멍멍\")\n",
        "dog.getName()\n",
        "dog.food()\n",
        "dog.change_color(\"Gold\")\n",
        "\n",
        "print()\n",
        "\n",
        "cat = Animal(\"고양이\", 6, \"WHITE\",  \"냐옹\")\n",
        "cat.getName()\n",
        "cat.food()\n",
        "cat.change_color(\"balck\")\n",
        "\n",
        "print()\n",
        "\n",
        "fish = Fish(\"물고기\", 0.6, \"silver\", \"뻐금뻐금\", \"먹이\")\n",
        "fish.getName()\n",
        "fish.food()\n",
        "fish.swimming()\n",
        "fish.change_color(\"blue\")\n",
        "\n",
        "print()\n",
        "\n",
        "duck = Duck(\"오리\", 1.2, \"white\", \"꽥꽥\", \"멍멍이\")\n",
        "duck.getName()\n",
        "duck.swimming()\n",
        "duck.change_color(\"gray\")"
      ],
      "execution_count": null,
      "outputs": [
        {
          "output_type": "stream",
          "text": [
            "강아지\n",
            "냠냠냠\n",
            "내 털 색은 Gold 이야\n",
            "\n",
            "고양이\n",
            "냠냠냠\n",
            "내 털 색은 balck 이야\n",
            "\n",
            "물고기\n",
            "먹이를 좋아합니다. 냠냠\n",
            "헤엄칩니다.\n",
            "내 비늘 색은 blue 이야\n",
            "\n",
            "오리\n",
            "수영합니다.\n",
            "내 털 색은 gray 이야\n"
          ],
          "name": "stdout"
        }
      ]
    },
    {
      "cell_type": "markdown",
      "metadata": {
        "id": "QcEvBDCZt4ZS",
        "colab_type": "text"
      },
      "source": [
        "## 다중 상속"
      ]
    },
    {
      "cell_type": "code",
      "metadata": {
        "id": "sdr4A8e-P6lO",
        "colab_type": "code",
        "colab": {
          "base_uri": "https://localhost:8080/",
          "height": 70
        },
        "outputId": "4e5e51cc-7f6d-4c27-c60c-03931e9c7093"
      },
      "source": [
        "# 다중 상속\n",
        "\n",
        "class Person:\n",
        "    def greeting(self):\n",
        "        print('안녕하세요.')\n",
        " \n",
        "class University:\n",
        "    def manage_credit(self):\n",
        "        print('학점 관리')\n",
        " \n",
        "class Undergraduate(Person, University):\n",
        "    def study(self):\n",
        "        print('공부하기')\n",
        " \n",
        "james = Undergraduate()\n",
        "james.greeting()         # 안녕하세요.: 기반 클래스 Person의 메서드 호출\n",
        "james.manage_credit()    # 학점 관리: 기반 클래스 University의 메서드 호출\n",
        "james.study()            # 공부하기: 파생 클래스 Undergraduate에 추가한 study 메서드\n"
      ],
      "execution_count": null,
      "outputs": [
        {
          "output_type": "stream",
          "text": [
            "안녕하세요.\n",
            "학점 관리\n",
            "공부하기\n"
          ],
          "name": "stdout"
        }
      ]
    },
    {
      "cell_type": "markdown",
      "metadata": {
        "id": "iag7ERI3t7Bu",
        "colab_type": "text"
      },
      "source": [
        "## 다이아몬드 상속"
      ]
    },
    {
      "cell_type": "code",
      "metadata": {
        "id": "T_oYzpHxP-e3",
        "colab_type": "code",
        "colab": {
          "base_uri": "https://localhost:8080/",
          "height": 52
        },
        "outputId": "06ea8219-fbad-4472-c11f-3968e95183b8"
      },
      "source": [
        "# 다이아몬드 상속\n",
        "\n",
        "class A:\n",
        "    def greeting(self):\n",
        "        print('안녕하세요. A입니다.')\n",
        " \n",
        "class B(A):\n",
        "    def greeting(self):\n",
        "        print('안녕하세요. B입니다.')\n",
        " \n",
        "class C(A):\n",
        "    def greeting(self):\n",
        "        print('안녕하세요. C입니다.')\n",
        " \n",
        "class D(B, C):\n",
        "    pass\n",
        "\n",
        "class E(C, B):\n",
        "    pass\n",
        "\n",
        "x = D()\n",
        "x.greeting()    # 안녕하세요. B입니다.\n",
        "\n",
        "y = E()\n",
        "y.greeting()    # 안녕하세요. C입니다."
      ],
      "execution_count": null,
      "outputs": [
        {
          "output_type": "stream",
          "text": [
            "안녕하세요. B입니다.\n",
            "안녕하세요. C입니다.\n"
          ],
          "name": "stdout"
        }
      ]
    },
    {
      "cell_type": "markdown",
      "metadata": {
        "id": "4nEjaVH8t-ta",
        "colab_type": "text"
      },
      "source": [
        "## 포함"
      ]
    },
    {
      "cell_type": "code",
      "metadata": {
        "id": "7zQCtkK6PXqt",
        "colab_type": "code",
        "colab": {}
      },
      "source": [
        "class Person:\n",
        "    def greeting(self):\n",
        "        print('안녕하세요.')\n",
        " \n",
        "class PersonList():\n",
        "    def __init__(self):\n",
        "        self.person_list = []    # 리스트 속성에 Person 인스턴스를 넣어서 관리\n",
        " \n",
        "    def append_person(self, person):    # 리스트 속성에 Person 인스턴스를 추가하는 함수\n",
        "        self.person_list.append(person)\n"
      ],
      "execution_count": null,
      "outputs": []
    }
  ]
}