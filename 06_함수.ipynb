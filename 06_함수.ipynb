{
  "nbformat": 4,
  "nbformat_minor": 0,
  "metadata": {
    "colab": {
      "name": "python_04_함수.ipynb",
      "provenance": [],
      "collapsed_sections": [],
      "mount_file_id": "1_nRhHGe2_FeGsR7sJHLcgergOxAmCZr3",
      "authorship_tag": "ABX9TyOSSl2PvHoWni15UQZleTAC",
      "include_colab_link": true
    },
    "kernelspec": {
      "name": "python3",
      "display_name": "Python 3"
    }
  },
  "cells": [
    {
      "cell_type": "markdown",
      "metadata": {
        "id": "view-in-github",
        "colab_type": "text"
      },
      "source": [
        "<a href=\"https://colab.research.google.com/github/HyoJInNam/Python/blob/master/06_%ED%95%A8%EC%88%98.ipynb\" target=\"_parent\"><img src=\"https://colab.research.google.com/assets/colab-badge.svg\" alt=\"Open In Colab\"/></a>"
      ]
    },
    {
      "cell_type": "markdown",
      "metadata": {
        "id": "cqB6bSPTDPak",
        "colab_type": "text"
      },
      "source": [
        "# 함수\n",
        "어떤 일을 수행하는 코드의 덩어리, 또는 코드의 묶음\n",
        "\n",
        "1. 필요할 때마다 호출 가능\n",
        "2. 논리적인 단위로 분할 가능\n",
        "3. 코드의 캡슐화\n",
        "\n"
      ]
    },
    {
      "cell_type": "markdown",
      "metadata": {
        "id": "S2qqZdvLDZdU",
        "colab_type": "text"
      },
      "source": [
        "## 함수의 선언\n",
        "\n",
        "\n",
        "```\n",
        "def 함수 이름(aoroqustn #1 ...):\n",
        "  수행문 1\n",
        "  수행문 2\n",
        "  return (반환값)\n",
        "```\n",
        "1. def : ‘definition’의 줄임말로, 함수를 정의하여 시작한다는 의미이다.\n",
        "2. 함수 이름 : 함수 이름은 개발자가 마음대로 지정할 수 있지만, 파이썬에서는 일반적으로\n",
        "다음과 같은 규칙을 사용한다. • 소문자로 입력한다. • 띄어쓰기를 할 경우에는 _ 기호를 사용한다. ex) save_model • 행위를 기록하므로 동사와 명사를 함께 사용하는 경우가 많다. ex) find_number\n",
        "• 외부에 공개하는 함수일 경우, 줄임말을 사용하지 않고 짧고 명료한 이름을 정한다.\n",
        "3. 매개변수(parameter) : 함수에서 입력값으로 사용하는 변수를 의미하며, 1개 이상의 값을\n",
        "적을 수 있다.\n",
        "4. 수행문 : 수행문은 반드시 들여쓰기한 후 코드를 입력해야 한다. 수행해야 하는 코드는 일반\n",
        "적으로 작성하는 코드와 같다. if나 for 같은 제어문을 사용할 수도 있고, 고급 프로그래밍을\n",
        "하게 되면 함수 안에 함수를 사용하기도 한다."
      ]
    },
    {
      "cell_type": "code",
      "metadata": {
        "id": "Tcxo77vSEJCk",
        "colab_type": "code",
        "colab": {
          "base_uri": "https://localhost:8080/",
          "height": 70
        },
        "outputId": "11657446-2ca3-4918-bc36-6166269bb89f"
      },
      "source": [
        "def calculate_rectangle_area(x, y):\n",
        "  return x * y\n",
        "  \n",
        "rectangle_x = 10\n",
        "rectangle_y = 20\n",
        "print(\"사각형 x의 길이:\", rectangle_x)\n",
        "print(\"사각형 y의 길이:\", rectangle_y)\n",
        "\n",
        "print(\"사각형의 넓이:\", calculate_rectangle_area(rectangle_x, rectangle_y))"
      ],
      "execution_count": null,
      "outputs": [
        {
          "output_type": "stream",
          "text": [
            "사각형 x의 길이: 10\n",
            "사각형 y의 길이: 20\n",
            "사각형의 넓이: 200\n"
          ],
          "name": "stdout"
        }
      ]
    },
    {
      "cell_type": "markdown",
      "metadata": {
        "id": "pTsF4tI5EZPW",
        "colab_type": "text"
      },
      "source": [
        "** 주의 **"
      ]
    },
    {
      "cell_type": "markdown",
      "metadata": {
        "id": "CT0DLfqKESAa",
        "colab_type": "text"
      },
      "source": [
        "1행의 함수가 정의된 def 부분은 실행하지 않는다. 실행되지 않는 것처럼 보일 뿐, 해당 코\n",
        "드를 메모리에 업로드하여 다른 코드를 호출해 사용할 수 있도록 준비 과정을 거친다. 만\n",
        "약 함수의 선언 부분을 코드의 맨 끝에 둔다면 해당 코드 호출에 오류가 발생할 것이다."
      ]
    },
    {
      "cell_type": "markdown",
      "metadata": {
        "id": "Xj4c5UPJIvL6",
        "colab_type": "text"
      },
      "source": [
        "## 함수의 연산, 계산"
      ]
    },
    {
      "cell_type": "code",
      "metadata": {
        "id": "dipuV3UaEKoR",
        "colab_type": "code",
        "colab": {
          "base_uri": "https://localhost:8080/",
          "height": 122
        },
        "outputId": "476553de-6e0c-4f98-dd27-a5ec1c6c2940"
      },
      "source": [
        "def plus(a, b): return a+b\n",
        "def minus(a, b): return a-b\n",
        "def multiply(a, b): return a*b\n",
        "def division(a, b): return a/b\n",
        "\n",
        "def main(a, b):\n",
        "  print(\"plus result: \", plus(a, b))\n",
        "  print(\"minus result: \", minus(a, b))\n",
        "  print(\"multiply result: \", multiply(a, b))\n",
        "  print(\"division result: \", division(a, b))\n",
        "\n",
        "a = float(input(\"a: \"))\n",
        "b = float(input(\"b: \"))\n",
        "\n",
        "main(a, b)"
      ],
      "execution_count": null,
      "outputs": [
        {
          "output_type": "stream",
          "text": [
            "a: 7\n",
            "b: 2\n",
            "plus result:  9.0\n",
            "minus result:  5.0\n",
            "multiply result:  14.0\n",
            "division result:  3.5\n"
          ],
          "name": "stdout"
        }
      ]
    },
    {
      "cell_type": "markdown",
      "metadata": {
        "id": "XfLYvZSoKDoy",
        "colab_type": "text"
      },
      "source": [
        "## 함수 호출 방식"
      ]
    },
    {
      "cell_type": "code",
      "metadata": {
        "id": "KeFlaMj7KgTB",
        "colab_type": "code",
        "colab": {
          "base_uri": "https://localhost:8080/",
          "height": 257
        },
        "outputId": "93468710-8026-42a8-c16b-343d7a423dc6"
      },
      "source": [
        "def test(t):\n",
        "  print(x)\n",
        "  t = 20\n",
        "  print(\"In Function:\", t)\n",
        "\n",
        "x = 10\n",
        "test(x)\n",
        "print(\"In Main:\", x)\n",
        "print(\"In Main:\", t) # 함수 안에서 생성도니 지역변수 t"
      ],
      "execution_count": null,
      "outputs": [
        {
          "output_type": "stream",
          "text": [
            "10\n",
            "In Function: 20\n",
            "In Main: 10\n"
          ],
          "name": "stdout"
        },
        {
          "output_type": "error",
          "ename": "NameError",
          "evalue": "ignored",
          "traceback": [
            "\u001b[0;31m---------------------------------------------------------------------------\u001b[0m",
            "\u001b[0;31mNameError\u001b[0m                                 Traceback (most recent call last)",
            "\u001b[0;32m<ipython-input-12-011a3021f3de>\u001b[0m in \u001b[0;36m<module>\u001b[0;34m()\u001b[0m\n\u001b[1;32m      7\u001b[0m \u001b[0mtest\u001b[0m\u001b[0;34m(\u001b[0m\u001b[0mx\u001b[0m\u001b[0;34m)\u001b[0m\u001b[0;34m\u001b[0m\u001b[0;34m\u001b[0m\u001b[0m\n\u001b[1;32m      8\u001b[0m \u001b[0mprint\u001b[0m\u001b[0;34m(\u001b[0m\u001b[0;34m\"In Main:\"\u001b[0m\u001b[0;34m,\u001b[0m \u001b[0mx\u001b[0m\u001b[0;34m)\u001b[0m\u001b[0;34m\u001b[0m\u001b[0;34m\u001b[0m\u001b[0m\n\u001b[0;32m----> 9\u001b[0;31m \u001b[0mprint\u001b[0m\u001b[0;34m(\u001b[0m\u001b[0;34m\"In Main:\"\u001b[0m\u001b[0;34m,\u001b[0m \u001b[0mt\u001b[0m\u001b[0;34m)\u001b[0m\u001b[0;34m\u001b[0m\u001b[0;34m\u001b[0m\u001b[0m\n\u001b[0m",
            "\u001b[0;31mNameError\u001b[0m: name 't' is not defined"
          ]
        }
      ]
    },
    {
      "cell_type": "markdown",
      "metadata": {
        "id": "81b0VLBpK02J",
        "colab_type": "text"
      },
      "source": [
        "# 지역변수"
      ]
    },
    {
      "cell_type": "code",
      "metadata": {
        "id": "RwUcb33cH-fe",
        "colab_type": "code",
        "colab": {
          "base_uri": "https://localhost:8080/",
          "height": 52
        },
        "outputId": "b0f64fc0-17f3-4d94-ead0-eb5561677766"
      },
      "source": [
        "def spam(eggs):\n",
        "  eggs.append(1)\n",
        "\n",
        "\n",
        "  eggs = [2, 3] # 함수 안에 있음~\n",
        "\n",
        "ham = [0]\n",
        "print(ham)\n",
        "spam(ham)\n",
        "print(ham)"
      ],
      "execution_count": null,
      "outputs": [
        {
          "output_type": "stream",
          "text": [
            "[0]\n",
            "[0, 1]\n"
          ],
          "name": "stdout"
        }
      ]
    },
    {
      "cell_type": "code",
      "metadata": {
        "id": "I2UGiR8tK5cR",
        "colab_type": "code",
        "colab": {
          "base_uri": "https://localhost:8080/",
          "height": 52
        },
        "outputId": "c70b5f9d-d5f4-47e4-ba72-be0720a35592"
      },
      "source": [
        "def f():\n",
        "  s = \"I love London!\"\n",
        "\n",
        "s = \"I love Paris!\"\n",
        "\n",
        "print(s)\n",
        "f()\n",
        "print(s)"
      ],
      "execution_count": null,
      "outputs": [
        {
          "output_type": "stream",
          "text": [
            "I love Paris!\n",
            "I love Paris!\n"
          ],
          "name": "stdout"
        }
      ]
    },
    {
      "cell_type": "markdown",
      "metadata": {
        "id": "SedQ3D7oLUkw",
        "colab_type": "text"
      },
      "source": [
        "# 전역변수"
      ]
    },
    {
      "cell_type": "code",
      "metadata": {
        "id": "DtFhTeFxKM5f",
        "colab_type": "code",
        "colab": {
          "base_uri": "https://localhost:8080/",
          "height": 70
        },
        "outputId": "2038d74c-5c8c-41d8-b80f-98e54b7b30f2"
      },
      "source": [
        "def f():\n",
        "  global s\n",
        "  s = \"I love London!\"\n",
        "\n",
        "s = \"I love Paris!\"\n",
        "print(s)\n",
        "f()\n",
        "print(s)"
      ],
      "execution_count": null,
      "outputs": [
        {
          "output_type": "stream",
          "text": [
            "I love Paris!\n",
            "I love London!\n",
            "I love London!\n"
          ],
          "name": "stdout"
        }
      ]
    },
    {
      "cell_type": "code",
      "metadata": {
        "id": "WZMCEeEyQwir",
        "colab_type": "code",
        "colab": {}
      },
      "source": [
        ""
      ],
      "execution_count": null,
      "outputs": []
    },
    {
      "cell_type": "code",
      "metadata": {
        "id": "WQVfi2aFKtMJ",
        "colab_type": "code",
        "colab": {
          "base_uri": "https://localhost:8080/",
          "height": 122
        },
        "outputId": "974d63af-da21-49c4-d243-7f35b542b1ba"
      },
      "source": [
        "def calculate(x, y):\n",
        "  total = x + y\n",
        "  print(\"In Function\")\n",
        "  print(\"a:\", str(a), \"b:\", str(b), \"a+b:\", str(a+b), \"total:\", str(total))\n",
        "  return total\n",
        "\n",
        "a = 5\n",
        "b = 7\n",
        "total = 0\n",
        "print(\"In Program -1\")\n",
        "print(\"a:\", str(a), \"b:\", str(b), \"a+b:\", str(a+b))\n",
        "\n",
        "sum = calculate(a, b)\n",
        "print(\"After Calculation\")\n",
        "print(\"total:\", str(total), \"sum:\", str(sum))"
      ],
      "execution_count": null,
      "outputs": [
        {
          "output_type": "stream",
          "text": [
            "In Program -1\n",
            "a: 5 b: 7 a+b: 12\n",
            "In Function\n",
            "a: 5 b: 7 a+b: 12 total: 12\n",
            "After Calculation\n",
            "total: 0 sum: 12\n"
          ],
          "name": "stdout"
        }
      ]
    },
    {
      "cell_type": "markdown",
      "metadata": {
        "id": "J3QwwDxBN_Xl",
        "colab_type": "text"
      },
      "source": [
        "# 재귀함수"
      ]
    },
    {
      "cell_type": "code",
      "metadata": {
        "id": "0Yn8TVypNvxj",
        "colab_type": "code",
        "colab": {
          "base_uri": "https://localhost:8080/",
          "height": 52
        },
        "outputId": "233035f2-d1ba-45af-b8b8-4aff63c344ac"
      },
      "source": [
        "def factorial(n):\n",
        "  if n == 1: return 1\n",
        "  else: return n * factorial(n-1)\n",
        "print(factorial(int(input(\"Input Number for Factorial Calculation: \"))))"
      ],
      "execution_count": null,
      "outputs": [
        {
          "output_type": "stream",
          "text": [
            "Input Number for Factorial Calculation: 5\n",
            "120\n"
          ],
          "name": "stdout"
        }
      ]
    },
    {
      "cell_type": "markdown",
      "metadata": {
        "id": "UswThIFYOUA-",
        "colab_type": "text"
      },
      "source": [
        "# 함수의 인수\n",
        "1. 키워드 인수\n",
        "함수에 입력되는 매개변수의 변수명을 사용하여 함수의 인수를 지정하는 방법이다.\n"
      ]
    },
    {
      "cell_type": "code",
      "metadata": {
        "id": "zPCOqydMQYJZ",
        "colab_type": "code",
        "colab": {
          "base_uri": "https://localhost:8080/",
          "height": 52
        },
        "outputId": "9a7bfba2-3221-4f5a-a6e7-7cedb9ce0092"
      },
      "source": [
        "def print_somthing(my_name, your_name):\n",
        "  print(\"Hello {0}, my name is {1}\".format(your_name, my_name))\n",
        "print_somthing(\"Sungchul\", \"TEAMLAB\")\n",
        "print_somthing(your_name = \"TEAMLAB\", my_name = \"Sungchul\")"
      ],
      "execution_count": null,
      "outputs": [
        {
          "output_type": "stream",
          "text": [
            "Hello TEAMLAB, my name is Sungchul\n",
            "Hello TEAMLAB, my name is Sungchul\n"
          ],
          "name": "stdout"
        }
      ]
    },
    {
      "cell_type": "markdown",
      "metadata": {
        "id": "g4jZfpNWQZ92",
        "colab_type": "text"
      },
      "source": [
        "2. 디폴트 인수\n",
        "매개변수에 기본값을 지정하여 사용하고, 아무런 값도 인수로 넘기지 않으면 지정된 기본값을 사용하는 방식이다"
      ]
    },
    {
      "cell_type": "code",
      "metadata": {
        "id": "MW5j8wvgQfe-",
        "colab_type": "code",
        "colab": {
          "base_uri": "https://localhost:8080/",
          "height": 52
        },
        "outputId": "8adfb6f9-dc40-4af7-cb70-1d9b0a86beda"
      },
      "source": [
        "def print_somthing2(my_name, your_name = \"TEAMLAB\"):\n",
        "  print(\"Hello {0}, my name is {1}\".format(your_name, my_name))\n",
        "print_somthing2(\"Sungchul\", \"TEAMLAB\")\n",
        "print_somthing2(\"Sungchul\")"
      ],
      "execution_count": null,
      "outputs": [
        {
          "output_type": "stream",
          "text": [
            "Hello TEAMLAB, my name is Sungchul\n",
            "Hello TEAMLAB, my name is Sungchul\n"
          ],
          "name": "stdout"
        }
      ]
    },
    {
      "cell_type": "markdown",
      "metadata": {
        "id": "UfEm6AfpQdHw",
        "colab_type": "text"
      },
      "source": [
        "3. 가변 인수\n",
        "함수의 매개변수 개수가 정해지지 않고 진행해야 하는 경우가 있다. 이때 사용하는 것이 바로 가변 인수(variable-length arguments)이다.\n",
        "  * 가변 인수는 *(asterisk라고 부름)로 표현할 수 있는데, *는 파이썬에서 기본적으로 곱셈 또는 제곱 연산 외에도 변수를 묶어 주는 가변 인수를 만든다"
      ]
    },
    {
      "cell_type": "code",
      "metadata": {
        "id": "rQOgRCOGQqMF",
        "colab_type": "code",
        "colab": {
          "base_uri": "https://localhost:8080/",
          "height": 52
        },
        "outputId": "3431da53-88ef-49d1-f693-bde4fd50fded"
      },
      "source": [
        "def asterisk_test(a, b, *args):\n",
        "  print(args) #튜플\n",
        "print(asterisk_test(1, 2, 3, 4, 5))"
      ],
      "execution_count": null,
      "outputs": [
        {
          "output_type": "stream",
          "text": [
            "(3, 4, 5)\n",
            "None\n"
          ],
          "name": "stdout"
        }
      ]
    },
    {
      "cell_type": "code",
      "metadata": {
        "id": "eiIXUu3fRGGY",
        "colab_type": "code",
        "colab": {
          "base_uri": "https://localhost:8080/",
          "height": 52
        },
        "outputId": "4dcbe65d-94d3-4e49-b6b0-8cb0256f5c8b"
      },
      "source": [
        "def asterisk_test2(*args):\n",
        "  x, y, *z = args\n",
        "  return x, y, z\n",
        "print(asterisk_test2(3, 4, 5))"
      ],
      "execution_count": null,
      "outputs": [
        {
          "output_type": "stream",
          "text": [
            "(3, 4, [5])\n",
            "(3, 4, [5, 10, 20])\n"
          ],
          "name": "stdout"
        }
      ]
    },
    {
      "cell_type": "markdown",
      "metadata": {
        "id": "KDdawgUhRmSQ",
        "colab_type": "text"
      },
      "source": [
        "*  튜플은 소괄호\n",
        "*  튜플 값을 바꾸려고 하면 오류남\n",
        "\n"
      ]
    },
    {
      "cell_type": "code",
      "metadata": {
        "id": "QQ-1I1JORsrB",
        "colab_type": "code",
        "colab": {
          "base_uri": "https://localhost:8080/",
          "height": 34
        },
        "outputId": "f648f65f-b0f1-45cc-e35d-ae1b0c379c5f"
      },
      "source": [
        "def asterisk_test2(*args):\n",
        "  x, y, *z = args\n",
        "  return x, y, z\n",
        "print(asterisk_test2(3, 4, 5, 10, 20))"
      ],
      "execution_count": null,
      "outputs": [
        {
          "output_type": "stream",
          "text": [
            "(3, 4, [5, 10, 20])\n"
          ],
          "name": "stdout"
        }
      ]
    },
    {
      "cell_type": "code",
      "metadata": {
        "id": "Uo1ufhltRxng",
        "colab_type": "code",
        "colab": {
          "base_uri": "https://localhost:8080/",
          "height": 310
        },
        "outputId": "24a61ae0-db8f-4030-83ed-3a433ba96c7f"
      },
      "source": [
        "def asterisk_test2(*args):\n",
        "  x, y, z = args #error: 언패킹의 개수가 맞지 않음\n",
        "  return x, y, z\n",
        "print(asterisk_test2(3, 4, 5, 10, 20))"
      ],
      "execution_count": null,
      "outputs": [
        {
          "output_type": "error",
          "ename": "ValueError",
          "evalue": "ignored",
          "traceback": [
            "\u001b[0;31m---------------------------------------------------------------------------\u001b[0m",
            "\u001b[0;31mValueError\u001b[0m                                Traceback (most recent call last)",
            "\u001b[0;32m<ipython-input-29-4f69ea41e956>\u001b[0m in \u001b[0;36m<module>\u001b[0;34m()\u001b[0m\n\u001b[1;32m      2\u001b[0m   \u001b[0mx\u001b[0m\u001b[0;34m,\u001b[0m \u001b[0my\u001b[0m\u001b[0;34m,\u001b[0m \u001b[0mz\u001b[0m \u001b[0;34m=\u001b[0m \u001b[0margs\u001b[0m \u001b[0;31m#error: 언패킹의 개수가 맞지 않음\u001b[0m\u001b[0;34m\u001b[0m\u001b[0;34m\u001b[0m\u001b[0m\n\u001b[1;32m      3\u001b[0m   \u001b[0;32mreturn\u001b[0m \u001b[0mx\u001b[0m\u001b[0;34m,\u001b[0m \u001b[0my\u001b[0m\u001b[0;34m,\u001b[0m \u001b[0mz\u001b[0m\u001b[0;34m\u001b[0m\u001b[0;34m\u001b[0m\u001b[0m\n\u001b[0;32m----> 4\u001b[0;31m \u001b[0mprint\u001b[0m\u001b[0;34m(\u001b[0m\u001b[0masterisk_test2\u001b[0m\u001b[0;34m(\u001b[0m\u001b[0;36m3\u001b[0m\u001b[0;34m,\u001b[0m \u001b[0;36m4\u001b[0m\u001b[0;34m,\u001b[0m \u001b[0;36m5\u001b[0m\u001b[0;34m,\u001b[0m \u001b[0;36m10\u001b[0m\u001b[0;34m,\u001b[0m \u001b[0;36m20\u001b[0m\u001b[0;34m)\u001b[0m\u001b[0;34m)\u001b[0m\u001b[0;34m\u001b[0m\u001b[0;34m\u001b[0m\u001b[0m\n\u001b[0m",
            "\u001b[0;32m<ipython-input-29-4f69ea41e956>\u001b[0m in \u001b[0;36masterisk_test2\u001b[0;34m(*args)\u001b[0m\n\u001b[1;32m      1\u001b[0m \u001b[0;32mdef\u001b[0m \u001b[0masterisk_test2\u001b[0m\u001b[0;34m(\u001b[0m\u001b[0;34m*\u001b[0m\u001b[0margs\u001b[0m\u001b[0;34m)\u001b[0m\u001b[0;34m:\u001b[0m\u001b[0;34m\u001b[0m\u001b[0;34m\u001b[0m\u001b[0m\n\u001b[0;32m----> 2\u001b[0;31m   \u001b[0mx\u001b[0m\u001b[0;34m,\u001b[0m \u001b[0my\u001b[0m\u001b[0;34m,\u001b[0m \u001b[0mz\u001b[0m \u001b[0;34m=\u001b[0m \u001b[0margs\u001b[0m \u001b[0;31m#error: 언패킹의 개수가 맞지 않음\u001b[0m\u001b[0;34m\u001b[0m\u001b[0;34m\u001b[0m\u001b[0m\n\u001b[0m\u001b[1;32m      3\u001b[0m   \u001b[0;32mreturn\u001b[0m \u001b[0mx\u001b[0m\u001b[0;34m,\u001b[0m \u001b[0my\u001b[0m\u001b[0;34m,\u001b[0m \u001b[0mz\u001b[0m\u001b[0;34m\u001b[0m\u001b[0;34m\u001b[0m\u001b[0m\n\u001b[1;32m      4\u001b[0m \u001b[0mprint\u001b[0m\u001b[0;34m(\u001b[0m\u001b[0masterisk_test2\u001b[0m\u001b[0;34m(\u001b[0m\u001b[0;36m3\u001b[0m\u001b[0;34m,\u001b[0m \u001b[0;36m4\u001b[0m\u001b[0;34m,\u001b[0m \u001b[0;36m5\u001b[0m\u001b[0;34m,\u001b[0m \u001b[0;36m10\u001b[0m\u001b[0;34m,\u001b[0m \u001b[0;36m20\u001b[0m\u001b[0;34m)\u001b[0m\u001b[0;34m)\u001b[0m\u001b[0;34m\u001b[0m\u001b[0;34m\u001b[0m\u001b[0m\n",
            "\u001b[0;31mValueError\u001b[0m: too many values to unpack (expected 3)"
          ]
        }
      ]
    },
    {
      "cell_type": "markdown",
      "metadata": {
        "id": "YmTDcSmIQnLi",
        "colab_type": "text"
      },
      "source": [
        "4. 키워드 가변 인수\n",
        "  * 키워드 가변 인수(keyword variable-length arguments)는 매개변수의 이름을 따로 지정하지\n",
        "않고 입력하는 방법으로, 이전 가변 인수와는 달리 *를 2개 사용하여 함수의 매개변수를 표시\n",
        "한다. \n",
        "  * 입력된 값은 튜플 자료형이 아닌 **딕셔너리 자료형(dictionary type)**으로 사용할 수 있다.\n",
        "  * 키워드 가변 인수는 반드시 모든 매개변수의 맨 마지막, 즉 가변 인수 다음에 선언되어야 한다"
      ]
    },
    {
      "cell_type": "code",
      "metadata": {
        "id": "iXutIJqlONQk",
        "colab_type": "code",
        "colab": {
          "base_uri": "https://localhost:8080/",
          "height": 105
        },
        "outputId": "eb708988-4f1e-45fd-cc84-8a7460383d9e"
      },
      "source": [
        "def kwargs_test(**kwargs):\n",
        "  print(kwargs)\n",
        "  print(kwargs['first'],kwargs['second'], kwargs['third'])\n",
        "  print(\"First value is {first}\".format(**kwargs))\n",
        "  print(\"Second value is {}\\nThird value is {}\".format(kwargs['second'],kwargs['third']))\n",
        "kwargs_test(first = 3, second = 4, third = 5)"
      ],
      "execution_count": null,
      "outputs": [
        {
          "output_type": "stream",
          "text": [
            "{'first': 3, 'second': 4, 'third': 5}\n",
            "3 4 5\n",
            "First value is 3\n",
            "Second value is 4\n",
            "Third value is 5\n"
          ],
          "name": "stdout"
        }
      ]
    },
    {
      "cell_type": "code",
      "metadata": {
        "id": "Qh_Al2ezSE-1",
        "colab_type": "code",
        "colab": {
          "base_uri": "https://localhost:8080/",
          "height": 105
        },
        "outputId": "96392341-6869-44cb-cc52-361cdffbde8e"
      },
      "source": [
        "def kwargs_test2(one, two, *args, **kwargs):\n",
        "  print(\" one = {0}, two = {1}, *args = {2}\".format(one, two, args))\n",
        "  print(\"**kwargs = {0}\".format(kwargs))\n",
        "  print(\"First value is {first}\".format(**kwargs))\n",
        "  print(\"Second value is {second}\".format(**kwargs))\n",
        "  print(\"Third value is {third}\".format(**kwargs))\n",
        "kwargs_test2(3, 4, 5, 6, 7, 8, 9, first = 3, second = 4, third = 5)"
      ],
      "execution_count": null,
      "outputs": [
        {
          "output_type": "stream",
          "text": [
            " one = 3, two = 4, *args = (5, 6, 7, 8, 9)\n",
            "**kwargs = {'first': 3, 'second': 4, 'third': 5}\n",
            "First value is 3\n",
            "Second value is 4\n",
            "Third value is 5\n"
          ],
          "name": "stdout"
        }
      ]
    },
    {
      "cell_type": "markdown",
      "metadata": {
        "id": "otvXKaiPS4o0",
        "colab_type": "text"
      },
      "source": [
        "3, 4는 각각 one, two에 할당되고,\n",
        "나머지 5, 6, 7, 8, 9는 args에,\n",
        "first = 3, second = 4, third = 5는 딕셔너리형으로 kwargs에 저장된다."
      ]
    }
  ]
}