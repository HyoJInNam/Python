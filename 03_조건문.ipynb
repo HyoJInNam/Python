{
  "nbformat": 4,
  "nbformat_minor": 0,
  "metadata": {
    "colab": {
      "name": "python_03_조건문.ipynb",
      "provenance": [],
      "collapsed_sections": [],
      "authorship_tag": "ABX9TyPRpDluTqDWOEsNLn9u2f8n",
      "include_colab_link": true
    },
    "kernelspec": {
      "name": "python3",
      "display_name": "Python 3"
    }
  },
  "cells": [
    {
      "cell_type": "markdown",
      "metadata": {
        "id": "view-in-github",
        "colab_type": "text"
      },
      "source": [
        "<a href=\"https://colab.research.google.com/github/HyoJInNam/Python/blob/master/03_%EC%A1%B0%EA%B1%B4%EB%AC%B8.ipynb\" target=\"_parent\"><img src=\"https://colab.research.google.com/assets/colab-badge.svg\" alt=\"Open In Colab\"/></a>"
      ]
    },
    {
      "cell_type": "markdown",
      "metadata": {
        "id": "n0PXqE7pyEXM",
        "colab_type": "text"
      },
      "source": [
        "# **조건문**\n",
        "\n",
        "```\n",
        "if~~:\n",
        "    들여쓰기 필수\n",
        "elif~~:\n",
        "    들여쓰기 필수\n",
        "else:\n",
        "    들여쓰기 필수\n",
        "```\n",
        "\n"
      ]
    },
    {
      "cell_type": "code",
      "metadata": {
        "id": "K1mgMrR6x-iv",
        "colab_type": "code",
        "colab": {
          "base_uri": "https://localhost:8080/",
          "height": 70
        },
        "outputId": "a0d6d615-0b6f-4585-91a8-88983d9477d1"
      },
      "source": [
        "print(\"Tell me your age?\")\n",
        "myage = int(input())\n",
        "if myage < 30:\n",
        "  print(\"Welcome to the Club.\")\n",
        "else:\n",
        "  print(\"Oh!No. you are not accepted.\")\n"
      ],
      "execution_count": null,
      "outputs": [
        {
          "output_type": "stream",
          "text": [
            "Tell me your age?\n",
            "24\n",
            "Welcome to the Club.\n"
          ],
          "name": "stdout"
        }
      ]
    },
    {
      "cell_type": "markdown",
      "metadata": {
        "id": "k7N6u3DfyNCL",
        "colab_type": "text"
      },
      "source": [
        "### 비교 연산자\n",
        "```\n",
        "x < y\n",
        "x <= y\n",
        "x >= y\n",
        "x > y\n",
        "x == y\n",
        "x is y\n",
        "x != y\n",
        "x is not y\n",
        "```"
      ]
    },
    {
      "cell_type": "markdown",
      "metadata": {
        "id": "sZn-cKSSanRM",
        "colab_type": "text"
      },
      "source": [
        "## 논리 연산자\n",
        "\n",
        "```\n",
        " and\n",
        " or\n",
        " not\n",
        "```"
      ]
    },
    {
      "cell_type": "code",
      "metadata": {
        "id": "-aSF-i_GyPTu",
        "colab_type": "code",
        "colab": {
          "base_uri": "https://localhost:8080/",
          "height": 34
        },
        "outputId": "5c5f0367-17e4-47a2-d1f6-9d2e3d178a78"
      },
      "source": [
        "score = int(input(\"Enter your score: \"))\n",
        "if(score >= 90): grade = 'A'\n",
        "elif(score >= 80): grade = 'B'\n",
        "elif(score >= 70): grade = 'C'\n",
        "elif(score >= 60): grade = 'D'\n",
        "else:  grade = 'F'"
      ],
      "execution_count": null,
      "outputs": [
        {
          "output_type": "stream",
          "text": [
            "Enter your score: 50\n"
          ],
          "name": "stdout"
        }
      ]
    },
    {
      "cell_type": "code",
      "metadata": {
        "id": "GsZdiWlyyRR2",
        "colab_type": "code",
        "colab": {
          "base_uri": "https://localhost:8080/",
          "height": 52
        },
        "outputId": "b27fbe28-9f1d-48e5-f086-eccdb5740833"
      },
      "source": [
        "score = int(input(\"Enter your score: \"))\n",
        "grade = ['F', 'D', 'C', 'B', 'A']\n",
        "print(grade[int(score/10 - 5)])"
      ],
      "execution_count": null,
      "outputs": [
        {
          "output_type": "stream",
          "text": [
            "Enter your score: 40\n",
            "A\n"
          ],
          "name": "stdout"
        }
      ]
    },
    {
      "cell_type": "code",
      "metadata": {
        "id": "IT_c7VncySv0",
        "colab_type": "code",
        "colab": {
          "base_uri": "https://localhost:8080/",
          "height": 52
        },
        "outputId": "d96f497a-9f5e-4ab1-81fd-954dd456da5a"
      },
      "source": [
        "age = 2020 - int(input(\"Enter age: \")) + 1\n",
        "if(age <= 26 & age >= 20): print(\"대학생\")\n",
        "elif(age < 20 & age >= 17): print(\"고등학생\")\n",
        "elif(age < 17 & age >= 14): print(\"고등학생\")\n",
        "elif(age < 14 & age >= 8): print(\"고등학생\")\n",
        "else: print(\"학생이 아닙니다.\")"
      ],
      "execution_count": null,
      "outputs": [
        {
          "output_type": "stream",
          "text": [
            "Enter age: 1997\n",
            "대학생\n"
          ],
          "name": "stdout"
        }
      ]
    },
    {
      "cell_type": "code",
      "metadata": {
        "id": "GuMOcChjyURN",
        "colab_type": "code",
        "colab": {
          "base_uri": "https://localhost:8080/",
          "height": 52
        },
        "outputId": "d9fa9132-010e-4e95-af21-8c0a2f38ecba"
      },
      "source": [
        "age = 2020 - int(input(\"Enter age: \")) + 1\n",
        "if(age > 26): print(\"학생이 아닙니다.\")\n",
        "elif(age >= 20): print(\"대학생\")\n",
        "elif(age >= 17): print(\"고등학생\")\n",
        "elif(age >= 14): print(\"고등학생\")\n",
        "elif(age >= 8): print(\"고등학생\")"
      ],
      "execution_count": null,
      "outputs": [
        {
          "output_type": "stream",
          "text": [
            "Enter age: 1997\n",
            "대학생\n"
          ],
          "name": "stdout"
        }
      ]
    },
    {
      "cell_type": "markdown",
      "metadata": {
        "id": "8SohY_lgCFW4",
        "colab_type": "text"
      },
      "source": [
        "# 삼항 연산자\n",
        "참인경우 값 if 조건 else 거짓인경우 값"
      ]
    },
    {
      "cell_type": "code",
      "metadata": {
        "id": "DWQofnyazb6K",
        "colab_type": "code",
        "colab": {}
      },
      "source": [
        "print(\"True는 참\" if True else \"True는 거짓\")\n",
        "print(\"False는 참\" if False else \"False는 거짓\")"
      ],
      "execution_count": null,
      "outputs": []
    },
    {
      "cell_type": "code",
      "metadata": {
        "id": "qY76eo3cCJ6A",
        "colab_type": "code",
        "colab": {
          "base_uri": "https://localhost:8080/",
          "height": 52
        },
        "outputId": "a910aed8-186e-4801-aa6c-30a1c7b9bca9"
      },
      "source": [
        "year = 2000;\n",
        "isLeapYear = year%400==0 or year%4==0 and year%100\n",
        "print('{0}년은 \"{1}\"입니다.'.format(year,'윤년' if isLeapYear else '평년'))\n",
        "print('{0}년은 \"{1}\"년입니다.'.format(year,'홀수' if year%2 else '짝수'))"
      ],
      "execution_count": null,
      "outputs": [
        {
          "output_type": "stream",
          "text": [
            "2000년은 \"윤년\"입니다.\n",
            "2000년은 \"짝수\"년입니다.\n"
          ],
          "name": "stdout"
        }
      ]
    },
    {
      "cell_type": "markdown",
      "metadata": {
        "id": "i9uGiYGSCUYI",
        "colab_type": "text"
      },
      "source": [
        "내가 입력한 숫자는 홀수일까? 짝수일까?"
      ]
    },
    {
      "cell_type": "code",
      "metadata": {
        "id": "H3aTGpUeCMAI",
        "colab_type": "code",
        "colab": {
          "base_uri": "https://localhost:8080/",
          "height": 105
        },
        "outputId": "049980b5-b91a-44b1-dc13-73e1c9fd9656"
      },
      "source": [
        "while True:\n",
        "    num = int(input(\"숫자입력(0은 종료) : \"))\n",
        "    if num == 0:\n",
        "        break\n",
        "    print(\"짝수\" if num % 2 == 0 else \"홀수\")\n",
        "    print(\"홀수\" if num % 2 != 0 else \"짝수\")\n",
        "    print(\"홀수\" if num % 2 else \"짝수\")"
      ],
      "execution_count": null,
      "outputs": [
        {
          "output_type": "stream",
          "text": [
            "숫자입력(0은 종료) : 5\n",
            "홀수\n",
            "홀수\n",
            "홀수\n",
            "숫자입력(0은 종료) : 0\n"
          ],
          "name": "stdout"
        }
      ]
    },
    {
      "cell_type": "markdown",
      "metadata": {
        "id": "qQsMO_h3CTR2",
        "colab_type": "text"
      },
      "source": [
        "년도와 월을 입력받아 월을 마지막 날짜 구하기"
      ]
    },
    {
      "cell_type": "code",
      "metadata": {
        "id": "8Mpyav8vCOiG",
        "colab_type": "code",
        "colab": {}
      },
      "source": [
        "while True:\n",
        "    year = int(input('년도을 입력하시오(0은 종료)'))\n",
        "    if not year:\n",
        "        break\n",
        "    month = int(input('월을 입력하시오(0은종료)'))\n",
        "    if not month:\n",
        "        break\n",
        "\n",
        "    last_day = (29 if year % 400 == 0 or year % 4 == 0 and year % 100 else 28) \\ \n",
        "              if (month==2) else (30 if month%2 else 31) \\\n",
        "              if (month>=8) else (31 if month%2 else 30)\n",
        "\n",
        "    print('{0}년 {1}월의 마지막 날짜는 {2}일 입니다.'.format(year,month,last_day))"
      ],
      "execution_count": null,
      "outputs": []
    }
  ]
}