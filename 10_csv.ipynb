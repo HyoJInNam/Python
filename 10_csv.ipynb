{
  "nbformat": 4,
  "nbformat_minor": 0,
  "metadata": {
    "colab": {
      "name": "python_08_csv.ipynb",
      "provenance": [],
      "collapsed_sections": [],
      "include_colab_link": true
    },
    "kernelspec": {
      "name": "python3",
      "display_name": "Python 3"
    }
  },
  "cells": [
    {
      "cell_type": "markdown",
      "metadata": {
        "id": "view-in-github",
        "colab_type": "text"
      },
      "source": [
        "<a href=\"https://colab.research.google.com/github/HyoJInNam/Python/blob/master/10_csv.ipynb\" target=\"_parent\"><img src=\"https://colab.research.google.com/assets/colab-badge.svg\" alt=\"Open In Colab\"/></a>"
      ]
    },
    {
      "cell_type": "markdown",
      "metadata": {
        "id": "0M_67minYzoB",
        "colab_type": "text"
      },
      "source": [
        "## CSV 파일"
      ]
    },
    {
      "cell_type": "code",
      "metadata": {
        "id": "EYGIUjwRXy3S",
        "colab_type": "code",
        "colab": {
          "base_uri": "https://localhost:8080/",
          "height": 34
        },
        "outputId": "c0d2af93-e875-4395-fe2a-fb0ae3772cde"
      },
      "source": [
        "from google.colab import drive\n",
        "drive.mount('/content/drive')"
      ],
      "execution_count": null,
      "outputs": [
        {
          "output_type": "stream",
          "text": [
            "Drive already mounted at /content/drive; to attempt to forcibly remount, call drive.mount(\"/content/drive\", force_remount=True).\n"
          ],
          "name": "stdout"
        }
      ]
    },
    {
      "cell_type": "code",
      "metadata": {
        "id": "GTPw0guqUTFX",
        "colab_type": "code",
        "colab": {}
      },
      "source": [
        "file = \"/content/drive/My Drive/Colab Notebooks/python/Data/\""
      ],
      "execution_count": null,
      "outputs": []
    },
    {
      "cell_type": "code",
      "metadata": {
        "id": "_ba4ZHRfZLX4",
        "colab_type": "code",
        "colab": {
          "resources": {
            "http://localhost:8080/nbextensions/google.colab/files.js": {
              "data": "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",
              "ok": true,
              "headers": [
                [
                  "content-type",
                  "application/javascript"
                ]
              ],
              "status": 200,
              "status_text": ""
            }
          },
          "base_uri": "https://localhost:8080/",
          "height": 110
        },
        "outputId": "4ca5388a-eefe-4954-8161-c18882080c4b"
      },
      "source": [
        "from google.colab import files\n",
        "uploaded = files.upload()\n",
        "\n",
        "for fn in uploaded.keys():\n",
        "  print(\"uploaded file {} with lengh {} bytes\".format(fn, len(uploaded[fn])))"
      ],
      "execution_count": null,
      "outputs": [
        {
          "output_type": "display_data",
          "data": {
            "text/html": [
              "\n",
              "     <input type=\"file\" id=\"files-6bd3e303-3e06-45c9-b29c-c059bb77222d\" name=\"files[]\" multiple disabled\n",
              "        style=\"border:none\" />\n",
              "     <output id=\"result-6bd3e303-3e06-45c9-b29c-c059bb77222d\">\n",
              "      Upload widget is only available when the cell has been executed in the\n",
              "      current browser session. Please rerun this cell to enable.\n",
              "      </output>\n",
              "      <script src=\"/nbextensions/google.colab/files.js\"></script> "
            ],
            "text/plain": [
              "<IPython.core.display.HTML object>"
            ]
          },
          "metadata": {
            "tags": []
          }
        },
        {
          "output_type": "stream",
          "text": [
            "Saving csv 파일 만들기.csv to csv 파일 만들기.csv\n",
            "uploaded file csv 파일 만들기.csv with lengh 2977267 bytes\n"
          ],
          "name": "stdout"
        }
      ]
    },
    {
      "cell_type": "code",
      "metadata": {
        "id": "R1-CKk6aYp50",
        "colab_type": "code",
        "colab": {
          "base_uri": "https://localhost:8080/",
          "height": 248
        },
        "outputId": "1c4b0da4-580d-47ea-8460-733d3da493a7"
      },
      "source": [
        "line_counter = 0            # 파일의 총 줄 수를 세는 변수\n",
        "data_header = [ ]           # 데이터의 필드값을 저장하는 리스트\n",
        "customer_list = [ ]         # customer의 개별 리스트를 저장하는 리스트\n",
        "\n",
        "with open(file + \"csv 파일 만들기.csv\", 'r',  encoding = 'cp949') as customer_data: # customers.csv 파일을 customer_data 객체에 저장\n",
        "    while True:\n",
        "        data = customer_data.readline()     # customers.csv에 데이터 변수에 한 줄씩 저장\n",
        "        if not data:\n",
        "            break                           # 데이터가 없을 때, 반복문 종료\n",
        "        if line_counter == 0:               # 첫 번째 데이터는 데이터의 필드\n",
        "            data_header = data.split(\",\")   # 데이터의 필드는 data_header 리스트에 저장, 데이터 저장 시 \",\"로 분리\n",
        "        else:\n",
        "            customer_list.append(data.split(\",\")) # 일반 데이터는 customer_list 객체에 저장, 데이터 저장 시 “,”로 분리\n",
        "        line_counter +=1\n",
        "\n",
        "print(\"Header:\", data_header)               # 데이터 필드값 출력\n",
        "for i in range(0, 10):                      # 데이터 출력(샘플 10개만)\n",
        "    print(\"Data\",i,\":\",customer_list[i])\n",
        "print(len(customer_list))                   # 전체 데이터 크기 출력\n"
      ],
      "execution_count": null,
      "outputs": [
        {
          "output_type": "stream",
          "text": [
            "Header: ['조사번호', '조사지역', '주구분', '조사일자', '시간대', 'X좌표', 'Y좌표', '행정구역명', '날씨', '남자10대', '남자20대', '남자30대', '남자40대', '남자50대', '여자10대', '여자20대', '여자30대', '여자40대', '여자50대\\n']\n",
            "Data 0 : ['2544', '신촌네거리 계룡건설 사옥 농협 앞', '주중', '2010-06-21', '12시~13시까지', '343099', '417482', '대전광역시 서구 월평동', '맑음', '2', '24', '68', '50', '31', '4', '37', '64', '44', '26\\n']\n",
            "Data 1 : ['2544', '신촌네거리 계룡건설 사옥 농협 앞', '주중', '2010-06-21', '19시~20시까지', '343099', '417482', '대전광역시 서구 월평동', '맑음', '19', '44', '28', '33', '21', '14', '56', '49', '43', '18\\n']\n",
            "Data 2 : ['2544', '신촌네거리 계룡건설 사옥 농협 앞', '주말', '2010-06-20', '12시~13시까지', '343099', '417482', '대전광역시 서구 월평동', '흐림', '13', '33', '34', '61', '55', '13', '32', '29', '28', '12\\n']\n",
            "Data 3 : ['2544', '신촌네거리 계룡건설 사옥 농협 앞', '주말', '2010-06-20', '19시~20시까지', '343099', '417482', '대전광역시 서구 월평동', '흐림', '23', '33', '32', '547', '129', '12', '39', '13', '46', '4\\n']\n",
            "Data 4 : ['2545', '\"계룡로에서 신촌네거리 진입우측 보쌈한판13', '000원 앞\"', '주중', '2010-06-21', '12시~13시까지', '343121', '417343', '대전광역시 서구 월평동', '맑음', '0', '9', '27', '21', '6', '5', '24', '20', '10', '6\\n']\n",
            "Data 5 : ['2545', '\"계룡로에서 신촌네거리 진입우측 보쌈한판13', '000원 앞\"', '주중', '2010-06-21', '19시~20시까지', '343121', '417343', '대전광역시 서구 월평동', '맑음', '4', '22', '12', '22', '12', '6', '30', '27', '7', '3\\n']\n",
            "Data 6 : ['2545', '\"계룡로에서 신촌네거리 진입우측 보쌈한판13', '000원 앞\"', '주말', '2010-06-20', '12시~13시까지', '343121', '417343', '대전광역시 서구 월평동', '흐림', '3', '8', '5', '8', '11', '2', '8', '9', '4', '3\\n']\n",
            "Data 7 : ['2545', '\"계룡로에서 신촌네거리 진입우측 보쌈한판13', '000원 앞\"', '주말', '2010-06-20', '19시~20시까지', '343121', '417343', '대전광역시 서구 월평동', '흐림', '6', '17', '19', '21', '27', '5', '16', '18', '11', '11\\n']\n",
            "Data 8 : ['2546', '파장시장입구', '주중', '2010-06-04', '12시~13시까지', '311013', '523508', '경기도 수원시 정자1동', '맑음', '24', '26', '32', '45', '60', '21', '28', '98', '195', '201\\n']\n",
            "Data 9 : ['2546', '파장시장입구', '주중', '2010-06-04', '19시~20시까지', '311013', '523508', '경기도 수원시 정자1동', '맑음', '13', '36', '18', '18', '90', '48', '36', '36', '114', '126\\n']\n",
            "23245\n"
          ],
          "name": "stdout"
        }
      ]
    },
    {
      "cell_type": "code",
      "metadata": {
        "id": "OlwhdBFYY7_U",
        "colab_type": "code",
        "colab": {
          "base_uri": "https://localhost:8080/",
          "height": 248
        },
        "outputId": "e88ac45b-df92-4b0c-b23b-cff911038fe3"
      },
      "source": [
        "line_counter = 0\n",
        "data_header = []\n",
        "employee = []\n",
        "customer_USA_only_list = []\n",
        "customer = None\n",
        "\n",
        "with open(file + \"customers.csv\", \"r\") as customer_data:\n",
        "    while 1:\n",
        "        data = customer_data.readline()\n",
        "        if not data:\n",
        "            break\n",
        "        if line_counter == 0:\n",
        "            data_header = data.split(\",\")\n",
        "        else:\n",
        "            customer = data.split(\",\")\n",
        "\n",
        "            if customer[10].upper() == \"USA\":           # customer 데이터의 offset 10번째 값\n",
        "                customer_USA_only_list.append(customer) # country 필드가 \"USA\" 것만 cusutomer_USA_only_list에 저장\n",
        "        line_counter+=1\n",
        "\n",
        "print(\"Header:\", data_header)\n",
        "for i in range(0, 10):\n",
        "    print(\"Data:\",customer_USA_only_list[i])\n",
        "print(len(customer_USA_only_list))\n",
        "\n",
        "with open(file + \"customers_USA_only.csv\",\"w\") as customer_USA_only_csv:\n",
        "    for customer in customer_USA_only_list:\n",
        "        customer_USA_only_csv.write(\",\".join(customer).strip('\\n')+\"\\n\") # customer_USA_only_list 객체에 있는 데이터를 customers_USA_only.csv 파일에 쓰기\n"
      ],
      "execution_count": null,
      "outputs": [
        {
          "output_type": "stream",
          "text": [
            "Header: ['customerNumber', 'customerName', 'contactLastName', 'contactFirstName', 'phone', 'addressLine1', 'addressLine2', 'city', 'state', 'postalCode', 'country', 'salesRepEmployeeNumber', 'creditLimit\\n']\n",
            "Data: ['112', 'Signal Gift Stores', 'King', 'Jean', '7025551838', '8489 Strong St.', 'NULL', 'Las Vegas', 'NV', '83030', 'USA', '1166', '71800\\n']\n",
            "Data: ['124', 'Mini Gifts Distributors Ltd.', 'Nelson', 'Susan', '4155551450', '5677 Strong St.', 'NULL', 'San Rafael', 'CA', '97562', 'USA', '1165', '210500\\n']\n",
            "Data: ['129', 'Mini Wheels Co.', 'Murphy', 'Julie', '6505555787', '5557 North Pendale Street', 'NULL', 'San Francisco', 'CA', '94217', 'USA', '1165', '64600\\n']\n",
            "Data: ['131', 'Land of Toys Inc.', 'Lee', 'Kwai', '2125557818', '897 Long Airport Avenue', 'NULL', 'NYC', 'NY', '10022', 'USA', '1323', '114900\\n']\n",
            "Data: ['151', 'Muscle Machine Inc', 'Young', 'Jeff', '2125557413', '4092 Furth Circle', 'Suite 400', 'NYC', 'NY', '10022', 'USA', '1286', '138500\\n']\n",
            "Data: ['157', 'Diecast Classics Inc.', 'Leong', 'Kelvin', '2155551555', '7586 Pompton St.', 'NULL', 'Allentown', 'PA', '70267', 'USA', '1216', '100600\\n']\n",
            "Data: ['161', 'Technics Stores Inc.', 'Hashimoto', 'Juri', '6505556809', '9408 Furth Circle', 'NULL', 'Burlingame', 'CA', '94217', 'USA', '1165', '84600\\n']\n",
            "Data: ['168', 'American Souvenirs Inc', 'Franco', 'Keith', '2035557845', '149 Spinnaker Dr.', 'Suite 101', 'New Haven', 'CT', '97823', 'USA', '1286', '0\\n']\n",
            "Data: ['173', 'Cambridge Collectables Co.', 'Tseng', 'Jerry', '6175555555', '4658 Baden Av.', 'NULL', 'Cambridge', 'MA', '51247', 'USA', '1188', '43400\\n']\n",
            "Data: ['175', 'Gift Depot Inc.', 'King', 'Julie', '2035552570', '25593 South Bay Ln.', 'NULL', 'Bridgewater', 'CT', '97562', 'USA', '1323', '84300\\n']\n",
            "34\n"
          ],
          "name": "stdout"
        }
      ]
    },
    {
      "cell_type": "code",
      "metadata": {
        "id": "_479OtWiY_2_",
        "colab_type": "code",
        "colab": {}
      },
      "source": [
        "import csv\n",
        "\n",
        "f = open(file + \"korea_floating_population_data.csv\", \"r\")\n",
        "reader = csv.reader(\n",
        "    f,                      # 연결할 대상 파일 객체\n",
        "    delimiter=',',          # 데이터를 분리하는 기준\n",
        "    quotechar='\"',          # 데이터를 묶을 때 사용하는 문자(예, \"Hello, World!\"처럼 중간에 delimiter가 있을 때 묶어줌)\n",
        "    quoting=csv.QUOTE_ALL)  # 데이터를 묶을 정도 쓰는 기준, 최소로 묶을까(QUOTE_MINIMAL) 모두 묶을까.\n",
        "f.close()"
      ],
      "execution_count": null,
      "outputs": []
    },
    {
      "cell_type": "markdown",
      "metadata": {
        "id": "6VOzCRIoZVqb",
        "colab_type": "text"
      },
      "source": [
        "csv.reader(\n",
        "\n",
        "    f,                      # 연결할 대상 파일 객체\n",
        "    delimiter=',',          # 데이터를 분리하는 기준\n",
        "    quotechar='\"',          # 데이터를 묶을 때 사용하는 문자(예, \"Hello, World!\"처럼 중간에 delimiter가 있을 때 묶어줌)\n",
        "    quoting=csv.QUOTE_ALL   # 데이터를 묶을 정도 쓰는 기준, 최소로 묶을까(QUOTE_MINIMAL) 모두 묶을까.\n",
        "\n",
        ")"
      ]
    },
    {
      "cell_type": "code",
      "metadata": {
        "id": "u31qknMCZDM4",
        "colab_type": "code",
        "colab": {}
      },
      "source": [
        "import csv                              # csv 객체 호출\n",
        "\n",
        "seoung_nam_data = [ ]                   # 기본 변수명 선언\n",
        "header = [ ]\n",
        "rownum = 0\n",
        "\n",
        "\n",
        "with open(file + \"korea_floating_population_data.csv\", \"r\", encoding = \"cp949\") as p_file: # 불러들일 데이터를 선언함, 한글 처리를 위한 c'p949'\n",
        "    csv_data = csv.reader(p_file)       # csv 객체를 이용해 csv_data 읽기, 특별히 데이터를 나누는 기준을 정하지지 않음\n",
        "    for row in csv_data:                # 읽어 온 데이터를 한 줄씩 처리\n",
        "        if rownum == 0:\n",
        "            header = row                # 첫 번째 줄은 데이터 필드로 따로 저장\n",
        "        location = row[7]               # '행정구역' 필드 데이터 추출, 한글 처리로 유니코드 데이터를 cp949로 변환\n",
        "        if location.find(u\"성남시\")!=-1:# find함수는 문자열에서 찾는 문자가 들어있는 위치(인덱스)를 반환한다. \n",
        "                                        # 만약 찾는 문자가 문자열 안에 없다면 -1을 반환\n",
        "                                        # u는 unicode. 한글처리를 할 때 필요. 안 붙여도 똑같이 실행된다.\n",
        "            seoung_nam_data.append(row) # '행정구역' 데이터에 '성남시'가 들어가 있으면 seoung_nam_data List에 추가\n",
        "        rownum +=1\n",
        "\n",
        "with open(file + \"Dataseoung_nam_floating_population_data.csv\", \"w\", encoding=\"cp949\") as s_p_file:\n",
        "    writer = csv.writer(s_p_file, delimiter=',') # csv.writer를 사용해 csv 파일 만들기 delimiter 필드 구분자, quotechar는 필드 각 데이터를 묶는 문자, quoting은 묶는 범위\n",
        "    writer.writerow(header)             # 제목 필드 파일에 쓰기\n",
        "    for row in seoung_nam_data:\n",
        "        writer.writerow(row)            # seoung_nam_data에 있는 정보를 리스트에 쓰기\n"
      ],
      "execution_count": null,
      "outputs": []
    },
    {
      "cell_type": "code",
      "metadata": {
        "id": "zdfYNv5ktlIg",
        "colab_type": "code",
        "colab": {}
      },
      "source": [
        "# 다음 내용을 csv 형식으로 animal.csv 파일로 저장합니다. \n",
        "# (쉼표로 구분된 형태로 저장)\n",
        "\n",
        "import csv\n",
        "\n",
        "dog = ['멍멍이','while',2,'멍멍']\n",
        "cat = ['야옹이','black',3,'야옹']\n",
        "fish = ['물고기','red',3,'뻐끔뻐끔']\n",
        "donald = ['도날드','while',4,'꽥꽥']\n",
        "animal_list = [dog, cat, fish, donald]\n",
        "\n",
        "with open(file + \"animal.csv\", \"w\", encoding = \"cp949\") as animal_file:\n",
        "    writer = csv.writer(animal_file, delimiter = \",\")\n",
        "    writer.writerow(['이름','색','나이','소리']) \n",
        "\n",
        "    # writerow(): 한 줄씩 기록\n",
        "    for one_animal in animal_list:\n",
        "            writer.writerow(one_animal)\n",
        "            \n",
        "    # writerows(): 한 번에 기록\n",
        "    writer.writerows(animal_list)"
      ],
      "execution_count": null,
      "outputs": []
    },
    {
      "cell_type": "code",
      "metadata": {
        "id": "eyjFsvI-fLdr",
        "colab_type": "code",
        "colab": {
          "base_uri": "https://localhost:8080/",
          "height": 439
        },
        "outputId": "6b27e937-8446-4720-fb08-7f19adf3fee2"
      },
      "source": [
        "# animal.csv 파일일 읽어와 다음과 같이 출력합니다.\n",
        "\n",
        "# 안녕하세요. 저는***입니다.\n",
        "# 제 털색/비늘색깔은 ***입니다.\n",
        "# 제 나이는 ***살입니다.\n",
        "# 저는 ***하고 말합니다.\n",
        "\n",
        "import csv\n",
        "\n",
        "header = []\n",
        "rownum = 0\n",
        "\n",
        "with open(file + \"animal.csv\", \"r\", encoding = \"cp949\") as animal_file: # 한글 처리를 위한 c'p949'\n",
        "    csv_data = csv.reader(animal_file)\n",
        "    for row in csv_data:  \n",
        "        if rownum == 0: header = row  \n",
        "        else:\n",
        "            if header[0] == '이름': print(\"안녕하세요. 저는\", row[0],\"입니다.\")\n",
        "            if header[1] == '색': \n",
        "                if row[0] == '물고기': print(\"제 비늘은\", row[1],\"입니다.\")\n",
        "                else  :print(\"제 털색은\", row[1],\"입니다.\")\n",
        "            if header[2] == '나이': print(\"제 나이는\", row[2],\"살입니다.\")\n",
        "            if header[3] == '소리': print(\"저는\", row[3],\"하고 말합니다.\")\n",
        "            print('\\n')\n",
        "        rownum +=1"
      ],
      "execution_count": null,
      "outputs": [
        {
          "output_type": "stream",
          "text": [
            "안녕하세요. 저는 멍멍이 입니다.\n",
            "제 털색은 while 입니다.\n",
            "제 나이는 2 살입니다.\n",
            "저는 멍멍 하고 말합니다.\n",
            "\n",
            "\n",
            "안녕하세요. 저는 야옹이 입니다.\n",
            "제 털색은 black 입니다.\n",
            "제 나이는 3 살입니다.\n",
            "저는 야옹 하고 말합니다.\n",
            "\n",
            "\n",
            "안녕하세요. 저는 물고기 입니다.\n",
            "제 비늘은 red 입니다.\n",
            "제 나이는 3 살입니다.\n",
            "저는 뻐끔뻐끔 하고 말합니다.\n",
            "\n",
            "\n",
            "안녕하세요. 저는 도날드 입니다.\n",
            "제 털색은 while 입니다.\n",
            "제 나이는 4 살입니다.\n",
            "저는 꽥꽥 하고 말합니다.\n",
            "\n",
            "\n"
          ],
          "name": "stdout"
        }
      ]
    },
    {
      "cell_type": "code",
      "metadata": {
        "id": "wSob4CK6br1D",
        "colab_type": "code",
        "colab": {
          "base_uri": "https://localhost:8080/",
          "height": 54
        },
        "outputId": "d588b4ba-8c27-47dd-96ca-dfd09a8c6eab"
      },
      "source": [
        "import csv\n",
        "\n",
        "header = []\n",
        "rownum = 0\n",
        "animal_list = {}\n",
        "\n",
        "with open(file + \"animal.csv\", \"r\", encoding = \"cp949\") as animal_file: # 한글 처리를 위한 c'p949'\n",
        "    csv_data = csv.reader(animal_file)\n",
        "    for row in csv_data:  \n",
        "        if rownum == 0:\n",
        "            header = row\n",
        "            for i in range(len(header)):\n",
        "                animal_list[header[i]] = []\n",
        "        else:\n",
        "            for i in range(len(header)):\n",
        "                animal_list[header[i]] += [row[i]]\n",
        "        rownum += 1\n",
        "\n",
        "print(animal_list)"
      ],
      "execution_count": null,
      "outputs": [
        {
          "output_type": "stream",
          "text": [
            "{'이름': ['멍멍이', '야옹이', '물고기', '도날드'], '색': ['while', 'black', 'red', 'while'], '나이': ['2', '3', '3', '4'], '소리': ['멍멍', '야옹', '뻐끔뻐끔', '꽥꽥']}\n"
          ],
          "name": "stdout"
        }
      ]
    },
    {
      "cell_type": "code",
      "metadata": {
        "id": "i257YW-Nopnx",
        "colab_type": "code",
        "colab": {
          "base_uri": "https://localhost:8080/",
          "height": 52
        },
        "outputId": "ccf94d48-a062-4e41-9197-0d81e59134c0"
      },
      "source": [
        "test = {'aa':[1, 2, 3]}\n",
        "print(test['aa'])\n",
        "print(test['aa'][0])"
      ],
      "execution_count": null,
      "outputs": [
        {
          "output_type": "stream",
          "text": [
            "[1, 2, 3]\n",
            "1\n"
          ],
          "name": "stdout"
        }
      ]
    },
    {
      "cell_type": "code",
      "metadata": {
        "id": "lFVkwDRKnDaG",
        "colab_type": "code",
        "colab": {
          "base_uri": "https://localhost:8080/",
          "height": 54
        },
        "outputId": "5854162d-000f-4595-f498-09f82dbb52b4"
      },
      "source": [
        "\n",
        "# 공공데이터포털(data.go.kr)에서 세종시 CCTV 설치정보 파일을 다운로드하고\n",
        "# 카메라 화소수가 130만 화소인 것만 '130만화소카메라.csv' 파일에 저장합니다.\n",
        "\n",
        "import csv\n",
        "\n",
        "header = []\n",
        "camera_data = []\n",
        "camera_data_list = []\n",
        "rownum = 0\n",
        "\n",
        "with open(file + \"세종특별자치시_CCTV_20190920.csv\", \"r\", encoding='cp949') as f: \n",
        "    csv_data = csv.reader(f)\n",
        "    for row in csv_data:\n",
        "        if rownum == 0: \n",
        "            header = row\n",
        "            for elem in row: \n",
        "                if elem == '카메라화소수': break;\n",
        "                else: rownum += 1\n",
        "\n",
        "        if row[rownum] == '130':\n",
        "            camera_data = row\n",
        "            camera_data_list.append(camera_data)\n",
        "\n",
        "with open(file + \"130만 화소 카메라.csv\", \"w\", encoding = \"cp949\") as animal_file:\n",
        "    writer = csv.writer(animal_file, delimiter = \",\")\n",
        "    writer.writerow(header) \n",
        "    writer.writerows(camera_data_list)"
      ],
      "execution_count": null,
      "outputs": [
        {
          "output_type": "stream",
          "text": [
            "[['세종특별자치시', '', '세종특별자치시 조치원읍 신흥리 76-4', '다목적', '2', '130', '1)삼일APTt방면 2)신흥주공APT방면', '30', '', '044-300-2454', '36.5954687558', '127.2935849907', '2019-09-20'], ['세종특별자치시', '세종특별자치시 소정면 대사동길 62', '세종특별자치시 소정면 대곡리 223-2', '다목적', '1', '130', '1)해나라어린이집옆길', '30', '', '044-300-2454', '36.7221248241', '127.1647559338', '2019-09-20'], ['세종특별자치시', '세종특별자치시 금남면 금남구즉로 62', '세종특별자치시 금남면 신촌리 134-1', '다목적', '3', '130', '1)신탄진방면 2)대평리방면 3)금남초정문', '30', '', '044-300-2454', '36.4726992655', '127.2882753296', '2019-09-20'], ['세종특별자치시', '세종특별자치시 연기면 연기길 2', '세종특별자치시 연기면 연기리 397', '다목적', '2', '130', '1)연남초정문 2)운동장옆길', '30', '', '044-300-2454', '36.5438791075', '127.2778492933', '2019-09-20'], ['세종특별자치시', '', '세종특별자치시 연기면 눌왕리 719-4', '다목적', '2', '130', '1)수왕초체육관옆도로 2)축사방면도로', '30', '', '044-300-2454', '36.5441228648', '127.2517407071', '2019-09-20'], ['세종특별자치시', '', '세종특별자치시 조치원읍 남리 63-4', '다목적', '3', '130', '1)복단지부동산앞도로 2)원조소머리국밥옆도로 3)대광쌀상회앞', '30', '', '044-300-2454', '36.598444', '127.3004620339', '2019-09-20'], ['세종특별자치시', '', '세종특별자치시 연서면 월하리 725-1', '다목적', '1', '130', '1)아이마루어린이집정문앞도로', '30', '', '044-300-2454', '36.5833974305', '127.2828788224', '2019-09-20'], ['세종특별자치시', '', '세종특별자치시 전의면 신방리 95-3', '다목적', '1', '130', '1)어린이보호구역도로', '30', '', '044-300-2454', '36.675981', '127.2066294248', '2019-09-20'], ['세종특별자치시', '', '세종특별자치시 조치원읍 죽림리 132', '다목적', '1', '130', '1)풍전유리공사앞도로', '30', '', '044-300-2454', '36.5905109503', '127.2929450581', '2019-09-20'], ['세종특별자치시', '', '세종특별자치시 전의면 읍내리 258-2', '다목적', '1', '130', '1)혜성학원앞2)할머니오아족발보쌈3)한화L&C방면4)제일교회옆E)혜성학원', '30', '', '044-300-2454', '36.679596', '127.2021667494', '2019-09-20'], ['세종특별자치시', '세종특별자치시 부강면 부강로 25-2', '세종특별자치시 부강면 부강리 433-7', '다목적', '5', '130', '1)파랑새마트앞도로', '30', '', '044-300-2454', '36.5282264237', '127.3664856801', '2019-09-20'], ['세종특별자치시', '세종특별자치시 장군면 장척로 359', '세종특별자치시 장군면 하봉리 37-1', '다목적', '3', '130', '1)장기중주차장입구 2)장기중건물옆주차장 3)장기중농구장', '30', '', '044-300-2454', '36.4938847661', '127.2017272676', '2019-09-20'], ['세종특별자치시', '', '세종특별자치시 장군면 태산리 292-6', '다목적', '3', '130', '1)인삼밭옆도로 2)의랑초운동장옆도로 3)의랑초교실옆도로', '30', '', '044-300-2454', '36.5494434192', '127.1905062470', '2019-09-20'], ['세종특별자치시', '세종특별자치시 조치원읍 장안로 58', '세종특별자치시 조치원읍 남리 362', '다목적', '2', '130', '1)축산물직판장앞도로 2)남리놀이터공원', '30', '', '044-300-2454', '36.596655', '127.3017129854', '2019-09-20'], ['세종특별자치시', '', '세종특별자치시 조치원읍 평리 9-3', '다목적', '2', '130', '1)정자옆도로 2)빌라마동옆도로', '30', '', '044-300-2454', '36.6066171149', '127.2998960736', '2019-09-20'], ['세종특별자치시', '', '세종특별자치시 조치원읍 죽림리 68-10', '다목적', '2', '130', '1)미끄럼틀앞 2)운동기구방면', '30', '', '044-300-2454', '36.5945079937', '127.2952772153', '2019-09-20'], ['세종특별자치시', '세종특별자치시 조치원읍 문화1길 23', '세종특별자치시 조치원읍 침산리 279-7', '다목적', '2', '130', '1)착한마트앞도로 2)스위트파크앞도로', '30', '', '044-300-2454', '36.6015507998', '127.2891027189', '2019-09-20'], ['세종특별자치시', '세종특별자치시 조치원읍 행복길 5', '세종특별자치시 조치원읍 침산리 269-12', '다목적', '2', '130', '1)LG베스트샵앞도로 2)정정아식당앞도로', '30', '', '044-300-2454', '36.6033396193', '127.2901912938', '2019-09-20'], ['세종특별자치시', '세종특별자치시 조치원읍 신흥샛터길 29', '세종특별자치시 조치원읍 신흥리 44', '다목적', '2', '130', '1)국무관합기도체육관앞도로 2)대동초후문옆도로', '30', '', '044-300-2454', '36.5971492621', '127.2936772983', '2019-09-20'], ['세종특별자치시', '세종특별자치시 조치원읍 새내14길 42', '세종특별자치시 조치원읍 교리 20-1', '다목적', '2', '130', '1)장수식당옆도로 2)어린이공원내정자', '30', '', '044-300-2454', '36.6033228677', '127.2998702077', '2019-09-20'], ['세종특별자치시', '', '세종특별자치시 조치원읍 번암리 136-4', '다목적', '2', '130', '1)건축자재백화정방면갈래길 2)미동어린이집방면도로', '30', '', '044-300-2454', '36.583051', '127.2917410455', '2019-09-20'], ['세종특별자치시', '', '세종특별자치시 조치원읍 봉산리 104-1', '다목적', '2', '130', '1)오봉산입구 2) 오봉산주차장', '30', '', '044-300-2454', '36.6036797628', '127.2752835442', '2019-09-20'], ['세종특별자치시', '세종특별자치시 부강면 부강로 25-7', '세종특별자치시 부강면 부강리 505-3', '다목적', '1', '130', '1)부강중학교', '30', '', '044-300-2454', '36.5263175048', '127.3648152435', '2019-09-20'], ['세종특별자치시', '', '세종특별자치시 부강면 문곡리 1063-1', '다목적', '2', '130', '1)부강약수 2)부강어린이집', '30', '', '044-300-2454', '36.5271498', '127.3790755396', '2019-09-20'], ['세종특별자치시', '', '세종특별자치시 금남면 용포리 318-2', '다목적', '2', '130', '1)두진아파트놀이터 2)두진아파트놀이터', '30', '', '044-300-2454', '36.463155', '127.2782177563', '2019-09-20'], ['세종특별자치시', '세종특별자치시 장군면 장기초교길 11-1', '세종특별자치시 장군면 도계리 163-11', '다목적', '2', '130', '1)영평사 2)장기초정문', '30', '', '044-300-2454', '36.497135', '127.2073297735', '2019-09-20'], ['세종특별자치시', '', '세종특별자치시 소정면 소정리 38-10', '다목적', '2', '130', '1)소정초후문 2)소정초후문', '30', '', '044-300-2454', '36.7209174721', '127.1581144029', '2019-09-20'], ['세종특별자치시', '', '세종특별자치시 부강면 부강리 476-6', '다목적', '3', '130', '1)형제세탁소옆길 2)가마솥뼈다귀해장국 3)컴과함께', '30', '', '044-300-2454', '36.5281940206', '127.3687416008', '2019-09-20'], ['세종특별자치시', '', '세종특별자치시 전동면 노장리 585-5', '다목적', '3', '130', '1)도원슈퍼옆길 2)전동파출소 3)전동파출소', '30', '', '044-300-2454', '36.6553182153', '127.2643019339', '2019-09-20'], ['세종특별자치시', '', '세종특별자치시 조치원읍 교리 53', '다목적', '2', '130', '1)조치원역 2)교동초', '30', '', '044-300-2454', '36.605429', '127.2973202312', '2019-09-20'], ['세종특별자치시', '세종특별자치시 장군면 장척로 398-9', '세종특별자치시 장군면 도계리 164-1', '다목적', '3', '130', '1)펜타빌삼거리 2)장기초운동장 3)장기초후문주차장', '30', '', '044-300-2454', '36.4962963387', '127.2059033728', '2019-09-20'], ['세종특별자치시', '세종특별자치시 노을3로 92', '세종특별자치시 한솔동 930', '다목적', '1', '130', '1)꿈의교회방면 2)놀부보쌈 3)회오바 조개언니옆 골목 4)꿈의교회방면', '30', '', '044-300-2454', '36.47999788', '127.2549325652', '2019-09-20'], ['세종특별자치시', '세종특별자치시 도움5로 19', '세종특별자치시 어진동 507', '다목적', '1', '130', '1)홈플러스방면 2)우정사업본부 3)새만금사업소 4)홈플러스방면', '30', '', '044-300-2454', '36.5047281888', '127.2592064220', '2019-09-20'], ['세종특별자치시', '세종특별자치시 한누리대로 402', '세종특별자치시 어진동 573', '다목적', '1', '130', '1)청사고속터미널방향 2)기재부 3)세종1번가 4)산업통상부', '30', '', '044-300-2454', '36.4996363824', '127.2601627531', '2019-09-20'], ['세종특별자치시', '세종특별자치시 다솜1로 31(어진동)', '', '다목적', '1', '130', '1)KT방향 2)성남고방향 3)가재마을9단지 4)언양초등학교', '30', '', '044-300-2454', '36.5019041611', '127.2566163393', '2019-09-20'], ['세종특별자치시', '세종특별자치시 한누리대로 411(어진동)', '', '다목적', '1', '130', '1)청사고속터미널방향 2)성남고방향 3)세종파이낸스센터 4)국토부', '30', '', '044-300-2454', '36.5011315500', '127.2588506449', '2019-09-20'], ['세종특별자치시', '세종특별자치시 한누리대로 422(어진동)', '', '다목적', '1', '130', '1)청사고속터미널방향 2)교육부 3)산업통상부 4)홈플러스방향', '30', '', '044-300-2454', '36.5013993926', '127.2616509635', '2019-09-20'], ['세종특별자치시', '세종특별자치시 가름로 253', '세종특별자치시 어진동 649', '다목적', '1', '130', '1)제1주차장 2)세종세무서 3)세종국립도서관 4)제1주차장', '30', '', '044-300-2454', '36.4948699046', '127.2672139875', '2019-09-20'], ['세종특별자치시', '세종특별자치시 가름로 255-21', '세종특별자치시 어진동 648', '다목적', '1', '130', '1)호수의아참 2)문체부 3)호수의아침 4)문체부', '30', '', '044-300-2454', '36.4954541392', '127.2670865254', '2019-09-20'], ['세종특별자치시', '세종특별자치시 가름로 232', '세종특별자치시 어진동 657', '다목적', '1', '130', '1)문체부 2)호수공원 3)호수공원매점 4)LH세종본부', '30', '', '044-300-2454', '36.4956284124', '127.2649084654', '2019-09-20'], ['세종특별자치시', '세종특별자치시 한누리대로 402', '세종특별자치시 어진동 584', '다목적', '1', '130', '1)산업통상부 2)교육부 3)문체부 4)세종파이낸스센터', '30', '', '044-300-2454', '36.4996363824', '127.2601627531', '2019-09-20'], ['세종특별자치시', '세종특별자치시 다솜3로 48', '세종특별자치시 어진동 635', '다목적', '1', '130', '1)교육부 2)LH세종본부 3)교육부 4)국립도서관', '30', '', '044-300-2454', '36.4988251452', '127.2683883850', '2019-09-20'], ['세종특별자치시', '세종특별자치시 다솜3로 48', '세종특별자치시 어진동 637', '다목적', '1', '130', '1)호수공원 2)세종파이낸스센터 3)교육부 4)호수공원관리센터', '30', '', '044-300-2454', '36.4988251452', '127.2683883850', '2019-09-20'], ['세종특별자치시', '세종특별자치시 다솜3로 48', '세종특별자치시 어진동 637', '다목적', '1', '130', '1)문체부 2)교육부 3)세종1번가 4)세종세무서', '30', '', '044-300-2454', '36.49881977', '127.2683883850', '2019-09-20'], ['세종특별자치시', '세종특별자치시 가름로 170-14(어진동)', '', '다목적', '1', '130', '1)청사방면 2)세종세무서 3)세종파이낸스센터 4)종촌동', '30', '', '044-300-2454', '36.4968823498', '127.2585507719', '2019-09-20'], ['세종특별자치시', '세종특별자치시 도움4로 9(어진동)', '', '다목적', '1', '130', '1)제4주차장(한솔동) 2)청사고속터미널 3)국토부 4)국립도서관', '30', '', '044-300-2454', '36.5031953024', '127.2612819550', '2019-09-20'], ['세종특별자치시', '세종특별자치시 한누리대로 499(어진동)', '', '다목적', '1', '130', '1)중앙타운 2)국립도서관 3)성남고 4)새마금개발청', '30', '', '044-300-2454', '36.5080727067', '127.2611197387', '2019-09-20'], ['세종특별자치시', '세종특별자치시 도움6로 57(어진동)', '', '다목적', '1', '130', '1)한뜰마을2단지 2)국립도서관 3)세종세무서 4)중앙타운', '30', '', '044-300-2454', '36.5033328819', '127.2675154267', '2019-09-20'], ['세종특별자치시', '세종특별자치시 다솜3로 48', '세종특별자치시 어진동 637', '다목적', '1', '130', '1)한뜰마을1단지 2)호수공원 3)푸르지오2차 4)청사방면', '30', '', '044-300-2454', '36.4988251452', '127.2683883850', '2019-09-20'], ['세종특별자치시', '세종특별자치시 다솜3로 66', '세종특별자치시 어진동 620', '다목적', '1', '130', '1)도서관뒤길 2)보건복지부 3)대통령기록관 4)호수공원광장', '30', '', '044-300-2454', '36.5010997428', '127.2699499778', '2019-09-20'], ['세종특별자치시', '세종특별자치시 조치원읍 으뜸길 215', '세종특별자치시 조치원읍 원리 132-1', '다목적', '1', '130', '1)조치원역 주차장 입구', '30', '', '044-300-2454', '36.6010897554', '127.2963030230', '2019-09-20'], ['세종특별자치시', '', '세종특별자치시 금남면 도암리 산 27-5', '다목적', '1', '130', '1)성덕교 반대 방면', '30', '', '044-300-2454', '36.458527', '127.2733565447', '2019-09-20'], ['세종특별자치시', '', '세종특별자치시 조치원읍 교리 152-3', '다목적', '2', '130', '1)현대ⓐ102동뒤 2)고려연립 주차장', '30', '', '044-300-2454', '36.606808', '127.2960523800', '2019-09-20'], ['세종특별자치시', '세종특별자치시 보듬6로 16', '세종특별자치시 도담동 654', '다목적', '1', '130', '1)공공기관주차장 2)양지초 3)도담중 4)청사방면', '30', '', '044-300-2454', '36.5151581523', '127.2600316098', '2019-09-20'], ['세종특별자치시', '세종특별자치시 연기면 보듬4로 96', '', '다목적', '1', '130', '1)청사방면 2)단독부지 3)호수공원 4)제4주차장', '30', '', '044-300-2454', '36.5163155162', '127.2712353374', '2019-09-20'], ['세종특별자치시', '세종특별자치시 연기면 절재로 305', '', '다목적', '1', '130', '1)호수공원 2)총리공관후문 3)월산공단 4)호수공원관리사무소', '30', '', '044-300-2454', '36.5066947551', '127.2744077111', '2019-09-20'], ['세종특별자치시', '세종특별자치시 누리로 59(한솔동, 첫마을5단지)', '', '다목적', '1', '130', '1)단독부지산책로 2)이마트 3)회전교차로 4)가득초', '30', '', '044-300-2454', '36.4751594273', '127.2490476637', '2019-09-20'], ['세종특별자치시', '세종특별자치시 나리로 38(한솔동, 첫마을7단지)', '', '다목적', '1', '130', '1)한솔중 2)미르초뒤편 3)이마트 4)한솔중', '30', '', '044-300-2454', '36.4745399608', '127.2556155939', '2019-09-20'], ['세종특별자치시', '세종특별자치시 어울로4길 6-4', '세종특별자치시 한솔동 868', '다목적', '1', '130', '1)새롬중 2)국세청 3)단독부지 4)새롬중', '30', '', '044-300-2454', '36.4817686753', '127.2549519311', '2019-09-20'], ['세종특별자치시', '세종특별자치시 나리1로 15(한솔동, 첫마을3단지)', '', '다목적', '1', '130', '1)한누리대교 2)미르초 3)버거킹 4)새롬중', '30', '', '044-300-2454', '36.4787853117', '127.2593788753', '2019-09-20'], ['세종특별자치시', '세종특별자치시 어울로3길 27(한솔동)', '', '다목적', '1', '130', '1)새롬중 2)4단지상가 3)첫마을501동 4)새롬중', '30', '', '044-300-2454', '36.4795295632', '127.2501418248', '2019-09-20'], ['세종특별자치시', '세종특별자치시 어울로3길 27(한솔동)', '', '다목적', '1', '130', '1)4단지상가 2)4단지상가 3)새뜸마을5단지 4)새뜸마을108동', '30', '', '044-300-2454', '36.4795295632', '127.2501418248', '2019-09-20'], ['세종특별자치시', '세종특별자치시 누리로 65', '세종특별자치시 한솔동 1063', '다목적', '1', '130', '1)첫마을4단지 2)첫마을7단지 3)첫마을5단지뒤길 4)새뜸마을108동', '30', '', '044-300-2454', '36.4780750001', '127.2493248004', '2019-09-20'], ['세종특별자치시', '세종특별자치시 누리로 54', '세종특별자치시 한솔동 971', '다목적', '1', '130', '1)첫마을5단지입구 2)첫마을7단지 3)첫마을5단지뒤길 4)새뜸마을108동', '30', '', '044-300-2454', '36.4761410016', '127.2519519803', '2019-09-20'], ['세종특별자치시', '세종특별자치시 조치원읍 조치원5길 31', '세종특별자치시 조치원읍 교리 23-12', '다목적', '2', '130', '1)월봉철학원 앞 도로 2)애플펀치 앞 도로', '30', '', '044-300-2454', '36.6027234057', '127.2988754089', '2019-09-20'], ['세종특별자치시', '', '세종특별자치시 조치원읍 번암리 75-3', '다목적', '2', '130', '1)홈플러스 방면 2)극동오토 앞 도로', '30', '', '044-300-2454', '36.5869991616', '127.2945027785', '2019-09-20'], ['세종특별자치시', '', '세종특별자치시 조치원읍 원리 166-2', '다목적', '2', '130', '1)성산건설기계 앞 조치원방면 2)굴다리 방면', '30', '', '044-300-2454', '36.598009', '127.2972797828', '2019-09-20'], ['세종특별자치시', '세종특별자치시 조치원읍 행복10길 2', '세종특별자치시 조치원읍 침산리 262-1', '다목적', '2', '130', '1)2차노래방 앞 도로 2)선우빌딩 대장군숯불갈비 앞', '30', '', '044-300-2454', '36.6035453647', '127.2915511489', '2019-09-20'], ['세종특별자치시', '세종특별자치시 조치원읍 충현로 191', '세종특별자치시 조치원읍 침산리 256-7', '다목적', '1', '130', '1)대한빌딩 세무서 조치원민원실 방향', '30', '', '044-300-2454', '36.605422', '127.2939501163', '2019-09-20'], ['세종특별자치시', '세종특별자치시 조치원읍 행복4길 33', '세종특별자치시 조치원읍 침산리 257-10', '다목적', '2', '130', '1)퍼스트빌 원룸 삼화아구 2)퍼스트빌 원룸 별포차 앞 도로', '30', '', '044-300-2454', '36.6047843057', '127.2934379945', '2019-09-20'], ['세종특별자치시', '', '세종특별자치시 조치원읍 신흥리 6', '다목적', '1', '130', '1)신흥사 입구 방면', '30', '', '044-300-2454', '36.598554', '127.2939091702', '2019-09-20'], ['세종특별자치시', '', '세종특별자치시 연기면 연기리 3-33', '다목적', '2', '130', '1)당산파크 반대방향 2)당산파크 앞', '30', '', '044-300-2454', '36.5473069779', '127.2797969', '2019-09-20'], ['세종특별자치시', '세종특별자치시 연기면 서부길 14', '세종특별자치시 연기면 연기리 425-10', '다목적', '1', '130', '1)연기리 사무소 앞', '30', '', '044-300-2454', '36.5454036488', '127.2763849998', '2019-09-20'], ['세종특별자치시', '', '세종특별자치시 연기면 연기리 431-2', '다목적', '1', '130', '1)CU편의점 앞 도로', '30', '', '044-300-2454', '36.5456966963', '127.2780744319', '2019-09-20'], ['세종특별자치시', '', '세종특별자치시 연동면 노송리 48-3', '다목적', '2', '130', '1)횡단보도 2)삼거리', '30', '', '044-300-2454', '36.566764', '127.3305822392', '2019-09-20'], ['세종특별자치시', '', '세종특별자치시 연동면 예양리 120-4', '다목적', '2', '130', '1)농협 2)예양식당 앞 도로', '30', '', '044-300-2454', '36.5730696268', '127.3228777633', '2019-09-20'], ['세종특별자치시', '', '세종특별자치시 금남면 도암리 44-5', '다목적', '1', '130', '1)도암교 도암리 방면', '30', '', '044-300-2454', '36.4470465305', '127.2837523962', '2019-09-20'], ['세종특별자치시', '', '세종특별자치시 금남면 금천리 355-1', '다목적', '1', '130', '1)금천삼거리 갈림길', '30', '', '044-300-2454', '36.4416199846', '127.3127156209', '2019-09-20'], ['세종특별자치시', '', '세종특별자치시 금남면 도남리 75-1', '다목적', '1', '130', '1)도남리마을 입구 방면', '30', '', '044-300-2454', '36.438745', '127.2325523451', '2019-09-20'], ['세종특별자치시', '', '세종특별자치시 금남면 성강리 109-3', '다목적', '1', '130', '1)마을입구 버스정류장 앞', '30', '', '044-300-2454', '36.4074822928', '127.2519932016', '2019-09-20'], ['세종특별자치시', '', '세종특별자치시 전의면 동교리 157-23', '다목적', '2', '130', '1)재동아파트 앞 2)전의 도래샘 작은도서관 앞', '30', '', '044-300-2454', '36.6799901', '127.2079386534', '2019-09-20'], ['세종특별자치시', '', '세종특별자치시 소정면 대곡리 314-8', '다목적', '1', '130', '1)학수그린빌라 옆 주택가', '30', '', '044-300-2454', '36.7285216948', '127.167521', '2019-09-20'], ['세종특별자치시', '세종특별자치시 조치원읍 새내12길 3', '세종특별자치시 조치원읍 교리 24-3', '다목적', '1', '130', '1)세종우체국 조지원역 방면', '30', '', '044-300-2454', '36.6025950095', '127.2983294984', '2019-09-20'], ['세종특별자치시', '세종특별자치시 누리로 28', '세종특별자치시 한솔동 974', '다목적', '1', '130', '1)한누리대교 2)이마트 3)첫마을5단지 4)한솔중', '30', '', '044-300-2454', '36.4749636758', '127.2546930865', '2019-09-20'], ['세종특별자치시', '세종특별자치시 나리로 26-10', '세종특별자치시 한솔동 981', '다목적', '1', '130', '1)이마트 2)조치원 3)한누리대교 4)첫마을7단지산책로', '30', '', '044-300-2454', '36.4731329703', '127.2544817906', '2019-09-20'], ['세종특별자치시', '세종특별자치시 도움1로 40', '세종특별자치시 어진동 517', '다목적', '1', '130', '1)호수공원 2)산업자원부 3)보건복지부 4)기획재정부', '30', '', '044-300-2454', '36.5022089219', '127.2556975874', '2019-09-20'], ['세종특별자치시', '세종특별자치시 다솜로 22(어진동)', '', '다목적', '1', '130', '1)세종파이낸스센터 2)국가보훈처 3)농림축산부 4)호수공원', '30', '', '044-300-2454', '36.4971321831', '127.2546808364', '2019-09-20'], ['세종특별자치시', '세종특별자치시 한누리대로 402', '세종특별자치시 어진동 573', '다목적', '1', '130', '1)대통령기록관 2)교육부 3)청사북측정류장 4)농림식품부', '30', '', '044-300-2454', '36.4996363824', '127.2601627531', '2019-09-20'], ['세종특별자치시', '세종특별자치시 도움4로 60(어진동)', '세종특별자치시 어진동 632', '다목적', '1', '130', '1)보건복지부 2)세종1번가상가 3)호수공원 4)세종세무서', '30', '', '044-300-2454', '36.5005036630', '127.2657197964', '2019-09-20'], ['세종특별자치시', '세종특별자치시 갈매로 387(어진동)', '', '다목적', '1', '130', '1)조치원 2)문체부 3)도담동 4)한솔동', '30', '', '044-300-2454', '36.4985469447', '127.2638290362', '2019-09-20'], ['세종특별자치시', '세종특별자치시 한누리대로 402(어진동)', '', '다목적', '1', '130', '1)호수공원 2)한솔동 3)종촌동 4)도담동', '30', '', '044-300-2454', '36.4996363824', '127.2601627531', '2019-09-20'], ['세종특별자치시', '세종특별자치시 가름로 232', '세종특별자치시 어진동 657', '다목적', '1', '130', '1)종촌동 2)국립도서관 3)호수공원 4)종촌동', '30', '', '044-300-2454', '36.4956284124', '127.2649084654', '2019-09-20'], ['세종특별자치시', '세종특별자치시 조치원읍 장안길 68', '세종특별자치시 조치원읍 남리 62-23', '다목적', '2', '130', '1)주택가 도로변 2)주택가 도로변', '30', '', '044-300-2454', '36.5975071737', '127.3004824865', '2019-09-20'], ['세종특별자치시', '', '세종특별자치시 장군면 금암리 342', '다목적', '2', '130', '1)마을입구 주차장 2)마을입구 갈래길', '30', '', '044-300-2454', '36.4387553025', '127.2223072954', '2019-09-20'], ['세종특별자치시', '', '세종특별자치시 연동면 명학리 664', '다목적', '2', '130', '1)청벽전원마을뒤편 2)붉은벽돌 단독주택', '30', '', '044-300-2454', '36.5346197250', '127.341546', '2019-09-20'], ['세종특별자치시', '', '세종특별자치시 조치원읍 신안리 219-3', '다목적', '2', '130', '1)여인사박물관 옆 도로 2)신흥리 사거리', '30', '', '044-300-2454', '36.629541', '127.2867125906', '2019-09-20'], ['세종특별자치시', '세종특별자치시 부강면 오대길 25', '세종특별자치시 부강면 부강리 457-10', '다목적', '2', '130', '1)부강농협 경제사업부 옆 도로 2)천주교교회 방면', '30', '', '044-300-2454', '36.5299713340', '127.3687315905', '2019-09-20'], ['세종특별자치시', '', '세종특별자치시 장군면 도계리 150-1', '다목적', '2', '130', '1)도레미송 노래연습장 2)애플타운', '30', '', '044-300-2454', '36.4980801161', '127.2050831083', '2019-09-20'], ['세종특별자치시', '', '세종특별자치시 조치원읍 원리 157', '다목적', '2', '130', '1)고가도로 방면 2)원리건강원 방면', '30', '', '044-300-2454', '36.5964969644', '127.2964355965', '2019-09-20'], ['세종특별자치시', '', '세종특별자치시 연동면 응암리 57-8', '다목적', '2', '130', '1)응암4리표지석 앞 도로 2)응암 보건진료소 앞 도로', '30', '', '044-300-2454', '36.5575392727', '127.3418010176', '2019-09-20'], ['세종특별자치시', '', '세종특별자치시 연동면 내판리 544-14', '다목적', '2', '130', '1)마을입구 2)마을출구', '30', '', '044-300-2454', '36.552222', '127.325435', '2019-09-20'], ['세종특별자치시', '', '세종특별자치시 전동면 심중리 337-3', '다목적', '2', '130', '1)삼중리방면 2)전동연합중기', '30', '', '044-300-2454', '36.649439', '127.271417', '2019-09-20'], ['세종특별자치시', '', '세종특별자치시 연기면 연기리 453-2', '다목적', '2', '130', '1)미추원주추어탕 2)주택가도로변', '30', '', '044-300-2454', '36.548179', '127.2792725809', '2019-09-20'], ['세종특별자치시', '', '세종특별자치시 조치원읍 상리 28-1', '다목적', '2', '130', '1)쉐라톤모텔 2)백년식품', '30', '', '044-300-2454', '36.603269', '127.3036903415', '2019-09-20'], ['세종특별자치시', '', '세종특별자치시 소정면 대곡리 493-3', '다목적', '2', '130', '1)삼거리이용원앞 2)경부고속철도앞', '30', '', '044-300-2454', '36.7246683994', '127.1579063266', '2019-09-20'], ['세종특별자치시', '', '세종특별자치시 연서면 봉암리 236-1', '다목적', '1', '130', '1)지하차도입구(봉암2리방면)', '30', '', '044-300-2454', '36.5613697035', '127.285966', '2019-09-20'], ['세종특별자치시', '', '세종특별자치시 부강면 부강리 401-10', '다목적', '2', '130', '1)유계화가옥앞사거리  2)역뒷편육교앞', '30', '', '044-300-2454', '36.5330029052', '127.3654056226', '2019-09-20'], ['세종특별자치시', '세종특별자치시 조치원읍 행복5길 12', '세종특별자치시 조치원읍 침산리 266-8', '다목적', '2', '130', '1)티나어린이집옆도로  2)침산2리주차장', '30', '', '044-300-2454', '36.6046748371', '127.2910413', '2019-09-20'], ['세종특별자치시', '세종특별자치시 한누리대로 422(어진동)', '', '다목적', '1', '130', '1)양지고 2)양지초 3)BRT북측끝 4)양지고', '30', '', '044-300-2454', '36.5013993926', '127.2616509635', '2019-09-20'], ['세종특별자치시', '세종특별자치시 보듬4로 111(도담동, 도램마을19단지)', '', '다목적', '1', '130', '1)도램마을1509동 2)도램마을1704동 3)도램마을1509동 4)1704동', '30', '', '044-300-2454', '36.5156812342', '127.2663790000', '2019-09-20'], ['세종특별자치시', '세종특별자치시 연기면 갈매로 554-36', '', '다목적', '1', '130', '1)양지고 2)도담초 3)도램마을17단지 4)양지고', '30', '', '044-300-2454', '36.5113084952', '127.2697398303', '2019-09-20'], ['세종특별자치시', '세종특별자치시 갈매로 512', '세종특별자치시 도담동 896', '다목적', '1', '130', '1)도램1414동공원 2)도램414동앞공원 3)청사방면 4)20단지방면', '30', '', '044-300-2454', '36.50875448', '127.2684672290', '2019-09-20'], ['세종특별자치시', '세종특별자치시 다솜1로 175', '세종특별자치시 도담동 717', '다목적', '1', '130', '1)도램8단지 2)도램1단지 3)보석빌딩 4)도램2단지', '30', '', '044-300-2454', '36.5134460901', '127.2549620187', '2019-09-20'], ['세종특별자치시', '세종특별자치시 방축1길 6-1(도담동)', '', '다목적', '1', '130', '1)주택부지 2)드롭탑 3)양지유치원 4)주택부지', '30', '', '044-300-2454', '36.5186251666', '127.2619634976', '2019-09-20'], ['세종특별자치시', '세종특별자치시 방축1길 16-13(도담동)', '', '다목적', '1', '130', '1)주택부지 2)주택부지 3)갈매로 4)주택부지', '30', '', '044-300-2454', '36.51977885', '127.2628515813', '2019-09-20'], ['세종특별자치시', '세종특별자치시 다솜1로 113', '세종특별자치시 도담동 831', '다목적', '1', '130', '1)도램1단지 2)홈플러스 3)홈플러스 4)범지기12단지', '30', '', '044-300-2454', '36.5082937884', '127.2572491599', '2019-09-20'], ['세종특별자치시', '세종특별자치시 연기면 갈운1길 133-24', '', '다목적', '1', '130', '1)은하수공원 2)도담동 3)정안IC 4)고가밑횡단보도', '30', '', '044-300-2454', '36.5259711455', '127.2764319765', '2019-09-20'], ['세종특별자치시', '세종특별자치시 나리로 43', '세종특별자치시 한솔동 973', '다목적', '1', '130', '1)첫마을6단지 2)첫마을5단지상가 3)한솔유치원 4)첫마을6단지쪽문', '30', '', '044-300-2454', '36.4761706204', '127.2549782268', '2019-09-20'], ['세종특별자치시', '세종특별자치시 나리로 43', '세종특별자치시 한솔동 972', '다목적', '1', '130', '1)한솔고 2)역사공원 3)축구장옆길 4)한솔고', '30', '', '044-300-2454', '36.4761706204', '127.2549782268', '2019-09-20'], ['세종특별자치시', '세종특별자치시 누리로34', '세종특별자치시 한솔동 972', '다목적', '1', '130', '1)첫마을5단지 2)첫마을7단지 3)첫마을6단지 4)첫마을5단지', '30', '', '044-300-2454', '36.4784245415', '127.2528029699', '2019-09-20'], ['세종특별자치시', '세종특별자치시 누리로 32', '세종특별자치시 한솔동 973', '다목적', '1', '130', '1)한솔고 2)첫마을5단지상가 3)한솔고 4)첫마을5단지상가', '30', '', '044-300-2454', '36.47751975', '127.2525234877', '2019-09-20'], ['세종특별자치시', '세종특별자치시 도움3로 37', '세종특별자치시 어진동 499', '다목적', '1', '130', '1)연양초 2)가재11단지 3)연양유치원 4)가재11단지', '30', '', '044-300-2454', '36.5030627228', '127.2559281044', '2019-09-20'], ['세종특별자치시', '세종특별자치시 보듬4로 41', '세종특별자치시 연기면 세종리 734-53', '다목적', '1', '130', '1)도램19단지 2)도램16단지 3)도램19단지 4)도램16단지', '30', '', '044-300-2454', '36.5142062551', '127.2634445567', '2019-09-20'], ['세종특별자치시', '세종특별자치시 달빛1로 251', '세종특별자치시 아름동 810', '다목적', '1', '130', '1)세종불루힐 2)주택부지 3)범지기3단지 4)세종블루힐', '30', '', '044-300-2454', '36.52172547', '127.2468880003', '2019-09-20'], ['세종특별자치시', '세종특별자치시 달빛1로 251', '세종특별자치시 아름동 832', '다목적', '1', '130', '1)국제고 2)주택부지 3)국제고 4)범지기3단지', '30', '', '044-300-2454', '36.5217500782', '127.2468880003', '2019-09-20'], ['세종특별자치시', '세종특별자치시 보듬3로 114', '세종특별자치시 아름동 1286', '다목적', '1', '130', '1)우체국 2)범지기5단지 3)고운뜰역사공원 4)범지기7단지', '30', '', '044-300-2454', '36.5123528492', '127.2468894081', '2019-09-20'], ['세종특별자치시', '세종특별자치시 달빛1로 151', '세종특별자치시 아름동 1322', '다목적', '1', '130', '1)아름중(조치원) 2)아름고(종촌동) 3)아름중(조치원) 4)아름고', '30', '', '044-300-2454', '36.5130086701', '127.2452482004', '2019-09-20'], ['세종특별자치시', '세종특별자치시 달빛2로 29(아름동)', '', '다목적', '1', '130', '1)범지기7단지 2)아름중(고운동) 3)아름유치원 4)범지기3단지', '30', '', '044-300-2454', '36.5151289680', '127.2448663845', '2019-09-20'], ['세종특별자치시', '세종특별자치시 보듬3로 104-19(아름동)', '', '다목적', '1', '130', '1)범지기311동(고운동) 2)국제고(조치원) 3)범지기10단지 4)범지기9단지(종촌동)', '30', '', '044-300-2454', '36.5122529284', '127.2498675262', '2019-09-20'], ['세종특별자치시', '세종특별자치시 보듬3로 104-19', '세종특별자치시 아름동 1291', '다목적', '1', '130', '1)가락22단지(고운동) 2)국제고 3)범지기10단지(도담동) 4)제천산책로(종촌동)', '30', '', '044-300-2454', '36.5122529284', '127.2498675262', '2019-09-20'], ['세종특별자치시', '', '세종특별자치시 조치원읍 신안리 77-2', '다목적', '3', '130', '', '30', '', '044-300-2454', '36.62408306', '127.2905079', '2019-09-20'], ['세종특별자치시', '', '세종특별자치시 전의면 영당리 86-1', '다목적', '3', '130', '', '30', '', '044-300-2454', '36.65485139', '127.187549', '2019-09-20'], ['세종특별자치시', '', '세종특별자치시 도담동 896', '다목적', '1', '130', '', '30', '', '044-300-2454', '36.5083009065', '127.2686978575', '2019-09-20']]\n"
          ],
          "name": "stdout"
        }
      ]
    }
  ]
}